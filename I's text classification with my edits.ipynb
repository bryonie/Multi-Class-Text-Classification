{
 "cells": [
  {
   "cell_type": "markdown",
   "metadata": {},
   "source": [
    "# Imports"
   ]
  },
  {
   "cell_type": "code",
   "execution_count": 16,
   "metadata": {},
   "outputs": [
    {
     "output_type": "stream",
     "name": "stdout",
     "text": "Collecting snowballstemmer\n  Downloading https://files.pythonhosted.org/packages/7d/4b/cdf1113a0e88b641893b814e9c36f69a6fda28cd88b62c7f0d858cde3166/snowballstemmer-2.0.0-py2.py3-none-any.whl (97kB)\nInstalling collected packages: snowballstemmer\nSuccessfully installed snowballstemmer-2.0.0\nYou are using pip version 19.0.3, however version 20.2b1 is available.\nYou should consider upgrading via the 'python -m pip install --upgrade pip' command.\n"
    }
   ],
   "source": [
    "!pip3 install snowballstemmer"
   ]
  },
  {
   "cell_type": "code",
   "execution_count": 2,
   "metadata": {},
   "outputs": [
    {
     "output_type": "error",
     "ename": "ModuleNotFoundError",
     "evalue": "No module named 'matplotlib'",
     "traceback": [
      "\u001b[1;31m---------------------------------------------------------------------------\u001b[0m",
      "\u001b[1;31mModuleNotFoundError\u001b[0m                       Traceback (most recent call last)",
      "\u001b[1;32m<ipython-input-2-a0d2faabd9e9>\u001b[0m in \u001b[0;36m<module>\u001b[1;34m\u001b[0m\n\u001b[1;32m----> 1\u001b[1;33m \u001b[1;32mimport\u001b[0m \u001b[0mmatplotlib\u001b[0m\u001b[1;33m.\u001b[0m\u001b[0mpyplot\u001b[0m \u001b[1;32mas\u001b[0m \u001b[0mplt\u001b[0m\u001b[1;33m\u001b[0m\u001b[1;33m\u001b[0m\u001b[0m\n\u001b[0m",
      "\u001b[1;31mModuleNotFoundError\u001b[0m: No module named 'matplotlib'"
     ]
    }
   ],
   "source": [
    "import matplotlib.pyplot as plt"
   ]
  },
  {
   "cell_type": "code",
   "execution_count": 3,
   "metadata": {},
   "outputs": [],
   "source": [
    "import pandas as pd\n",
    "import numpy as np"
   ]
  },
  {
   "cell_type": "code",
   "execution_count": 4,
   "metadata": {},
   "outputs": [],
   "source": [
    "from sklearn.model_selection import train_test_split, GridSearchCV\n",
    "from sklearn.linear_model import LogisticRegression\n",
    "from sklearn.neighbors import KNeighborsClassifier\n",
    "from sklearn.ensemble import RandomForestClassifier"
   ]
  },
  {
   "cell_type": "code",
   "execution_count": 5,
   "metadata": {},
   "outputs": [],
   "source": [
    "from sklearn.feature_extraction.text import TfidfVectorizer"
   ]
  },
  {
   "cell_type": "code",
   "execution_count": 17,
   "metadata": {},
   "outputs": [],
   "source": [
    "from snowballstemmer.dutch_stemmer import DutchStemmer\n",
    "from nltk.corpus import stopwords"
   ]
  },
  {
   "cell_type": "code",
   "execution_count": 8,
   "metadata": {},
   "outputs": [],
   "source": [
    "import re"
   ]
  },
  {
   "cell_type": "markdown",
   "metadata": {},
   "source": [
    "# Data Reading"
   ]
  },
  {
   "cell_type": "code",
   "execution_count": 9,
   "metadata": {},
   "outputs": [],
   "source": [
    "data = pd.read_excel('Heijmans data final.xlsx')"
   ]
  },
  {
   "cell_type": "code",
   "execution_count": 11,
   "metadata": {},
   "outputs": [],
   "source": [
    "data = data[['Categorie ongeval','Beschrijving incident']].dropna()"
   ]
  },
  {
   "cell_type": "code",
   "execution_count": 9,
   "metadata": {},
   "outputs": [
    {
     "name": "stdout",
     "output_type": "stream",
     "text": [
      "                        Categorie ongeval  \\\n",
      "0                              Aanrijding   \n",
      "1                              Aanrijding   \n",
      "2                              Aanrijding   \n",
      "3                              Aanrijding   \n",
      "4                              Aanrijding   \n",
      "...                                   ...   \n",
      "3302  Vallen (van personen of voorwerpen)   \n",
      "3303  Vallen (van personen of voorwerpen)   \n",
      "3304  Vallen (van personen of voorwerpen)   \n",
      "3305  Vallen (van personen of voorwerpen)   \n",
      "3306  Vallen (van personen of voorwerpen)   \n",
      "\n",
      "                                  Beschrijving incident  \n",
      "0     Materialen in de bus slingeren los. Imperiaal ...  \n",
      "1     Slachtoffer is aangereden in zijn bedrijfsauto...  \n",
      "2     Fietspad niet afgeschermd van werkverkeer/terr...  \n",
      "3     Aanrijding van een verkeersregelaar door een p...  \n",
      "4     Veegwagen van Wolfswinkel reed (rond 14:50)teg...  \n",
      "...                                                 ...  \n",
      "3302  Bij het legen / openen van een big bag is Henk...  \n",
      "3303  De sleuf is ingestort door te veel water in de...  \n",
      "3304  Liep met emmer met gereedschap naar de bus en ...  \n",
      "3305  Wilde vanaf een vloertje op 1 m boven maaiveld...  \n",
      "3306                                      Niet vermeld.  \n",
      "\n",
      "[3211 rows x 2 columns]\n"
     ]
    }
   ],
   "source": [
    "print(data)"
   ]
  },
  {
   "cell_type": "code",
   "execution_count": 10,
   "metadata": {},
   "outputs": [
    {
     "data": {
      "text/html": [
       "<div>\n",
       "<style scoped>\n",
       "    .dataframe tbody tr th:only-of-type {\n",
       "        vertical-align: middle;\n",
       "    }\n",
       "\n",
       "    .dataframe tbody tr th {\n",
       "        vertical-align: top;\n",
       "    }\n",
       "\n",
       "    .dataframe thead th {\n",
       "        text-align: right;\n",
       "    }\n",
       "</style>\n",
       "<table border=\"1\" class=\"dataframe\">\n",
       "  <thead>\n",
       "    <tr style=\"text-align: right;\">\n",
       "      <th></th>\n",
       "      <th>Categorie ongeval</th>\n",
       "      <th>Beschrijving incident</th>\n",
       "    </tr>\n",
       "  </thead>\n",
       "  <tbody>\n",
       "    <tr>\n",
       "      <th>count</th>\n",
       "      <td>3211</td>\n",
       "      <td>3211</td>\n",
       "    </tr>\n",
       "    <tr>\n",
       "      <th>unique</th>\n",
       "      <td>10</td>\n",
       "      <td>2831</td>\n",
       "    </tr>\n",
       "    <tr>\n",
       "      <th>top</th>\n",
       "      <td>Vallen (van personen of voorwerpen)</td>\n",
       "      <td>Er liggen teveel losliggende materialen op de ...</td>\n",
       "    </tr>\n",
       "    <tr>\n",
       "      <th>freq</th>\n",
       "      <td>1478</td>\n",
       "      <td>27</td>\n",
       "    </tr>\n",
       "  </tbody>\n",
       "</table>\n",
       "</div>"
      ],
      "text/plain": [
       "                          Categorie ongeval  \\\n",
       "count                                  3211   \n",
       "unique                                   10   \n",
       "top     Vallen (van personen of voorwerpen)   \n",
       "freq                                   1478   \n",
       "\n",
       "                                    Beschrijving incident  \n",
       "count                                                3211  \n",
       "unique                                               2831  \n",
       "top     Er liggen teveel losliggende materialen op de ...  \n",
       "freq                                                   27  "
      ]
     },
     "execution_count": 10,
     "metadata": {},
     "output_type": "execute_result"
    }
   ],
   "source": [
    "data.describe()"
   ]
  },
  {
   "cell_type": "code",
   "execution_count": 12,
   "metadata": {},
   "outputs": [],
   "source": [
    "data.columns = ['Category', 'Text']"
   ]
  },
  {
   "cell_type": "code",
   "execution_count": 14,
   "metadata": {},
   "outputs": [],
   "source": [
    "cats = ['Aanrijding',\n",
    "'Agressie en extreme lichamelijke inspanning',\n",
    "'Andere vormen van contact met voorwerpen',\n",
    "'BHV inzet op locatie',\n",
    "'Gevaarlijke stoffen, brand en explosies',\n",
    "'Machines en handgereedschap',\n",
    "'Vallen (van personen of voorwerpen)']\n"
   ]
  },
  {
   "cell_type": "code",
   "execution_count": 15,
   "metadata": {},
   "outputs": [],
   "source": [
    "data = data[data['Category'].isin(cats)]"
   ]
  },
  {
   "cell_type": "markdown",
   "metadata": {},
   "source": [
    "# Data Cleaning"
   ]
  },
  {
   "cell_type": "markdown",
   "metadata": {},
   "source": [
    "### The following are done to clean the data:\n",
    "- Lowering all the text\n",
    "- Removing dutch stopwords\n",
    "- Stemming"
   ]
  },
  {
   "cell_type": "code",
   "execution_count": 18,
   "metadata": {},
   "outputs": [],
   "source": [
    "dutch = DutchStemmer()"
   ]
  },
  {
   "cell_type": "code",
   "execution_count": 19,
   "metadata": {},
   "outputs": [],
   "source": [
    "all_stopwords = stopwords.words('dutch')"
   ]
  },
  {
   "cell_type": "code",
   "execution_count": 16,
   "metadata": {},
   "outputs": [
    {
     "name": "stdout",
     "output_type": "stream",
     "text": [
      "['de', 'en', 'van', 'ik', 'te', 'dat', 'die', 'in', 'een', 'hij', 'het', 'niet', 'zijn', 'is', 'was', 'op', 'aan', 'met', 'als', 'voor', 'had', 'er', 'maar', 'om', 'hem', 'dan', 'zou', 'of', 'wat', 'mijn', 'men', 'dit', 'zo', 'door', 'over', 'ze', 'zich', 'bij', 'ook', 'tot', 'je', 'mij', 'uit', 'der', 'daar', 'haar', 'naar', 'heb', 'hoe', 'heeft', 'hebben', 'deze', 'u', 'want', 'nog', 'zal', 'me', 'zij', 'nu', 'ge', 'geen', 'omdat', 'iets', 'worden', 'toch', 'al', 'waren', 'veel', 'meer', 'doen', 'toen', 'moet', 'ben', 'zonder', 'kan', 'hun', 'dus', 'alles', 'onder', 'ja', 'eens', 'hier', 'wie', 'werd', 'altijd', 'doch', 'wordt', 'wezen', 'kunnen', 'ons', 'zelf', 'tegen', 'na', 'reeds', 'wil', 'kon', 'niets', 'uw', 'iemand', 'geweest', 'andere']\n"
     ]
    }
   ],
   "source": [
    "print(all_stopwords)"
   ]
  },
  {
   "cell_type": "code",
   "execution_count": 20,
   "metadata": {},
   "outputs": [],
   "source": [
    "def clean_text(text):\n",
    "    text = text.lower() # Convert the text to lower case\n",
    "    text = re.sub(',', ' ', text) # Replace commas with an extra space\n",
    "    \n",
    "    text = re.sub('<.*?>', '', text) # Clean out any HTML tags\n",
    "    text = re.sub('\\s+',' ', text) # Replace multiple spaces with \n",
    "    \n",
    "    text = text.split()\n",
    "    \n",
    "    text = [re.sub('[^\\w]', '', i.rstrip()) for i in text if i not in all_stopwords] # Clean out stopwords\n",
    "    \n",
    "    text = dutch.stemWords(text)# Dutch Stemming\n",
    "    \n",
    "    text = ' '.join(text)\n",
    "    return text"
   ]
  },
  {
   "cell_type": "code",
   "execution_count": 21,
   "metadata": {},
   "outputs": [],
   "source": [
    "data['Text'] = data['Text'].apply(clean_text)"
   ]
  },
  {
   "cell_type": "markdown",
   "metadata": {},
   "source": [
    "# Resampling to have matching category counts"
   ]
  },
  {
   "cell_type": "markdown",
   "metadata": {},
   "source": [
    "#### In order for the categories to be evenly distributed they are upsampled to 400 if there are less"
   ]
  },
  {
   "cell_type": "code",
   "execution_count": 105,
   "metadata": {},
   "outputs": [],
   "source": [
    "sampled_dfs = []\n",
    "for cat in data['Category'].unique():\n",
    "    \n",
    "    temp_df = data[data['Category']==cat]\n",
    "    s = 400 if temp_df.shape[0] < 400 else temp_df.shape[0] # Upsample t\n",
    "    temp_df = temp_df.sample(s, replace=True).reset_index(drop=True)\n",
    "    sampled_dfs.append(temp_df)\n",
    "\n",
    "sampled_df = pd.concat(sampled_dfs).reset_index(drop=True)"
   ]
  },
  {
   "cell_type": "code",
   "execution_count": 37,
   "metadata": {},
   "outputs": [],
   "source": [
    "class BrySample:\n",
    "    import pandas as pd\n",
    "\n",
    "    @staticmethod\n",
    "    def upsample(data_df, x, y, charlen = 400):\n",
    "        x_up, y_up = [], []\n",
    "        for xcat, ycat in zip(x.unique(), y.unique()):\n",
    "            xtemp = data_df[x == xcat]\n",
    "            ytemp = data_df[y == ycat]\n",
    "            xs = charlen if xtemp.shape[0] < 400 else xtemp.shape[0] # Upsample t\n",
    "            ys = charlen if ytemp.shape[0] < 400 else ytemp.shape[0] # Upsample t\n",
    "            xtemp = xtemp.sample(xs, replace=True).reset_index(drop=True)\n",
    "            ytemp = ytemp.sample(ys, replace=True).reset_index(drop=True)\n",
    "            x_up.append(xtemp)\n",
    "            y_up.append(ytemp)\n",
    "\n",
    "        X_Up = pd.concat(x_up).reset_index(drop=True) #pd.Series(x_up)\n",
    "        Y_Up = pd.concat(y_up).reset_index(drop=True) #pd.Series(y_up)\n",
    "\n",
    "        return X_Up,Y_Up\n",
    "\n",
    "    @staticmethod\n",
    "    def downsample():\n",
    "        print(\"Not Yet\")"
   ]
  },
  {
   "cell_type": "code",
   "execution_count": 32,
   "metadata": {},
   "outputs": [],
   "source": [
    "x_upsample, y_upsameple = BrySample.upsample(data, data[\"Text\"], data[\"Category\"], 400)"
   ]
  },
  {
   "cell_type": "code",
   "execution_count": 33,
   "metadata": {},
   "outputs": [
    {
     "output_type": "stream",
     "name": "stdout",
     "text": "7936\n5600\n"
    }
   ],
   "source": [
    "print(y_upsameple.size)\n",
    "print(x_upsample.size)"
   ]
  },
  {
   "cell_type": "code",
   "execution_count": 34,
   "metadata": {},
   "outputs": [
    {
     "output_type": "stream",
     "name": "stdout",
     "text": "Category                                               Text\n0     Aanrijding  material bus slinger los imperiaal aangevraagd...\n1     Aanrijding  material bus slinger los imperiaal aangevraagd...\n2     Aanrijding  material bus slinger los imperiaal aangevraagd...\n3     Aanrijding  material bus slinger los imperiaal aangevraagd...\n4     Aanrijding  material bus slinger los imperiaal aangevraagd...\n...          ...                                                ...\n2795  Aanrijding  wilco liep heftruck chauffeur vrag terwijl bez...\n2796  Aanrijding  wilco liep heftruck chauffeur vrag terwijl bez...\n2797  Aanrijding  wilco liep heftruck chauffeur vrag terwijl bez...\n2798  Aanrijding  wilco liep heftruck chauffeur vrag terwijl bez...\n2799  Aanrijding  wilco liep heftruck chauffeur vrag terwijl bez...\n\n[2800 rows x 2 columns]\n"
    }
   ],
   "source": [
    "print(x_upsample)"
   ]
  },
  {
   "cell_type": "code",
   "execution_count": 100,
   "metadata": {},
   "outputs": [
    {
     "name": "stdout",
     "output_type": "stream",
     "text": [
      "                                 Category  \\\n",
      "0                              Aanrijding   \n",
      "1                              Aanrijding   \n",
      "2                              Aanrijding   \n",
      "3                              Aanrijding   \n",
      "4                              Aanrijding   \n",
      "...                                   ...   \n",
      "1473  Vallen (van personen of voorwerpen)   \n",
      "1474  Vallen (van personen of voorwerpen)   \n",
      "1475  Vallen (van personen of voorwerpen)   \n",
      "1476  Vallen (van personen of voorwerpen)   \n",
      "1477  Vallen (van personen of voorwerpen)   \n",
      "\n",
      "                                                   Text  \n",
      "0                      medewerker werk veiligheidsruimt  \n",
      "1                           ondeug transport mantelbuiz  \n",
      "2          vast verlicht brandt a73 hrr afzet geplaatst  \n",
      "3     bus rijstrok 1 120kmu middenberm geleiderail g...  \n",
      "4     helmpicht word iederen opgevolgd veilgheidsves...  \n",
      "...                                                 ...  \n",
      "1473                         vloer steiger overal dicht  \n",
      "1474  onveil situatie definitiev situatie bereik ond...  \n",
      "1475  nereda reactor 5 werk harnasgordel 2 hoogwerke...  \n",
      "1476                     situatie zaagplekzaaglod beter  \n",
      "1477                                     pallet looppad  \n",
      "\n",
      "[3968 rows x 2 columns]\n"
     ]
    }
   ],
   "source": [
    "print(sampled_df)"
   ]
  },
  {
   "cell_type": "code",
   "execution_count": 20,
   "metadata": {},
   "outputs": [],
   "source": [
    "sampled_dfs = []\n",
    "for cat in data['Category'].unique():\n",
    "    \n",
    "    temp_df = data[data['Category']==cat]\n",
    "    s = 400 if temp_df.shape[0] < 400 else temp_df.shape[0] # Upsample t\n",
    "    temp_df = temp_df.sample(s, replace=True).reset_index(drop=True)\n",
    "    sampled_dfs.append(temp_df)\n",
    "\n",
    "sampled_df1 = pd.concat(sampled_dfs)"
   ]
  },
  {
   "cell_type": "code",
   "execution_count": 21,
   "metadata": {},
   "outputs": [
    {
     "name": "stdout",
     "output_type": "stream",
     "text": [
      "                                 Category  \\\n",
      "0                              Aanrijding   \n",
      "1                              Aanrijding   \n",
      "2                              Aanrijding   \n",
      "3                              Aanrijding   \n",
      "4                              Aanrijding   \n",
      "...                                   ...   \n",
      "1473  Vallen (van personen of voorwerpen)   \n",
      "1474  Vallen (van personen of voorwerpen)   \n",
      "1475  Vallen (van personen of voorwerpen)   \n",
      "1476  Vallen (van personen of voorwerpen)   \n",
      "1477  Vallen (van personen of voorwerpen)   \n",
      "\n",
      "                                                   Text  \n",
      "0     heijman werkjass waterafstot hierdor vak refle...  \n",
      "1        cluster 3 shovelmachinist rijd bellend terrein  \n",
      "2     n506 florasingel barrier lang rijban stat op s...  \n",
      "3     incident eerst instantie genoteerd schademeld ...  \n",
      "4     ter plat slop boerderij sleuf gegrav vlak naas...  \n",
      "...                                                 ...  \n",
      "1473  aanrijd werkplek afzethek verplaatst busj kunn...  \n",
      "1474                    kantplank geplaatst leuning lag  \n",
      "1475                            stapt funder stuk beton  \n",
      "1476  nereda 3 wtb tijden opbouw spiering bouwkran r...  \n",
      "1477  getroff 1 meter hoogt industrieel trap began g...  \n",
      "\n",
      "[3968 rows x 2 columns]\n"
     ]
    }
   ],
   "source": [
    "print (sampled_df1)"
   ]
  },
  {
   "cell_type": "code",
   "execution_count": 19,
   "metadata": {},
   "outputs": [],
   "source": [
    "x = sampled_df['Text']\n",
    "y = sampled_df['Category']"
   ]
  },
  {
   "cell_type": "code",
   "execution_count": 98,
   "metadata": {},
   "outputs": [
    {
     "name": "stdout",
     "output_type": "stream",
     "text": [
      "0       vind dagelijk control omleid plat weggebruiker...\n",
      "1       auto tunnelbuis gered terwijl afgeslot was fou...\n",
      "2                   bus kentekenheeft overgewicht inschat\n",
      "3       betreft situatie war getwijfeld juist maatrege...\n",
      "4       medewerker draagt refecter hesjejas waardor aa...\n",
      "                              ...                        \n",
      "3963    medewerker stat werk werkbank bedrijfsbus stat...\n",
      "3964    uitgegled bouwbord los grond lag loss vrachtwa...\n",
      "3965                              schaftket schon project\n",
      "3966    steigerdel hand afstap gemaakt piepschuim trap...\n",
      "3967    vlechtwerk uitkijkpunt onderdoorgang uitvoer l...\n",
      "Name: Text, Length: 3968, dtype: object\n"
     ]
    }
   ],
   "source": [
    "print(x)"
   ]
  },
  {
   "cell_type": "code",
   "execution_count": 23,
   "metadata": {},
   "outputs": [],
   "source": [
    "sampled_dfs = []\n",
    "for cat in data['Category'].unique():\n",
    "    \n",
    "    temp_df = data[data['Category']==cat]\n",
    "    s = 400 if temp_df.shape[0] < 400 else temp_df.shape[0] # Upsample t\n",
    "    temp_df = temp_df.sample(s, replace=True).reset_index(drop=True)\n",
    "    sampled_dfs.append(temp_df)\n",
    "\n",
    "sampled_df = pd.concat(sampled_dfs).reset_index(drop=True)"
   ]
  },
  {
   "cell_type": "code",
   "execution_count": 24,
   "metadata": {},
   "outputs": [],
   "source": [
    "x = sampled_df['Text']\n",
    "y = sampled_df['Category']"
   ]
  },
  {
   "cell_type": "markdown",
   "metadata": {},
   "source": [
    "# Train, Test Split"
   ]
  },
  {
   "cell_type": "markdown",
   "metadata": {},
   "source": [
    "### Validation is done by cross validation, so only test set is split initially"
   ]
  },
  {
   "cell_type": "code",
   "execution_count": 35,
   "metadata": {},
   "outputs": [
    {
     "output_type": "error",
     "ename": "NameError",
     "evalue": "name 'x' is not defined",
     "traceback": [
      "\u001b[1;31m---------------------------------------------------------------------------\u001b[0m",
      "\u001b[1;31mNameError\u001b[0m                                 Traceback (most recent call last)",
      "\u001b[1;32m<ipython-input-35-d39b37c93148>\u001b[0m in \u001b[0;36m<module>\u001b[1;34m\u001b[0m\n\u001b[1;32m----> 1\u001b[1;33m \u001b[0mX\u001b[0m\u001b[1;33m,\u001b[0m \u001b[0mtest_x\u001b[0m\u001b[1;33m,\u001b[0m \u001b[0my\u001b[0m\u001b[1;33m,\u001b[0m \u001b[0mtest_y\u001b[0m \u001b[1;33m=\u001b[0m \u001b[0mtrain_test_split\u001b[0m\u001b[1;33m(\u001b[0m\u001b[0mx\u001b[0m\u001b[1;33m,\u001b[0m \u001b[0my\u001b[0m\u001b[1;33m,\u001b[0m \u001b[0mtest_size\u001b[0m\u001b[1;33m=\u001b[0m\u001b[1;36m0.15\u001b[0m\u001b[1;33m,\u001b[0m \u001b[0mrandom_state\u001b[0m\u001b[1;33m=\u001b[0m\u001b[1;36m0\u001b[0m\u001b[1;33m,\u001b[0m \u001b[0mshuffle\u001b[0m\u001b[1;33m=\u001b[0m\u001b[1;32mTrue\u001b[0m\u001b[1;33m)\u001b[0m\u001b[1;33m\u001b[0m\u001b[1;33m\u001b[0m\u001b[0m\n\u001b[0m",
      "\u001b[1;31mNameError\u001b[0m: name 'x' is not defined"
     ]
    }
   ],
   "source": [
    "X, test_x, y, test_y = train_test_split(x, y, test_size=0.15, random_state=0, shuffle=True)"
   ]
  },
  {
   "cell_type": "markdown",
   "metadata": {},
   "source": [
    "# Data Transformation"
   ]
  },
  {
   "cell_type": "code",
   "execution_count": 36,
   "metadata": {},
   "outputs": [
    {
     "output_type": "error",
     "ename": "NameError",
     "evalue": "name 'X' is not defined",
     "traceback": [
      "\u001b[1;31m---------------------------------------------------------------------------\u001b[0m",
      "\u001b[1;31mNameError\u001b[0m                                 Traceback (most recent call last)",
      "\u001b[1;32m<ipython-input-36-cf5a1e71784d>\u001b[0m in \u001b[0;36m<module>\u001b[1;34m\u001b[0m\n\u001b[0;32m      1\u001b[0m \u001b[0mtf\u001b[0m \u001b[1;33m=\u001b[0m \u001b[0mTfidfVectorizer\u001b[0m\u001b[1;33m(\u001b[0m\u001b[1;33m)\u001b[0m\u001b[1;33m\u001b[0m\u001b[1;33m\u001b[0m\u001b[0m\n\u001b[1;32m----> 2\u001b[1;33m \u001b[0mtf\u001b[0m\u001b[1;33m.\u001b[0m\u001b[0mfit\u001b[0m\u001b[1;33m(\u001b[0m\u001b[0mX\u001b[0m\u001b[1;33m)\u001b[0m\u001b[1;33m\u001b[0m\u001b[1;33m\u001b[0m\u001b[0m\n\u001b[0m",
      "\u001b[1;31mNameError\u001b[0m: name 'X' is not defined"
     ]
    }
   ],
   "source": [
    "tf = TfidfVectorizer()\n",
    "tf.fit(X)\n"
   ]
  },
  {
   "cell_type": "code",
   "execution_count": 27,
   "metadata": {},
   "outputs": [
    {
     "data": {
      "text/plain": [
       "6058"
      ]
     },
     "execution_count": 27,
     "metadata": {},
     "output_type": "execute_result"
    }
   ],
   "source": [
    "len(tf.get_feature_names())\n"
   ]
  },
  {
   "cell_type": "code",
   "execution_count": 21,
   "metadata": {},
   "outputs": [
    {
     "name": "stdout",
     "output_type": "stream",
     "text": [
      "['0007', '010914', '02', '0204', '020517', '0230', '0400', '04000617', '050914', '06102017', '0624', '070', '070115', '0730', '080', '080517', '08092017', '0ngever', '10', '100', '1000', '1000bar', '1000kg', '1000x38x89', '10012015', '10102014', '101117', '10122015', '1020', '10517', '10cm', '10de', '10kv', '10x', '11', '1100', '1100u', '112', '112016', '1130', '12', '120', '12012018', '120kmu', '1220', '125', '126565', '13', '1300ur', '130614', '132', '13431', '14', '140', '1400ur', '140819', '14102018', '14112017', '1430', '1450teg', '14793', '15', '150', '1500', '150kv', '152015', '1530', '15341', '15b', '16', '160', '160mm', '1615', '16288', '16299', '1630', '17', '170m', '17112014', '1732017', '1735', '1745010006', '178m', '18', '180', '180818', '180ton', '181114', '19', '19102016', '19185', '19418', '19907', '1cm', '1e', '1m', '1m80', '1mtr', '1mtr50', '1ste', '20', '2000', '2000kg', '2000mm', '20011', '20022018', '2005', '2006', '200mm', '2010', '2014', '2015', '2016', '2017', '20171111', '2018', '2019', '209', '20x20', '21', '21022017', '2130', '2160', '22', '220', '22032017', '220ps', '220v', '22102014', '2212019', '2213', '2225kg', '22567', '23', '230414', '23042018', '230v', '232015', '23419', '24', '240315', '24102016', '24217', '2422014', '24264', '2484', '25', '250', '25217', '25918', '25cm', '25m', '260', '26022018', '26032013', '266', '26746301', '2692018', '27', '27072015', '28', '28032013', '28092015', '28102013', '29072015', '290814', '2962017', '297', '2cm', '2de', '2e', '2m', '2mtr', '2mvan', '2x2m', '2xhoofd', '30', '300', '30012020', '3050cm', '30km', '31', '31114', '3140', '315', '32', '325', '32a', '36', '37', '3750', '380v', '3angl', '3e', '3x1m', '40', '400', '400mm', '401', '40cm', '4250', '43', '430', '45', '46', '46kg', '4800', '49', '4e', '4m', '50', '50003159', '50cm', '50cmx50cmpatrick', '50kv', '50x12x10', '530', '55', '580', '5e', '5kg', '5m', '5x10mm2', '5x15', '60', '600', '6090', '60cm', '630', '662017', '6e', '6sport', '70', '700', '70kmu', '74', '75', '750', '760', '80', '815', '830', '852017', '87460n', '90', '900', '930', '930ur', '96b', '9748de', '98', 'a1', 'a10', 'a12', 'a2', 'a27', 'a28', 'a4', 'a50', 'a59', 'a73', 'a9', 'aa', 'aalburg', 'aan', 'aanbevel', 'aanbied', 'aanbor', 'aanbouw', 'aanbreng', 'aanbrengenplant', 'aandacht', 'aandachtspunt', 'aandoen', 'aandraai', 'aanduid', 'aanduw', 'aangebod', 'aangebracht', 'aangedrev', 'aangeduwd', 'aangeeft', 'aangegan', 'aangegev', 'aangehoud', 'aangekaard', 'aangekom', 'aangekomen245300', 'aangekreg', 'aangelad', 'aangeleverd', 'aangelijnd', 'aangelop', 'aangemaakt', 'aangenom', 'aangepast', 'aangepikt', 'aangeraakt', 'aangered', 'aangeschaft', 'aangeslot', 'aangesprok', 'aangestan', 'aangestot', 'aangestuurd', 'aangetroff', 'aangetroffendie', 'aangev', 'aangevall', 'aangevang', 'aangevraagd', 'aangevuld', 'aangewez', 'aangezet', 'aangezicht', 'aangezien', 'aanhanger', 'aanhangerrijd', 'aanhangertrailer', 'aanhangkar', 'aanhecht', 'aanhet', 'aanklapt', 'aanknop', 'aankom', 'aankomst', 'aankomt', 'aankwam', 'aanlad', 'aanleg', 'aanlegg', 'aanleid', 'aanlijnbeveil', 'aanlijnvoorzien', 'aanmer', 'aannam', 'aannemer', 'aannemersbedrijf', 'aanpass', 'aanpik', 'aanrad', 'aanrak', 'aanrakingsveil', 'aanrijd', 'aanrijdbeveil', 'aanrijdgevar', 'aanrijroutes', 'aanslagplat', 'aanslat', 'aansluit', 'aansluitkabel', 'aansluitmog', 'aansluitpunt', 'aansluitstrok', 'aansprakelijkheidsstell', 'aansprek', 'aanstek', 'aantal', 'aantik', 'aanton', 'aanval', 'aanvang', 'aanvoer', 'aanvoerleid', 'aanvrag', 'aanvull', 'aanwez', 'aanwijz', 'aanwijzer', 'aanzet', 'aanzien', 'aard', 'aardblok', 'aardekabel', 'aarding', 'aardlekinstallatie', 'aardlekschakelar', 'aarl', 'aart', 'ab', 'abad', 'abg', 'aboma', 'abrupt', 'absorber', 'ac', 'acceptabel', 'accu', 'accus', 'accuschroefmachin', 'achter', 'achteraf', 'achterdeur', 'achtergeblev', 'achterhal', 'achterhoofd', 'achterkant', 'achterklep', 'achterlat', 'achterlop', 'achternet', 'achterop', 'achteropkom', 'achterover', 'achterovergevall', 'achterstevor', 'achterstuk', 'achteruit', 'achteruitrij', 'achteruitrijcamera', 'achteruitrijd', 'achterwaart', 'achterwand', 'achterweg', 'achterwiel', 'achterzijd', 'acs', 'actie', 'actielijst', 'acties', 'actiewag', 'activer', 'activiteit', 'actueel', 'acut', 'ad', 'adembescherm', 'adequat', 'ader', 'admi', 'adres', 'adri', 'advies', 'aed', 'aelber', 'af', 'afbaken', 'afbeeld', 'afbrak', 'afbram', 'afbrand', 'afbrek', 'afbuig', 'afdak', 'afdal', 'afdek', 'afdekkapp', 'afdekstrip', 'afdel', 'afduwpunt', 'afgebrok', 'afgebrokenomgebog', 'afgedekt', 'afgedicht', 'afgedopt', 'afgegled', 'afgeisoleerd', 'afgekeurd', 'afgeklemd', 'afgeknipt', 'afgekom', 'afgekoppeld', 'afgeleid', 'afgelop', 'afgelost', 'afgemaakt', 'afgemaaktdoorgewerkt', 'afgepikt', 'afgeplakt', 'afgeprijsd', 'afgeremd', 'afgeschermd', 'afgescheurd', 'afgeslep', 'afgeslot', 'afgesned', 'afgesprok', 'afgestapt', 'afgestemd', 'afgestuurd', 'afgevoerd', 'afgeworp', 'afgezaagd', 'afgezet', 'afhal', 'afhang', 'afklopp', 'afknapt', 'afkomst', 'afkoppel', 'afkoppelenband', 'afkwam', 'aflop', 'afneemt', 'afpell', 'afpik', 'afrijbeun', 'afrit', 'afs', 'afscheid', 'afscherm', 'afschermingsplank', 'afscheurd', 'afscheurdemper', 'afscheurt', 'afschof', 'afschrijv', 'afschuift', 'afschuiv', 'afslag', 'afsluier', 'afsluit', 'afsluiter', 'afsluitergroep', 'afsnijd', 'afsprak', 'afstand', 'afstandbedien', 'afstandhouder', 'afstap', 'afstapj', 'afstapp', 'afstripp', 'afstrooi', 'aftank', 'aftapp', 'aftapwerkzaa', 'afteken', 'aftimmer', 'aftrill', 'afval', 'afvalconainer', 'afvalcontainer', 'afvalwater', 'afviel', 'afvoer', 'afvoerleid', 'afwez', 'afwijk', 'afzag', 'afzak', 'afzet', 'afzethek', 'afzetlint', 'afzuig', 'afzuiginstallatie', 'age', 'aggregat', 'agressie', 'ai', 'airbag', 'airco', 'aircraft', 'airsid', 'akkoord', 'aktiewag', 'alarmkaart', 'albert', 'alcoholgebruik', 'alcoholvrij', 'aldus', 'aler', 'alex', 'alexander', 'algemen', 'alhoewel', 'ali', 'all', 'allemal', 'allen', 'allereerst', 'alluminium', 'alph', 'als', 'alsnog', 'aluminium', 'alvoren', 'alwar', 'ambulanc', 'ambulancedienst', 'amc', 'amfibiescherm', 'ammoniak', 'amsterdam', 'an', 'ander', 'anderhalv', 'anderkant', 'anderzijd', 'andr', 'andres', 'anet', 'ang', 'anker', 'ankerpunt', 'ankerrij', 'ankerscherm', 'antibiotica', 'antizicht', 'antonius', 'apart', 'apeldoorn', 'apot', 'app', 'apparat', 'april', 'arbeid', 'arbeidsgerelateerd', 'arbeidsinspectie', 'arbeidsmiddel', 'arbeidstherapie', 'areaal', 'arie', 'arjan', 'arm', 'armatur', 'armbreuk', 'armenben', 'armonta', 'arno', 'arnold', 'arriveerd', 'art', 'arthur', 'as', 'asbest', 'asbesthoud', 'asbestlijk', 'asbestsaner', 'asbestverdacht', 'asc', 'asclijst', 'asfalt', 'asfaltcentral', 'asfaltdel', 'asfalter', 'asfalteringswerkzam', 'asfaltfundatie', 'asfaltket', 'asfaltkleeflag', 'asfaltspreidmachin', 'asfaltverhard', 'asfaltverwerk', 'asfaltwag', 'asfaltwerkzam', 'asset', 'assister', 'atrap', 'attema', 'attractie', 'aub', 'audit', 'auditor', 'augustus', 'autistisch', 'auto', 'autogordel', 'autolaadkran', 'automatisch', 'automobilist', 'automobilst', 'autorijd', 'autos', 'avond', 'az', 'azelo', 'b1500', 'b4b', 'baakschildj', 'baakvoet', 'baco', 'badding', 'badkamer', 'baffl', 'bag', 'bak', 'baken', 'balan', 'baleman', 'balie', 'balk', 'balkj', 'balkjes', 'balklag', 'balkman', 'balkon', 'balkschoen', 'ballast', 'ballastblok', 'ballastker', 'ballon', 'bam', 'ban', 'band', 'bandeler', 'bandenkran', 'bandenzag', 'bandj', 'bandjes', 'bankschroef', 'barrier', 'barrièr', 'barry', 'basculekelder', 'baseredn', 'basis', 'basisclassificatie', 'bassahan', 'bastaard', 'batches', 'bauer', 'bbqs', 'bebord', 'bedelv', 'bedien', 'bediend', 'bedienenschoonmak', 'bediener', 'bedieningd', 'bedient', 'bedoel', 'bedoeld', 'bedolv', 'bedrijf', 'bedrijfsauto', 'bedrijfsbus', 'bedrijfsleid', 'bedrijfsleider', 'bedrijfswag', 'beeindig', 'beekberg', 'beenknie', 'beentjes', 'beetj', 'beg', 'began', 'begeleid', 'begeleider', 'begeleidingpatrol', 'beggr', 'begin', 'beginn', 'begon', 'begonn', 'begrep', 'begrijp', 'behalv', 'behandel', 'behandelar', 'behandeld', 'beheersmaatregel', 'behoev', 'behoort', 'behor', 'behoud', 'behulp', 'bei', 'beid', 'beitel', 'bekabel', 'bekek', 'bekend', 'bekertjes', 'bekijk', 'bekist', 'bekister', 'bekistingsolie', 'bekistingspanel', 'bekistingsplat', 'bekistingsschot', 'beklemd', 'beklemmingsgevar', 'beklimm', 'bekneld', 'beknell', 'beknellingsgevar', 'beknopt', 'belad', 'beland', 'belangrijkst', 'belast', 'belastenhij', 'beld', 'belemmerd', 'bell', 'bellend', 'belop', 'bemal', 'bemoeilijkt', 'ben', 'benam', 'bened', 'benny', 'benodigd', 'beoordeeld', 'beoordel', 'bepaald', 'bepal', 'bepekt', 'beperk', 'beperkt', 'beplat', 'bereik', 'berg', 'berging', 'bergingswerkzam', 'bericht', 'berijk', 'berm', 'bermblok', 'bert', 'beschad', 'beschadigd', 'bescherm', 'beschermd', 'beschermkap', 'beschik', 'beschikt', 'beschrijft', 'beschrijv', 'beslat', 'beslist', 'beslot', 'besluit', 'besmeurd', 'besprek', 'besprok', 'best', 'bestaand', 'bestan', 'bestat', 'bestcon', 'bestelauto', 'besteld', 'bestell', 'bestrat', 'bestuurder', 'bestuurderszijd', 'bet', 'beter', 'beton', 'betonbakinstallatiekoker', 'betonband', 'betonblok', 'betonbouw', 'betonbrok', 'betonbroodjes', 'betoniet', 'betonietleid', 'betonijzer', 'betonijzerbuigmachin', 'betonijzernet', 'betonkolom', 'betonlag', 'betonligger', 'betonn', 'betonoppervlak', 'betonoppvervlak', 'betonplafond', 'betonplat', 'betonplexplat', 'betonpoer', 'betonpomp', 'betonprop', 'betonpuin', 'betonreparatie', 'betonsten', 'betonstort', 'betonvloer', 'betonwand', 'betonwerkzam', 'betred', 'betreff', 'betreft', 'betreur', 'betrof', 'betrok', 'betrokken', 'beugel', 'beur', 'bevang', 'bevat', 'beveil', 'bever', 'bevest', 'bevestigd', 'bevestigendor', 'bevestigt', 'bevind', 'bevindt', 'bevocht', 'bevoegd', 'bevond', 'bevoorrad', 'bevorderd', 'bevrijd', 'bevror', 'bewandeld', 'beweegt', 'beweg', 'bewerk', 'bewog', 'bewoner', 'bewoonster', 'bewust', 'bewustzijn', 'bezeerd', 'bezeert', 'bezig', 'bezit', 'bezocht', 'bezoek', 'bezoeker', 'bezoekster', 'bezwek', 'bft', 'bgg', 'bhv', 'bhver', 'bhvmiddel', 'bhvplan', 'bicep', 'bied', 'biedt', 'bier', 'big', 'bigbag', 'biho', 'bij', 'bijbehor', 'bijf', 'bijgeluid', 'bijgeslot', 'bijgevoegd', 'bijlag', 'bijna', 'bijrijder', 'bijstur', 'bijv', 'bijvoorbeeld', 'bijzonder', 'bind', 'binn', 'binnenbuis', 'binnendek', 'binnendeur', 'binnengan', 'binnenhoek', 'binnenhoofd', 'binnenkant', 'binnenkomst', 'binnenkort', 'binnenleid', 'binnenleun', 'binnenleuningbeugel', 'binnenpijp', 'binnenplaatszijd', 'binnenplat', 'binnenr', 'binnenrijd', 'binnenstaander', 'binnenzijd', 'birkhoff', 'bit', 'bitj', 'bitum', 'bitumenbak', 'bitumenrup', 'bl', 'blauw', 'blauwbek', 'blauwebeur', 'blauwkan', 'blef', 'blek', 'blesseerd', 'blessur', 'bliek', 'blijft', 'blijk', 'blijkbar', 'blijkt', 'blijv', 'blijvend', 'blik', 'bloed', 'bloedblar', 'bloemetj', 'blok', 'blokj', 'blokkeerd', 'blokkenlijmer', 'blootgesteld', 'blootstell', 'blot', 'blusleid', 'blusmiddel', 'blusser', 'blust', 'bmc', 'bmi', 'bmimap', 'bob', 'bocht', 'bodem', 'bodemgesteld', 'boekel', 'boekt', 'boel', 'boerderij', 'bog', 'bok', 'bolder', 'bom', 'boogaard', 'boomkruin', 'boompal', 'boomstamm', 'boomstronk', 'boomzon', 'boonzaaier', 'boorgaatjes', 'boorhamer', 'boorkop', 'boormachin', 'boormotor', 'boorstandaard', 'boorstang', 'boorstell', 'boortechniek', 'boorwag', 'boorwerkzam', 'bootj', 'bor', 'bord', 'bordes', 'bordesplank', 'bordess', 'bordj', 'borg', 'borgbout', 'borging', 'borst', 'borstel', 'borstkas', 'borstkast', 'borststrek', 'bos', 'bosch', 'bossebroek', 'bot', 'botj', 'botjes', 'botsabsorber', 'botsabsorberchauffeur', 'botsing', 'botst', 'bout', 'bouw', 'bouwaansluit', 'bouwbegeleid', 'bouwbord', 'bouwdel', 'bouwer', 'bouwgebied', 'bouwhek', 'bouwhelm', 'bouwkast', 'bouwket', 'bouwkomet', 'bouwkran', 'bouwkuip', 'bouwkund', 'bouwlag', 'bouwlamp', 'bouwlift', 'bouwlocatie', 'bouwplaats', 'bouwplat', 'bouwput', 'bouwstempel', 'bouwstrom', 'bouwterrein', 'bouwterreinwerkplek', 'bouwverker', 'bouwverlicht', 'bouwweg', 'bouwwerf', 'bouwwerk', 'bouwzag', 'bouwzeil', 'bov', 'bovenaf', 'bovenan', 'bovenarm', 'bovenbelast', 'bovenben', 'bovendien', 'bovendorpel', 'bovengeleg', 'bovengenoemd', 'bovenhand', 'bovenin', 'boveninstek', 'bovenkant', 'bovenlag', 'bovenligg', 'bovenloopkran', 'bovenop', 'bovenst', 'bovenstaand', 'bovenstuk', 'bovenverdiep', 'bovenzijd', 'bp', 'bpmvrij', 'br', 'brabotech', 'brak', 'bram', 'brancard', 'branch', 'brand', 'brandbar', 'brandblusmiddel', 'brandblusser', 'brandblusvoorzien', 'branderbed', 'branderbrandstof', 'brandgevar', 'brandklepp', 'brandkran', 'brandmelder', 'brandmeldinstallatie', 'brandslang', 'brandslanghaspel', 'brandt', 'brandwer', 'brandwerkzam', 'brandwond', 'bred', 'breedplaatvloer', 'breedplat', 'breedt', 'breekijzer', 'breekwerkzam', 'breijer', 'brek', 'breman', 'breng', 'brengenin', 'brengt', 'bresken', 'breuk', 'breur', 'brief', 'bril', 'brildrager', 'brl9101', 'broek', 'brok', 'brom', 'bron', 'bronbemal', 'broodj', 'broodjes', 'brug', 'brugdek', 'brugg', 'brugsteun', 'bruikbar', 'bruyn', 'bryan', 'bs1', 'btl', 'btsf92', 'buffer', 'buffet', 'buig', 'buigtang', 'buik', 'buis', 'buisinbuisrelin', 'buisinstallatie', 'buiskachel', 'buispal', 'buit', 'buitenberm', 'buitendeur', 'buitendienststell', 'buitenhoek', 'buitenhoofd', 'buitenkant', 'buitenkran', 'buitenlamp', 'buitenstaander', 'buitenzijd', 'buitink', 'buiz', 'buk', 'buko', 'bult', 'bumper', 'bundel', 'bundelbandj', 'bunt', 'bureau', 'bureaustoel', 'burger', 'bus', 'busban', 'businnes', 'busj', 'buurt', 'bv', 'by', 'bzo', 'ca', 'ca0815u', 'cabin', 'caddy', 'calamiteit', 'calamiteitenoefen', 'calamiteitentelefon', 'calduran', 'camera', 'cameras', 'campagn', 'campus', 'caoer', 'capaciteit', 'carreiras', 'casco', 'caspar', 'cat', 'categorie', 'caterpillar', 'cbsleuf', 'ccw', 'cdl', 'cement', 'centerp', 'centerpenn', 'centimeter', 'central', 'centrum', 'certificat', 'certified', 'ces', 'cf', 'ch', 'chaos', 'chaotisch', 'chauffeur', 'chauffuer', 'check', 'chefmonteur', 'cilinder', 'cilleken', 'circa', 'cirkelzag', 'citat', 'cityhekwerk', 'civiel', 'cklemm', 'clipj', 'cluster', 'cm', 'cnteurop', 'coach', 'coating', 'colasit', 'colinda', 'collega', 'collegas', 'collegezal', 'combinatie', 'combisaf', 'comera', 'communicatie', 'communicer', 'complet', 'component', 'compressor', 'computer', 'computervloer', 'computervloertegel', 'concentratie', 'concentraties', 'concluder', 'conclusie', 'conflict', 'conform', 'consol', 'constant', 'constateerd', 'constater', 'constructie', 'constructiedel', 'contact', 'contactperson', 'container', 'containerasfaltbak', 'containerbak', 'containersluit', 'continu', 'contoler', 'contract', 'control', 'controleert', 'controlelampj', 'controler', 'convector', 'cooker', 'coordinatior', 'coordinator', 'cor', 'coreman', 'correct', 'corrigeert', 'coulanc', 'coulis', 'coup', 'cq', 'crafter', 'crah', 'crer', 'crist', 'critizised', 'crow', 'ctb', 'ctfacility', 'cunet', 'cunnetwand', 'cursus', 'cutout', 'cv', 'cvinstallatie', 'd1', 'daadwerk', 'daarachter', 'daaran', 'daarbij', 'daardor', 'daareenteg', 'daarin', 'daarmee', 'daarna', 'daarnaast', 'daarom', 'daarop', 'daaruit', 'daarvor', 'dacht', 'dag', 'dagelijk', 'daglicht', 'dak', 'dakbedek', 'dakbedekkingswerkzam', 'dakconstructie', 'dakdekker', 'dakgezaagd', 'dakj', 'dakkap', 'dakkapp', 'dakopbouw', 'dakpann', 'dakrand', 'dakrandbeveil', 'dakspar', 'dakvloer', 'dakwand', 'dammer', 'damp', 'damwand', 'damwandkran', 'damwandplank', 'damwandplat', 'damwandtijd', 'dan', 'dani', 'daniel', 'danny', 'dardanellestrat', 'dashboard', 'dat', 'datainwinn', 'datakabel', 'dateert', 'datum', 'david', 'dawit', 'de', 'december', 'deco', 'decoupeerzag', 'ded', 'deeltjes', 'deeltuss', 'defect', 'defibrillator', 'definitie', 'definitief', 'definitiev', 'degelijk', 'dek', 'deken', 'dekker', 'dekking', 'dekkingmeter', 'deksel', 'dektrap', 'dekvloer', 'del', 'delft', 'delict', 'demontag', 'demontagewerkzam', 'demonter', 'demper', 'den', 'denk', 'dennie', 'dennis', 'deponer', 'depot', 'derd', 'dergelijk', 'dermat', 'deskund', 'destijd', 'detail', 'deugdelijk', 'deur', 'deurdranger', 'deurklink', 'deurslot', 'deurspar', 'deurtj', 'deurwaarder', 'deveiligheidsrondgang', 'dez', 'dezelfd', 'dhr', 'diaconessenhuis', 'diagonal', 'diam', 'diameter', 'dicht', 'dichtbij', 'dichtdoen', 'dichtgegooid', 'dichtgelegd', 'dichtgeschov', 'dichtgetrok', 'dichtgevall', 'dichtgezet', 'dichtlegg', 'dichtschuiv', 'dichtzet', 'didnt', 'die', 'dien', 'diend', 'dienst', 'dienstdoend', 'dienstentunnel', 'dienstgebouw', 'dient', 'diep', 'dieplader', 'diepladerstond', 'diept', 'diepwand', 'dierenasiel', 'dieselolie', 'digital', 'dijk', 'dik', 'dikker', 'dingema', 'dinsdag', 'dinsdagocht', 'direct', 'directie', 'directieket', 'dissel', 'dit', 'diver', 'divers', 'dlper', 'dmv', 'doc', 'document', 'dod', 'dodelijk', 'doe', 'doel', 'doeltreff', 'doen', 'doet', 'doka', 'dokas', 'dokter', 'dokterspost', 'dommekracht', 'donderdag', 'donderdagavond', 'donderdagmiddag', 'donderdagnacht', 'donk', 'donker', 'doordat', 'doorgaand', 'doorgang', 'doorgeeft', 'doorgegan', 'doorgegev', 'doorgekom', 'doorgelat', 'doorgelop', 'doorgered', 'doorgeschot', 'doorgesned', 'doorgestuurd', 'doorgetrok', 'doorgev', 'doorgewerkt', 'doorgezakt', 'doorgezet', 'doorhen', 'doorknipp', 'doorliep', 'doorloopprofiel', 'doorlop', 'doormiddel', 'doorn', 'doornem', 'doorplaats', 'doorrijd', 'doorschot', 'doorschuif', 'doorslijp', 'doorslijpschijv', 'doorstak', 'doorvalbeveil', 'doorverwez', 'doorvoer', 'doorzag', 'dop', 'dopp', 'dor', 'dordrecht', 'dorpel', 'dorpelmat', 'dos', 'doz', 'draadeind', 'draadsnij', 'draadstang', 'draadstrang', 'draaggewicht', 'draagkracht', 'draagplicht', 'draagt', 'draai', 'draaid', 'draaiend', 'draaikran', 'draait', 'drachtsterbrug', 'drachtsterweg', 'drad', 'drag', 'drager', 'draglin', 'draglineschot', 'drain', 'drainagerol', 'dranghek', 'dreigd', 'dremel', 'drempel', 'drie', 'drieen', 'drierol', 'drietal', 'drijfram', 'drijv', 'dring', 'droeg', 'drog', 'droger', 'droogt', 'druk', 'drukgolf', 'drukgolffluitton', 'druklag', 'drukregelar', 'druppel', 'dry', 'dsluiting', 'dsm', 'dti', 'dubbel', 'duidelijk', 'duikerverklikker', 'duim', 'duimnagel', 'duitsland', 'duizel', 'dumee', 'dumper', 'dunn', 'during', 'dusdan', 'duw', 'duwarm', 'duwd', 'dvj', 'dvorscak', 'dwar', 'e24', 'ebho', 'echt', 'echter', 'eco', 'ecolean', 'ed', 'edwin', 'eea', 'eeg', 'een', 'eenmal', 'eenvoud', 'eenzijd', 'eerder', 'eerst', 'eerstverantwoord', 'egdom', 'egelshoek', 'ehbo', 'ehboer', 'ehbopost', 'ehchting', 'eig', 'eigen', 'eigenar', 'eikenprocessierup', 'eind', 'eindhek', 'eindhov', 'eindj', 'eindleun', 'eindwand', 'eis', 'eisn', 'eisoler', 'eiz', 'ekkebus', 'ekkelenkamp', 'electrapijp', 'electriciteitskabel', 'electrisch', 'electro', 'electrocutie', 'electromonteur', 'elektisch', 'elektra', 'elektraleid', 'elektrameter', 'elektrapijp', 'elektrasnoer', 'elektriciteit', 'elektriciteitskabel', 'elektrisch', 'element', 'elkar', 'ell', 'ellebog', 'ellemet', 'ellenbog', 'elspet', 'email', 'emmer', 'emmertjes', 'en', 'ene', 'energiemeter', 'enerzijd', 'enexis', 'enig', 'enigszin', 'enkel', 'enkelband', 'enkelhoogt', 'enkelvoet', 'enof', 'enorm', 'enthousiast', 'entree', 'enver', 'eo', 'epier', 'epileptisch', 'epo', 'equipnent', 'er', 'eraf', 'erafgeklomm', 'eran', 'erbij', 'erbov', 'erdo', 'erg', 'ergen', 'erger', 'erik', 'erin', 'erkend', 'erkent', 'erker', 'erlang', 'ermelo', 'ern', 'erna', 'ernst', 'ernstig', 'ernstiger', 'eronder', 'erop', 'ertuss', 'eruit', 'ervan', 'ervar', 'ervor', 'esch', 'et', 'etag', 'etc', 'etiket', 'europrofiel', 'evelin', 'even', 'evenar', 'evenement', 'eventtent', 'eventueel', 'evenwicht', 'evenwichtspositie', 'evides', 'exact', 'excus', 'expirer', 'extern', 'extra', 'extractie', 'ezra', 'fa', 'faalt', 'facilitair', 'facteam', 'factor', 'fas', 'fasedrad', 'fast', 'fatsoener', 'feb', 'februari', 'feit', 'ferdi', 'fiet', 'fiets', 'fietsbrug', 'fietser', 'fietspad', 'fietsstrok', 'fietst', 'fietstunnel', 'fietsverker', 'fil', 'fir', 'firma', 'fischer', 'fit', 'fitter', 'fixer', 'flamco', 'flat', 'flauw', 'flen', 'fless', 'flexibel', 'flexibl', 'flexplek', 'flink', 'florasingel', 'fluitton', 'fmh', 'fmhaagland', 'fmp', 'folie', 'foliefreesmachin', 'fon', 'for', 'ford', 'formulier', 'forz', 'foto', 'foto2', 'fotos', 'foundation', 'fout', 'fractie', 'fractur', 'fram', 'framedel', 'fran', 'frank', 'franki', 'frankik', 'fred', 'freeslepel', 'freesmachin', 'freesmateriaal', 'freesvak', 'freeswerkzam', 'freightway', 'fres', 'frez', 'frontwand', 'fsc', 'fuel', 'full', 'functie', 'funder', 'funderingsbalk', 'funderingslag', 'funderingsmachin', 'funderingswerk', 'funderingswerkzam', 'fungeerd', 'fysiek', 'g100', 'g40', 'g79', 'ga', 'gaasp', 'gaatj', 'gaatjesband', 'gaf', 'gaffel', 'galerij', 'gan', 'gang', 'gangzon', 'garages', 'gas', 'gasaansluit', 'gasbrander', 'gasbuis', 'gasbuiz', 'gasfles', 'gasfless', 'gasleid', 'gaslucht', 'gasmeter', 'gasolie', 'gasolietank', 'gasrek', 'gastank', 'gasuitstrom', 'gasver', 'gaswolk', 'gat', 'gatehuis', 'gauw', 'geaard', 'geaccepteerd', 'geactiveerd', 'geadviseerd', 'geamputeerd', 'gearriveerd', 'gebaard', 'gebandeleerd', 'gebeld', 'gebet', 'gebeur', 'gebeurd', 'gebeurt', 'gebeurtenis', 'gebied', 'geblaz', 'geblek', 'gebleseerd', 'geblesseerd', 'geblev', 'geblust', 'gebod', 'gebog', 'gebond', 'geboord', 'geborg', 'geborgd', 'gebotst', 'gebouw', 'gebracht', 'gebrand', 'gebrek', 'gebrok', 'gebruik', 'gebruiker', 'gebruikershandleid', 'gebruiksdatum', 'gebruikt', 'gebruikzijnd', 'gebukt', 'gebundeld', 'gecommuniceerd', 'gecompliceerd', 'geconstateerd', 'gecontroleerd', 'gecreeerd', 'gecreerd', 'gedacht', 'gedan', 'gedeeld', 'gedeelt', 'gedemonteerd', 'gedicht', 'gedistilleerd', 'gedog', 'gedok', 'gedraaid', 'gedrag', 'gedragenn', 'gedrukt', 'gedur', 'geduurd', 'geduwd', 'geeft', 'gefabriceerd', 'gefixeerd', 'geforceerd', 'geformuleerd', 'gegalvaniceerd', 'gegan', 'gegeled', 'gegev', 'gegeven', 'gegipst', 'gegled', 'gegledendoorhen', 'gegledengevall', 'gegooid', 'gegrav', 'gegrep', 'gehaald', 'gehad', 'gehandeld', 'gehandhaafd', 'gehang', 'gehaperd', 'gehapt', 'gehecht', 'gehel', 'gehes', 'gehinderd', 'geholp', 'gehoorbescherm', 'gehoord', 'gehoud', 'gehurkt', 'gehuurd', 'geinformeerd', 'geinspecteerd', 'geinstalleerd', 'geinstrueerd', 'geisoleerd', 'gekanteld', 'gekatapulteerd', 'gekek', 'gekend', 'gekeurd', 'gekiept', 'geklapt', 'geklaptis', 'geklemd', 'geklomm', 'geknaagd', 'gekneld', 'gekneusd', 'gekneusdverrekt', 'geknield', 'gekoeld', 'gekom', 'gekoppeld', 'gekoz', 'gekreg', 'gekrop', 'gel', 'gelast', 'gelat', 'geldend', 'geldig', 'geldt', 'geled', 'geleg', 'gelegd', 'geleid', 'geleidensbaken', 'geleider', 'geleiderail', 'geleiderol', 'gelen', 'geleund', 'geleverd', 'gelicht', 'gelijk', 'gelijmd', 'gelop', 'gelost', 'geluid', 'geluidscherm', 'geluk', 'gelukk', 'geluktrob', 'gemaakt', 'gemal', 'gemarkeerd', 'gemeenschapp', 'gemeent', 'gemeentewerf', 'gemeld', 'gemerkt', 'gemet', 'gemist', 'gemonteerd', 'gemorst', 'gen', 'geneusd', 'genez', 'geniet', 'genoeg', 'genom', 'genoodzaakt', 'genoteerd', 'geopend', 'geopereerd', 'geopperd', 'georganiseerd', 'gepakt', 'geparkeerd', 'geplaast', 'geplaatst', 'geplakt', 'gepland', 'gepleegd', 'geplet', 'geplooid', 'gepoogd', 'gepositioneerd', 'geprefabt', 'geprobeerd', 'geprogrammeerd', 'geraakt', 'gerard', 'gered', 'gereedschap', 'gereedschapp', 'gereedschapskar', 'gereedschapskoffer', 'geregeld', 'geregistreerd', 'gerend', 'gerepareerd', 'geresulteerd', 'gericht', 'geroep', 'geroest', 'gerold', 'gerrit', 'gert', 'geruim', 'gerust', 'geschaafd', 'geschakeld', 'geschampt', 'geschat', 'geschept', 'gescheurd', 'geschikt', 'geschopt', 'geschot', 'geschov', 'geschrok', 'gesignaleerd', 'geslag', 'geslep', 'geslingerd', 'geslot', 'gesned', 'gesneld', 'gespann', 'gespeeld', 'gesplitst', 'gespoeld', 'gespot', 'gesprek', 'gesprok', 'gesprong', 'gestaakt', 'gestan', 'gestapeld', 'gestapt', 'gestart', 'gestel', 'gesteld', 'gestickert', 'gestok', 'gestopt', 'gestort', 'gestot', 'gestrikt', 'gestroomd', 'gestruikeld', 'gestruikeldgevall', 'gestuurd', 'getek', 'getest', 'getikt', 'getild', 'getilt', 'getorst', 'getracht', 'getransporteerd', 'getrapt', 'getroff', 'getroffen', 'getrofff', 'getrok', 'getuig', 'geul', 'gev', 'gevaarljk', 'geval', 'gevall', 'gevallengegled', 'gevar', 'gevel', 'geveln', 'gevelsteiger', 'geventileerd', 'gevestigd', 'gevlog', 'gevocht', 'gevoel', 'gevoelsmat', 'gevoerd', 'gevolg', 'gevond', 'gevraagd', 'gevrag', 'gevuld', 'gewaaid', 'gewaarschuwd', 'gewap', 'geweest', 'gewend', 'gewerkt', 'gewerktenkel', 'gewez', 'gewi', 'gewicht', 'gewichtsverdel', 'gewisseld', 'gewon', 'gewond', 'geword', 'gezaagd', 'gezakt', 'gezam', 'gezet', 'gezicht', 'gezien', 'gezocht', 'gezog', 'gezondheidsschad', 'gezorgd', 'gezwikt', 'gibowand', 'giek', 'giekdel', 'gier', 'giet', 'gietijzer', 'gietkar', 'gietkarr', 'ging', 'gip', 'gipsplat', 'gister', 'gisterenavond', 'gisterenmiddag', 'gistermorg', 'glad', 'gladheidmeldsensor', 'glas', 'glasbok', 'glasplat', 'glasscherf', 'glassplinter', 'glaswol', 'glaszetter', 'glaz', 'gled', 'gleuf', 'glibber', 'glij', 'glijd', 'glijdt', 'glijmiddel', 'gmb', 'gms', 'go', 'goapp', 'gocoach', 'goed', 'goederenlift', 'goedgekeurd', 'goedhang', 'goedvoldo', 'goes', 'goh006', 'golfplat', 'gonzales', 'gooi', 'gooid', 'gooiseweg', 'gootdel', 'gootrek', 'gordel', 'gording', 'got', 'graafbak', 'graafkraanmachinist', 'graafmachin', 'graafwerk', 'graafwerkzam', 'grad', 'graf', 'grag', 'graspunt', 'grep', 'grip', 'groeit', 'groen', 'groetjes', 'grof', 'grond', 'grondbor', 'grondslag', 'grondstamper', 'grondvloer', 'grondvloerniveau', 'grondwerker', 'grootst', 'grot', 'groter', 'grout', 'gruis', 'gruisvezel', 'guardrail', 'gvk1400mm', 'gww', 'gyroscop', 'h2s', 'haakmesj', 'haakt', 'haalbar', 'haald', 'haalkom', 'haalt', 'haarspeld', 'haarspeldjes', 'haast', 'had', 'hadkreg', 'hag', 'hak', 'hakkentrill', 'hal', 'half', 'halfgelaatsmasker', 'halv', 'hamer', 'hamerslag', 'han', 'hand', 'handel', 'handeld', 'handgebar', 'handgereedschap', 'handgrep', 'handhei', 'handig', 'handleid', 'handmat', 'handrem', 'handschoen', 'handvat', 'handvinger', 'handwalsj', 'hang', 'hangend', 'hangenn', 'hangslot', 'hangsteiger', 'hangstijl', 'hangt', 'hapt', 'hard', 'hardhout', 'haringgraatstal', 'harnas', 'harnasgordel', 'harp', 'harpsluit', 'harry', 'hart', 'hartj', 'haspel', 'haspelwag', 'hatert', 'havenmeesterweg', 'hbrouwer', 'hbz', 'hdpe', 'hebb', 'hebbenrest', 'hechting', 'hechtpleister', 'heden', 'hedenmiddag', 'hedenmorg', 'hedenocht', 'heeft', 'heenstapp', 'hefbom', 'hefsteiger', 'heftruck', 'heftruckchaffeur', 'heftruckchauffeur', 'hei', 'heibas', 'heibuis', 'heierhoevenweg', 'heijberg', 'heijkant', 'heijman', 'heijmanscollega', 'heipal', 'heirbij', 'heistell', 'hek', 'hekj', 'hekwerk', 'hekwerkstaander', 'hekwerkvoet', 'hel', 'helas', 'helder', 'helemal', 'helft', 'helling', 'hellingban', 'helm', 'helmpicht', 'helmplicht', 'help', 'helperzom', 'hem', 'hemink', 'hen', 'henk', 'her', 'heras', 'hergebruik', 'herhal', 'herinner', 'herken', 'herkend', 'herkeur', 'herkeurd', 'herman', 'herplaats', 'hersteld', 'herstell', 'hervat', 'herzien', 'hesj', 'hesjejas', 'hesjes', 'het', 'hetgen', 'hetzelfd', 'heup', 'hevig', 'hi', 'hiel', 'hield', 'hielkuit', 'hieran', 'hierbij', 'hierbov', 'hierbovenop', 'hierdor', 'hierin', 'hiermee', 'hierna', 'hieronder', 'hierop', 'hierover', 'hiertoe', 'hiervan', 'hiervor', 'hijs', 'hijsband', 'hijsbrancard', 'hijshak', 'hijskabel', 'hijskran', 'hijsmiddel', 'hijsog', 'hijsoperatie', 'hijsportiek', 'hijspunt', 'hijsstrop', 'hijsverrijker', 'hijsvoorzien', 'hijswerk', 'hijswerkzam', 'hijzelf', 'hilversum', 'hindernis', 'hing', 'hinkt', 'hmb', 'hmp', 'hoefnagel', 'hoegee', 'hoek', 'hoekj', 'hoeklijn', 'hoevel', 'hoewel', 'hoff', 'hog', 'hogedrukspuit', 'hoger', 'hogerop', 'hokj', 'holl', 'hollestell', 'hollewanddos', 'hond', 'hoofd', 'hoofdaannemer', 'hoofdbovenst', 'hoofdentree', 'hoofdkak', 'hoofdkran', 'hoofdletsel', 'hoofdschakelar', 'hoofduitvoerder', 'hoofdwond', 'hoofdzeker', 'hoofdzekeringkast', 'hoofgebouw', 'hoogt', 'hoogteverschil', 'hoogwerker', 'hoopt', 'hoord', 'hoort', 'hop', 'hopperbak', 'hor', 'horizontal', 'hospital', 'houd', 'houdbar', 'houder', 'houding', 'houdt', 'hout', 'houtenplank', 'houtenplat', 'houtstof', 'houtzaagtafel', 'hrl', 'hrm', 'hrr', 'hsb', 'hsbelement', 'httpswwwdestentornlzwollevrachtwagenmetwarmasfaltkanteltopa28wegnaarzwolletot1500uurdichta3af532f', 'hub', 'huid', 'huidig', 'huidirritatie', 'huis', 'huisarstenpost', 'huisart', 'huisarts', 'huisartsenpost', 'huishoudtrapjes', 'huisvest', 'hulo', 'hulp', 'hulpdienst', 'hulpdraadkran', 'hulpfitter', 'hulpmiddel', 'hulpmiddell', 'hulpstal', 'hulpverleningsvoertu', 'hulpvloer', 'huntumdref', 'hur', 'hurk', 'huurheftruck', 'huv', 'huyisart', 'hvz', 'hwa', 'hwamaatregel', 'hydrauliek', 'hydraulieklek', 'hydraulisch', 'hydromotor', 'hygienisch', 'hzk', 'ibc', 'ic', 'id', 'idd', 'idee', 'idem', 'ieder', 'iederen', 'if', 'ifgetal', 'ifincident', 'ijs', 'ijsban', 'ijsprop', 'ijsvorm', 'ijzel', 'ijzelsneeuw', 'ijzer', 'ijzersplinter', 'ijzervlechter', 'ikzia', 'impact', 'imperiaal', 'impregner', 'impressie', 'in', 'inadem', 'inbindtouw', 'inbouwdos', 'inbusbout', 'inc', 'incident', 'incidentenformulier', 'incidentenrapport', 'incl', 'inclusief', 'indel', 'indien', 'indruk', 'industrieel', 'industrietrap', 'inen', 'info', 'informatie', 'informatiebeplat', 'informatiebord', 'informatieplat', 'informer', 'infra', 'ingang', 'ingedrukt', 'ingegrep', 'ingehaakt', 'ingehoud', 'ingele', 'ingeleverd', 'ingelop', 'ingepakt', 'ingered', 'ingericht', 'ingeschakeld', 'ingescheurd', 'ingeslep', 'ingesmeerd', 'ingesned', 'ingestapt', 'ingesteld', 'ingestort', 'ingestuurd', 'ingetrok', 'ingevoerd', 'ingevuld', 'ingezet', 'ingrijp', 'inhijs', 'inhoud', 'initiatief', 'injectiehar', 'inlad', 'inlen', 'inlener', 'inmiddel', 'inpand', 'inparker', 'inplat', 'inricht', 'inrijd', 'inrittoegang', 'inschat', 'inscheurt', 'inschuiv', 'insnijd', 'inspann', 'inspecter', 'inspectie', 'inspectierapport', 'inspectierond', 'instabiel', 'installateur', 'installatie', 'installatieonderdel', 'installaties', 'installatieverantw', 'installatieverantwoord', 'instantie', 'instapgevar', 'instructie', 'instructies', 'instur', 'intercombellijst', 'intern', 'intuss', 'invoeg', 'invoer', 'inzet', 'inzicht', 'inzien', 'inzit', 'ipv', 'ires', 'iriteerd', 'is', 'ism', 'isolatie', 'isolatiepak', 'isoler', 'iswordt', 'itn', 'ivan', 'iver', 'ivm', 'ixas', 'j2', 'j34a', 'jakub', 'jammer', 'jan', 'janmart', 'januari', 'jaof', 'jap', 'jar', 'jarenlang', 'jas', 'jekker', 'jeor', 'jeroen', 'jerrycan', 'jesper', 'jetgroutproces', 'jeuk', 'jib', 'jl', 'jm', 'johan', 'john', 'jong', 'joost', 'jordy', 'jos', 'juist', 'juk', 'juli', 'juni', 'jut', 'k1', 'k1te244a', 'kaart', 'kabel', 'kabelbeschermer', 'kabeleindes', 'kabelgot', 'kabelhaspel', 'kabellegmachin', 'kabeltrek', 'kabeltrekker', 'kabeltrekwerkzam', 'kachel', 'kader', 'kak', 'kalkzandsteenblok', 'kalkzandsten', 'kamerrolsteiger', 'kamersteiger', 'kan', 'kanaaloever', 'kanaalplaatvloer', 'kanaalplat', 'kanal', 'kant', 'kantel', 'kantelbak', 'kanteld', 'kantelplank', 'kantelpunt', 'kantin', 'kantoorgebouw', 'kantoormeubilair', 'kantoorpand', 'kantoorpersonel', 'kantoortijd', 'kantoorunit', 'kantor', 'kantplank', 'kantstrep', 'kap', 'kapel', 'kapj', 'kapot', 'kapp', 'kapstok', 'kapt', 'kar', 'kardexkast', 'kast', 'kat', 'katapulteerd', 'katrol', 'kazemat', 'kazern', 'keerwand', 'keetafval', 'keetlocatie', 'keetunit', 'kegel', 'kegelbus', 'kelder', 'kelderdel', 'ken', 'kend', 'kenn', 'kennelijk', 'kennis', 'kennisniveau', 'kenny', 'kentalis', 'kentek', 'kentekenheeft', 'ker', 'kerstlampjes', 'ket', 'ketel', 'ketenpark', 'ketst', 'ketting', 'kettingwerk', 'keukenblok', 'keur', 'keurder', 'keuring', 'keuringsdatum', 'keuringsrapport', 'keuringsregim', 'keuringssessie', 'keuringssticker', 'keuringsticker', 'keurmeester', 'kg', 'kgm3', 'kgn', 'kickback', 'kickoff', 'kiep', 'kieper', 'kieperklep', 'kiepwag', 'kijk', 'kijkt', 'kin', 'kind', 'kinder', 'kinderanimatie', 'kiper', 'kipper', 'kist', 'kistdel', 'kisthout', 'kit', 'kl', 'klaagd', 'klaarmak', 'klacht', 'klant', 'klap', 'klapp', 'klapt', 'klar', 'klas', 'klauwhamer', 'kleding', 'klei', 'klein', 'klem', 'klem1', 'klemd', 'klemm', 'klemming', 'klemmur', 'klep', 'klepj', 'klepp', 'klepver', 'klic', 'klicmeld', 'kliko', 'klim', 'klimgordel', 'klimm', 'klimt', 'klink', 'klinker', 'klok', 'klom', 'klomp', 'klompschoen', 'klopt', 'klos', 'klosjes', 'kluit', 'kluiz', 'klus', 'kmu', 'knak', 'knakt', 'knel', 'kneld', 'knep', 'kneusing', 'kneuzing', 'kneuzingenzwell', 'knie', 'knieen', 'knieherstell', 'kniescheenben', 'knieverdraaid', 'knijpbek', 'knikmop', 'knikt', 'knipp', 'knippert', 'knipt', 'knop', 'koel', 'koelmachin', 'koelvloeistof', 'koevoet', 'koffer', 'kofferdeksel', 'koffie', 'kogelkopanker', 'koker', 'kolk', 'kolkkop', 'kolkwand', 'kolom', 'kom', 'komend', 'komst', 'komt', 'kon', 'kond', 'konijnenhol', 'kont', 'kookvertrag', 'kooter', 'kop', 'koper', 'koperdrad', 'kopp', 'koppel', 'koppelbalk', 'koppelenaansluit', 'koppelligger', 'koppelt', 'kopschot', 'korf', 'korfj', 'kort', 'kortelang', 'korter', 'kortsluit', 'korv', 'kous', 'kozijn', 'kpn', 'kraaijenveld', 'kraakt', 'kraanbak', 'kraancabin', 'kraanmachinist', 'kraanpoer', 'kraantj', 'kracht', 'krachtsingspann', 'krag', 'krakend', 'kran', 'krap', 'krapp', 'kras', 'kreb', 'kreg', 'krijg', 'krijgt', 'krik', 'kromgebog', 'kromm', 'kropman', 'kruip', 'kruipgat', 'kruipkelderruimt', 'kruipluik', 'kruipluikdeksel', 'kruipruimt', 'kruis', 'kruisband', 'kruising', 'kruist', 'kruiswijk', 'kruiwag', 'kub', 'kuil', 'kuiltj', 'kuip', 'kuit', 'kuitben', 'kun', 'kunn', 'kunsstof', 'kunststof', 'kunststofbuiz', 'kunstwerk', 'kur', 'kv', 'kw', 'kw140', 'kw15b', 'kw16', 'kw20', 'kw5g', 'kwalitatief', 'kwam', 'kwartstof', 'kwd', 'kwestie', 'kwetsbar', 'kws', 'l1', 'laadbak', 'laaddok', 'laadpal', 'laadruimt', 'laadschop', 'laaghang', 'laagj', 'laagspanningsruimt', 'laarz', 'laarzenspoelbak', 'laatst', 'laborant', 'laboratorium', 'lad', 'ladder', 'ladderaudit', 'laddermat', 'lader', 'lading', 'lag', 'lager', 'lagerweij', 'lairessestrat', 'lamel', 'lammell', 'lamp', 'lampj', 'lan', 'land', 'landelijk', 'landgraf', 'landtunnel', 'lang', 'langdur', 'langer', 'langszij', 'langzam', 'lantaarnpal', 'laptop', 'lar', 'las', 'lasdopp', 'laskap', 'laslicht', 'lasog', 'lass', 'lasscherm', 'lasser', 'lasspetter', 'last', 'lastig', 'laswerk', 'laswerkzam', 'lat', 'later', 'latjes', 'lbks', 'learned', 'leegblaz', 'leenfiet', 'leerling', 'leesbar', 'leeuward', 'leeuwenhoek', 'leg', 'legenopen', 'legg', 'leid', 'leider', 'leiding', 'leidingdel', 'leidinggev', 'leidingsleuf', 'leidingsticker', 'lek', 'lekbak', 'lekdijk', 'lekkag', 'lekkanal', 'lekker', 'lekt', 'lengt', 'lengtericht', 'lengtes', 'lepel', 'lepelstel', 'ler', 'lesson', 'let', 'letsel', 'leund', 'leuning', 'leuningplank', 'leuningwerk', 'leven', 'levensgevar', 'lever', 'leverancier', 'levert', 'lez', 'liander', 'liandon', 'licham', 'licht', 'lichtarmatur', 'lichtinstallatie', 'lichtjes', 'lichtmast', 'lichtreflecties', 'lichtslang', 'liep', 'lier', 'lierdrad', 'lierkracht', 'liesstrek', 'liet', 'lifelin', 'lift', 'lifthek', 'lifting', 'liftinstallaties', 'ligg', 'liggend', 'ligger', 'ligt', 'lijf', 'lijkt', 'lijm', 'lijmer', 'lijmkran', 'lijmrest', 'lijmtang', 'lijmwand', 'lijmwerk', 'lijn', 'lijnvaldemper', 'lilnker', 'limburg', 'lin', 'liniaal', 'link', 'linker', 'linkerachterwiel', 'linkerarm', 'linkerben', 'linkerenkel', 'linkerhand', 'linkerknie', 'linkerog', 'linkerschouder', 'linkervoet', 'linkerwijsvinger', 'linkerzijd', 'linksrecht', 'lint', 'lip', 'llver', 'ln', 'lnmiddel', 'loader', 'locactie', 'locatie', 'locaties', 'loctit', 'lod', 'loevesteijn', 'lokal', 'lokatie', 'lokhorst', 'loodgieter', 'looij', 'looker', 'loopbrug', 'loopbrugg', 'looppad', 'looppas', 'loopplank', 'looprout', 'looproutes', 'loopt', 'loopverlicht', 'loopvlonder', 'loopzones', 'lop', 'lopend', 'los', 'losdraai', 'losgehaald', 'losgekom', 'losgelat', 'losgemaakt', 'losgeraakt', 'losgescheurd', 'losgeschot', 'loshal', 'loshang', 'loskom', 'loskomt', 'loslat', 'losligg', 'loslop', 'losmak', 'losnem', 'loss', 'losschiet', 'losschot', 'losschroev', 'losslan', 'lossnijd', 'losstaand', 'lost', 'lostik', 'lostrek', 'loswrik', 'loto', 'louter', 'loz', 'lpg', 'lucht', 'luchtbehandel', 'luchtbehandelingsystem', 'luchtbel', 'luchtgereedschap', 'luchthakhamer', 'luchtkanal', 'luchtkwaliteitsmet', 'luchtslang', 'lugerschol', 'luifel', 'luijt', 'luik', 'luis', 'luk', 'lukt', 'lunch', 'lus', 'luskabel', 'm1', 'm30', 'm34a', 'ma', 'maai', 'maaimachin', 'maaiveld', 'maaiveldniveau', 'maaiveldnivo', 'maakt', 'maaktehev', 'maand', 'maandag', 'maandagmiddag', 'maandagocht', 'maart', 'maatregel', 'maatvoer', 'mabr', 'machin', 'machinal', 'machines', 'machinesgereedschap', 'machinist', 'machinst', 'machnist', 'madema', 'mag', 'magazijn', 'magazijnmeester', 'mail', 'mailing', 'mailwissel', 'maincontractor', 'maj', 'mak', 'makkelijk', 'makkelijker', 'mal', 'man', 'management', 'managent', 'manbak', 'manier', 'manipulatie', 'mankement', 'mann', 'manoeuvr', 'manoeuvrer', 'manometer', 'manouvrer', 'mansveld', 'mantel', 'mantelbuis', 'mantelbuisj', 'mantelbuiz', 'manueel', 'manuel', 'marcel', 'marco', 'mari', 'mark', 'markelo', 'markeringsmachin', 'marmoleum', 'martijn', 'mas', 'massa', 'massaslot', 'masseslot', 'mast', 'mastafscherm', 'mastdel', 'mat', 'materiaal', 'materiaalopslag', 'materiaalstell', 'material', 'materieel', 'materieeldienst', 'materieelstuk', 'materiel', 'matros', 'max', 'maximal', 'mbl2prio', 'mbt', 'mbv', 'mcl', 'mdw', 'meander', 'med', 'mederwerker', 'medeweggebruiker', 'medeweker', 'medewerk', 'medewerker', 'medewerkster', 'medisch', 'medischonderzoek', 'mee', 'meedraai', 'meegedraaid', 'meegegan', 'meegegev', 'meegehad', 'meegekreg', 'meegenom', 'meegetrok', 'meelift', 'meenem', 'meerder', 'meest', 'meetapparatur', 'meetgebouw', 'meetrok', 'meeviel', 'mei', 'meld', 'melder', 'melding', 'meldt', 'mener', 'meng', 'menger', 'mening', 'meniscus', 'menno', 'mens', 'mensker', 'mer', 'merklabel', 'merkt', 'mes', 'mesj', 'met', 'metaalschilfertj', 'metal', 'metalstuc', 'metalstud', 'metalstudwand', 'meten', 'meter', 'meterkast', 'meterkastvloerplat', 'meterstrok', 'method', 'methylen', 'metselaarstratenmaker', 'metselar', 'metselboy', 'metselsilo', 'metseltor', 'metselwerk', 'mi', 'michael', 'michel', 'mid', 'middag', 'middel', 'middelst', 'middelvinger', 'middenberm', 'middengeleider', 'middenhandsbeentj', 'middenpaaltj', 'middenpijler', 'middenschot', 'middensluis', 'middenspann', 'middenspanningsverdeler', 'middenvinger', 'middenvoet', 'middenvoetsbeentj', 'milieugevar', 'militair', 'millenar', 'min', 'minder', 'minigraver', 'minimal', 'minuscul', 'minut', 'mis', 'miscommunicatie', 'misgestapt', 'miss', 'misschien', 'misstap', 'misstapt', 'mist', 'mitella', 'mm', 'mmv', 'mobiel', 'mobil', 'mocht', 'modder', 'moe', 'moeilijk', 'moeit', 'moer', 'moerbout', 'moerweg', 'moest', 'moet', 'mof', 'mog', 'mogelijk', 'mogelijkkortsluit', 'moker', 'mol', 'mollestatie', 'molok', 'moment', 'momentel', 'mond', 'mondel', 'mondkajes', 'mondkap', 'monitor', 'monster', 'monsternam', 'monsterplat', 'montag', 'montagebus', 'montagewerkzam', 'monteert', 'monter', 'monteur', 'morg', 'mot', 'motor', 'motorisch', 'motorrijder', 'mouw', 'mri', 'mrs', 'ms', 'mtr', 'muis', 'multikapp', 'multiplex', 'muntbergweg', 'mur', 'muurtj', 'n279', 'n35', 'n381', 'n506', 'n791', 'na', 'naa', 'naarmat', 'naast', 'naastgeleg', 'naastligg', 'nabij', 'nacht', 'nachtelijk', 'nachtj', 'nacontrol', 'nadat', 'nadenk', 'nader', 'nadruk', 'nagedacht', 'nagel', 'nageleefd', 'nagered', 'nagesteld', 'nalev', 'nalop', 'nam', 'nastell', 'nat', 'natgeweest', 'nauw', 'nauwelijk', 'nauwkeur', 'nav', 'naverwarmer', 'navrag', 'nazien', 'ne', 'nedam', 'nederland', 'nederman', 'nee', 'neemt', 'neergelegd', 'neergezet', 'neerkom', 'neerslag', 'neerzet', 'nef', 'neger', 'nek', 'nekklacht', 'nekpijn', 'nem', 'nen', 'nen3140', 'ner', 'nereda', 'nergen', 'net', 'netheid', 'netjes', 'netwerk', 'neus', 'neuz', 'nevenopdrachtnemer', 'next', 'nick', 'nico', 'niemand', 'niet', 'nieuw', 'nieuwbouw', 'nieuwgekeurd', 'nieuwst', 'nik', 'niv', 'niveau', 'niveaus', 'noal', 'nod', 'nodig', 'noe', 'noem', 'noemer', 'nog', 'nogal', 'nogmal', 'nooddeur', 'noodhwaafvoer', 'noodperron', 'noodtrappenhuis', 'nooduitgang', 'noodverband', 'noodvoorzien', 'nooit', 'noord', 'noordbrug', 'noordzijd', 'noort', 'norm', 'normal', 'not', 'notities', 'noud', 'nov', 'november', 'nr', 'ns', 'nsa', 'ntb', 'nuldrad', 'nummer', 'nutsbedrijf', 'nvt', 'oa', 'object', 'obstakel', 'ochtend', 'odg', 'oefen', 'of', 'offert', 'og', 'ogen', 'ogenblik', 'oktober', 'olaf', 'olie', 'oliehok', 'olievat', 'om', 'omar', 'ombouw', 'ombuig', 'omd', 'omdraai', 'omgedraaid', 'omgeduwd', 'omgekanteld', 'omgekeerd', 'omgeslag', 'omgev', 'omgevall', 'omgewaaid', 'omgezet', 'omgezwikt', 'omhein', 'omhen', 'omhog', 'omhooggekom', 'omhoogsteekt', 'omklapt', 'omlag', 'omlegg', 'omleid', 'omleidingsbord', 'omlop', 'omrolbeveil', 'omschrev', 'omschrijv', 'omstand', 'omstander', 'omstrek', 'omtrent', 'omvall', 'omvalt', 'omvergelop', 'omviel', 'omvormer', 'omwaai', 'omwill', 'omwon', 'on', 'onaangelijnd', 'onbalan', 'onbedachtzam', 'onbeheerd', 'onbek', 'onbeschermd', 'ondank', 'onder', 'onderaanemer', 'onderaannem', 'onderaannemer', 'onderan', 'onderarm', 'onderarrn', 'onderben', 'onderbrek', 'onderdel', 'onderdoorgang', 'onderdorpel', 'ondergelop', 'ondergetek', 'ondergrond', 'onderhand', 'onderhoud', 'onderhoudsdatum', 'onderhoudswerk', 'onderhoudswerkam', 'onderhoudswerkzam', 'onderin', 'onderkant', 'onderkantdeur', 'onderkent', 'onderligg', 'onderneemt', 'ondernem', 'ondernom', 'onderpijp', 'onderplat', 'onderschept', 'onderspann', 'onderst', 'onderstel', 'onderstempel', 'onderstempeld', 'ondersteun', 'ondersteund', 'ondersteuningssteiger', 'onderstopp', 'ondertek', 'onderteken', 'ondertuss', 'onderuit', 'ondervind', 'onderwater', 'onderweg', 'onderzijd', 'onderzocht', 'onderzoek', 'onderzoekt', 'ondeug', 'onduid', 'one', 'oneff', 'oneigen', 'ong', 'ongediert', 'ongekeurd', 'ongeluk', 'ongelukk', 'ongelukkg', 'ongemerkt', 'ongeval', 'ongevall', 'ongevallenpost', 'ongevallenrapport', 'ongevalsformulier', 'ongevalslocatie', 'ongevalsrapport', 'ongever', 'ongewenst', 'onhand', 'onhandel', 'onjuist', 'onkruid', 'onlang', 'onmiddel', 'onmleid', 'onmog', 'onnod', 'onoplet', 'onoplettendheidonzorgvuld', 'onstabiel', 'onstan', 'ontbrak', 'ontbrakhierdor', 'ontbreekt', 'ontbrek', 'ontdek', 'ontgrav', 'ontheff', 'ontluchtingsluik', 'ontoegank', 'ontploft', 'ontruimingsplattegrond', 'ontruimingssignal', 'ontslag', 'ontstan', 'ontstat', 'ontstek', 'ontstok', 'ontstond', 'ontstoppingsmiddel', 'ontvang', 'ontvangeninzicht', 'ontvreemd', 'ontwerp', 'ontwijk', 'ontwricht', 'ontzet', 'ontzien', 'onveil', 'onverwacht', 'onverzorgd', 'onvoldo', 'onvolled', 'onwel', 'onwenn', 'onz', 'onzicht', 'oog', 'oogart', 'ooghoogt', 'oogletsel', 'ooglid', 'ook', 'oor', 'oorlel', 'oorzak', 'oost', 'oostdijk', 'oostelijk', 'oosterink', 'oostsluis', 'op', 'opbor', 'opbouw', 'opbouwd', 'opdracht', 'opdrachtgev', 'opdrachtgever', 'opdruk', 'open', 'opendraai', 'opengehaald', 'openligg', 'openmak', 'openstaand', 'operatie', 'operatief', 'opf', 'opgang', 'opgebeld', 'opgebouwd', 'opgegrav', 'opgehaald', 'opgehang', 'opgelengd', 'opgelet', 'opgelop', 'opgelost', 'opgemekrt', 'opgemerkt', 'opgenom', 'opgeroep', 'opgeruimd', 'opgeschaald', 'opgeslag', 'opgestapeld', 'opgestapt', 'opgestart', 'opgesteld', 'opgetast', 'opgetild', 'opgetred', 'opgevang', 'opgevolgd', 'opgevraagd', 'opgezet', 'opgrav', 'ophal', 'ophang', 'ophangbintj', 'ophangbout', 'ophangprofiel', 'ophelmhoofd', 'ophijs', 'ophog', 'ophoogslag', 'ophop', 'opkapot', 'opklimm', 'oplaadpunt', 'oplad', 'oplegger', 'opleid', 'oplever', 'oplop', 'oploss', 'opmak', 'opmerk', 'opnam', 'opnem', 'opnieuw', 'opover', 'oppak', 'opper', 'opperman', 'oppervlakt', 'opruim', 'opruimacties', 'opruimfoto', 'opruimwerkzam', 'opschuiv', 'opslag', 'opslagcontainer', 'opslagruimt', 'opslagtank', 'opslagzaaglod', 'opstaand', 'opstal', 'opstan', 'opstap', 'opstapel', 'opstapjes', 'opstapp', 'opstart', 'opstell', 'opstelplaats', 'opstelplat', 'opstond', 'optie', 'optill', 'optillenvasthoud', 'optrad', 'optrek', 'opvang', 'opwarm', 'opwipp', 'opzij', 'opzoek', 'oranj', 'ord', 'ordelijk', 'orden', 'order', 'orennatie', 'organisatie', 'orginel', 'orientatie', 'orientatieverlicht', 'otto', 'oud', 'ouder', 'ouderdom', 'oudijzercontainer', 'ov', 'over', 'overal', 'overall', 'overbelast', 'overdruk', 'overgang', 'overgebracht', 'overgedrag', 'overgegan', 'overgehoud', 'overgepakt', 'overgestok', 'overgewicht', 'overigen', 'overkant', 'overklimm', 'overleefd', 'overleg', 'overlegg', 'overlop', 'overnam', 'overred', 'overspann', 'overstak', 'overstapp', 'overstek', 'overstrekt', 'overtoll', 'overtuigd', 'overvol', 'overweegt', 'overwerk', 'overzicht', 'ozwou', 'p3', 'paalkop', 'pak', 'pakkenok', 'pakket', 'pakking', 'pakt', 'pal', 'palenrammer', 'palet', 'pallet', 'palletlepel', 'palletvork', 'palletwag', 'palm', 'pand', 'panel', 'panelenkar', 'panlat', 'par', 'pardoes', 'parel', 'parkeergedeelt', 'parkeerplat', 'parker', 'parket', 'parnassus', 'parrot', 'partij', 'partner', 'pas', 'pass', 'passag', 'passagierskant', 'passant', 'passanten1', 'passantmet', 'passend', 'passer', 'past', 'pastijn', 'patrick', 'paul', 'pauz', 'paver', 'pbm', 'pbms', 'pebuis', 'pech', 'peerbroek', 'pefab', 'peiler', 'pell', 'pen', 'penn', 'per', 'percel', 'peri', 'perikist', 'period', 'periodiek', 'permanent', 'perron', 'perronbeheerder', 'perrontrap', 'perry', 'pers', 'perslucht', 'person', 'personeelsled', 'personel', 'personenauto', 'personengoeder', 'personengoederenlift', 'personenlift', 'persrioler', 'perstang', 'pes', 'peter', 'pez', 'pfos', 'philip', 'pickup', 'pidmeter', 'piduitslag', 'pieper', 'pieperkentek', 'piepschuim', 'piet', 'pieter', 'pij', 'pijlglas', 'pijn', 'pijnklacht', 'pijnlijk', 'pijnlijkhij', 'pijnscheut', 'pijnstiller', 'pijp', 'pijpj', 'pik', 'pin', 'pink', 'pistol', 'pl', 'plaatj', 'plaats', 'plaatselijk', 'plaatsgenom', 'plaatsgevond', 'plaatsing', 'plaatst', 'plaatsvind', 'plaatsvond', 'plaatwerk', 'plafond', 'plafondlamp', 'plafondplat', 'plafondprofiel', 'plak', 'plan', 'plank', 'plankjes', 'planning', 'plantenbak', 'plas', 'plasfond', 'plasmeijer', 'plastic', 'plat', 'plateau', 'platenban', 'platform', 'plattegrond', 'plaza', 'pleg', 'plek', 'pler', 'plicht', 'plint', 'ploeg', 'plot', 'plotsel', 'plotterweg', 'plug', 'plugkran', 'pmbs', 'pneumatisch', 'poer', 'poetsmiddel', 'poging', 'pol', 'politie', 'polyester', 'pomp', 'pompkelder', 'pompput', 'pompwag', 'ponton', 'poogd', 'poort', 'popovstrat', 'porselein', 'portaalligger', 'portal', 'portier', 'portofon', 'positie', 'positiev', 'positioner', 'post', 'pot', 'potentie', 'potentieel', 'potlod', 'pr', 'praatj', 'praktijk', 'praktikant', 'praktisch', 'precies', 'prefab', 'prefabkolom', 'pretoriusstrat', 'prettig', 'prikkran', 'prikt', 'primair', 'prin', 'princip', 'probeerd', 'prober', 'problem', 'procedur', 'productie', 'proefsleuv', 'profiel', 'profielvrij', 'profiler', 'project', 'projectdirecteur', 'projectiescherm', 'projectinformatieflyer', 'projectkantor', 'projectleid', 'projectleider', 'projectlocatie', 'projectmedewerker', 'projectveiligheidskund', 'promatect', 'promptly', 'prorail', 'provincial', 'provincialeweg', 'pui', 'puin', 'punt', 'puntj', 'pur', 'purbuss', 'put', 'putdeksel', 'putj', 'putter', 'pvc', 'pvcbuis', 'qebruik', 'qua', 'quardrail', 'questro', 'quick', 'r1', 'r2', 'r3', 'raadzam', 'raakt', 'raapt', 'rabie', 'rachel', 'rachid', 'radiator', 'rail', 'railsdel', 'rak', 'rakel', 'rakt', 'ram', 'rand', 'randbeveil', 'randj', 'randkistblik', 'randligger', 'randweg', 'rapport', 'rapportag', 'rar', 'ray', 'rbs', 'reactie', 'reactor', 'reageerd', 'realisatie', 'realiseert', 'realiser', 'realtie', 'recent', 'recht', 'rechtbuig', 'rechter', 'rechterachterwiel', 'rechterarm', 'rechterben', 'rechterhand', 'rechterknie', 'rechterog', 'rechterpol', 'rechterschouder', 'rechtervoet', 'rechtop', 'rechtshand', 'rechtstand', 'rechtstrek', 'rechtzet', 'red', 'reddingsboei', 'reddingsmiddel', 'redelijk', 'reden', 'reduceerventiel', 'reedt', 'refecter', 'referentienummer', 'reflecter', 'reflectie', 'reflex', 'reg', 'regel', 'regelgev', 'regelkamer', 'regelkast', 'regelmat', 'regenacht', 'regend', 'regenjass', 'regenval', 'regenwater', 'regio', 'regulier', 'reigersdal', 'reik', 'reiniger', 'reinigingswerkzam', 'reiziger', 'rek', 'reken', 'rekenschap', 'relatie', 'reling', 'rem', 'remis', 'remkoppel', 'remm', 'ren', 'renover', 'repac', 'reparateur', 'reparatie', 'repositioner', 'rerecht', 'reschouder', 'reserv', 'reservoir', 'rest', 'restant', 'restaurant', 'restdruk', 'restenschilfer', 'restmateriaal', 'restpunt', 'resultat', 'resulteerd', 'retour', 'retsmateriaal', 'reuver', 'rib', 'ribb', 'ribbenkast', 'ribspierverrek', 'richard', 'richel', 'richt', 'richting', 'riek', 'riel', 'rien', 'riep', 'rietafval', 'rigger', 'rij', 'rijban', 'rijd', 'rijdend', 'rijdt', 'rijg', 'rijgket', 'rijk', 'rijkerstrek', 'rijn', 'rijplank', 'rijplat', 'rijplatenban', 'rijricht', 'rijstrok', 'rijwielpadband', 'rik', 'ring', 'ringetjes', 'ringvinger', 'rini', 'rino', 'rioler', 'riool', 'rioolbuis', 'rioolsleuf', 'risico', 'risicos', 'rit', 'rkb', 'rm1', 'rm2', 'rob', 'robert', 'robin', 'rod', 'roel', 'roerwerk', 'rojo', 'rol', 'rold', 'roll', 'rollenkluis', 'rollsign', 'rolluik', 'rolmaatj', 'roloplegg', 'rolsteiger', 'rolt', 'roma', 'romijn', 'rommel', 'rommeltj', 'romp', 'ronald', 'rond', 'rondgang', 'rondgered', 'ronding', 'rondj', 'rondleid', 'rondom', 'rondslinger', 'rondspring', 'rondvlieg', 'rontg', 'rontgenfotos', 'roodwit', 'rooi', 'rookontwikkel', 'rooster', 'roostervloer', 'rosmal', 'rossum', 'rotatie', 'roter', 'rout', 'roy', 'rozema', 'rozet', 'rubber', 'rug', 'ruggetj', 'rugheup', 'rugklacht', 'rugzij', 'ruhl', 'ruim', 'ruimd', 'ruimer', 'ruimt', 'ruit', 'ruitschad', 'rukwind', 'rup', 'rups', 'rupskran', 'rust', 'rusthoud', 'rustig', 'rustiger', 'rvs', 'rvvontheffingheijman', 'rws', 'rwzi', 's1', 's2', 's3', 's4', 's4s5', 's5', 'sa', 'saf', 'safequick', 'safety', 'salpeterzur', 'sam', 'sambek', 'samenstell', 'samenvat', 'samenwerk', 'sand', 'sander', 'sandra', 'saneringoverall', 'saneringslocatie', 'saren', 'satijnrup', 'savond', 'scafkaart', 'scaftag', 'scal', 'schaafwond', 'schaafwondjes', 'schaarhoogwerker', 'schaart', 'schacht', 'schachtj', 'schad', 'schademeld', 'schaderapport', 'schaft', 'schaftker', 'schaftket', 'schaftruimt', 'schaik', 'schakelar', 'schakelkaart', 'schakelruimt', 'schampt', 'schanskorfconstructies', 'schapp', 'schar', 'scharnier', 'scheenb', 'scheenben', 'schef', 'schen', 'schep', 'schepp', 'scherm', 'scherp', 'scherpt', 'scherv', 'schet', 'schetsplat', 'scheur', 'scheurd', 'scheurenvuller', 'scheurtj', 'scheut', 'schiet', 'schiethamer', 'schijf', 'schijnt', 'schijv', 'schildj', 'schildjes', 'schilfertj', 'schiphol', 'schipholgrond', 'schipperswal', 'schoeftol', 'schoen', 'schoentjes', 'schof', 'schok', 'scholier', 'scholingspakkettoolbox', 'scholletj', 'schon', 'schooldag', 'schoolgaand', 'schoolplein', 'schoonblaz', 'schoongemaakt', 'schoongrond', 'schoonmaakbedrijf', 'schoonmak', 'schoorl', 'schop', 'schopplank', 'schoprand', 'schor', 'schortj', 'schot', 'schotj', 'schouder', 'schouderblad', 'schouderblessur', 'schouderblessures', 'schouderhet', 'schouderkom', 'schoudernek', 'schouw', 'schramm', 'schrijv', 'schrik', 'schrikhek', 'schrikhekkenafzethek', 'schrikreactie', 'schrikvloer', 'schroef', 'schroefdrad', 'schroefheistell', 'schroeiplek', 'schroev', 'schroevendraaier', 'schrok', 'schud', 'schuif', 'schuifbalk', 'schuifban', 'schuifdeur', 'schuifplat', 'schuift', 'schuin', 'schuinstaand', 'schuint', 'schuiv', 'schur', 'schutbord', 'schuurd', 'schuurwerkzam', 'scooter', 'second', 'secties', 'seh', 'sennebog', 'seperat', 'september', 'servic', 'servicebus', 'servicemonteur', 'set', 'shackel', 'shirt', 'shiva', 'shovel', 'shovelmachinist', 'sieliakus', 'signaleerd', 'signaler', 'signaleringslint', 'significant', 'silo', 'siltigklei', 'simpel', 'sin', 'singel', 'sinkhol', 'sirenes', 'sit', 'situatie', 'situaties', 'situtie', 'siw', 'sjoerd', 'skigas', 'slachtoffer', 'slachtofferd', 'slachtoffersman', 'slachtoffert', 'slag', 'slagbom', 'slagsleutel', 'slagvast', 'slan', 'slang', 'slangenklem', 'slap', 'slapp', 'slat', 'slecht', 'sled', 'slep', 'sleuf', 'sleufkist', 'sleutel', 'sleutelben', 'sleuv', 'sleuvenstamperwacker', 'slibgebouw', 'slibverwerkingsgebouw', 'slijp', 'slijper', 'slijpmachin', 'slijpmachines', 'slijpschijf', 'slijpsplinter', 'slijptol', 'slijpwerkzam', 'slijtdel', 'slijtplat', 'slik', 'slinger', 'slipformpaver', 'sloeg', 'slof', 'sloophamer', 'sloopvlak', 'sloopwerk', 'sloopwerkzaaheds', 'sloopwerkzam', 'slootkruis', 'slootwand', 'slop', 'sloper', 'slot', 'sluierlag', 'sluis', 'sluisdeur', 'sluiskolk', 'sluit', 'sluitend', 'sluiting', 'sluitrond', 'sluizencomplex', 'small', 'smaller', 'smartphon', 'smeba', 'smeert', 'smerig', 'smet', 'smetlijn', 'smiddag', 'smit', 'snapsluit', 'sned', 'snee', 'sneetj', 'sneeuw', 'sneeuwval', 'snel', 'snelheid', 'snelheidsbeperk', 'snelloopdeur', 'snelweg', 'snij', 'snijbrander', 'snijd', 'snijdt', 'snijset', 'snijwond', 'snoer', 'so', 'soepel', 'soldeerverbind', 'som', 'sommig', 'sondeerwag', 'soort', 'soortelijk', 'sorry', 'sorter', 'soufian', 'sp500', 'spacmes', 'spankabel', 'spanning', 'spanninglos', 'spanningsgleid', 'spanningsvrij', 'spantben', 'sparing', 'spat', 'specialism', 'specialist', 'specie', 'specificaties', 'specifiek', 'speelt', 'speelterrein', 'spek', 'spelend', 'spenner', 'spetter', 'spiegel', 'spier', 'spiering', 'spierpijn', 'spierscheur', 'spiertj', 'spiesgevar', 'spijker', 'spijl', 'spin', 'spindel', 'spirobuis', 'splinter', 'splitbunket', 'splitp', 'spoed', 'spoedeis', 'spoel', 'spoelfles', 'spoelgat', 'spoelwaterbetonrest', 'spontan', 'spookrijd', 'spoorbrug', 'spoorconstructie', 'spoorgeleidingswandjes', 'spor', 'sport', 'sportzal', 'spot', 'sprak', 'sprangcapell', 'spreekt', 'sprek', 'spring', 'springt', 'sprinklerinstallatie', 'sprinklerleid', 'sprong', 'spuit', 'spuitbus', 'spuitmond', 'spuitveegwag', 'spuitwag', 'spull', 'ssb', 'st', 'staaft', 'staalband', 'staalconstructie', 'staaldrad', 'staalkabel', 'staalplat', 'staalprofiel', 'staalsplinter', 'staand', 'staander', 'stabiel', 'stabieler', 'stabilisator', 'stabilisatorstang', 'stadsverwarm', 'staf', 'stahoogt', 'stainleymes', 'stak', 'stal', 'stalenrooster', 'stalk', 'stamper', 'stan', 'stand', 'standaard', 'stang', 'stank', 'stanleymes', 'stap', 'stapel', 'stapelbak', 'stapp', 'stapt', 'stapvoet', 'start', 'startban', 'stat', 'statief', 'station', 'status', 'stav', 'sted', 'stedin', 'steekkarretj', 'steeksleutel', 'steeksproefgewijs', 'steekt', 'steekvalm', 'steekvlam', 'steekvlamm', 'steenacht', 'steenberg', 'steenklem', 'steentj', 'stefan', 'steggehuis', 'steiegr', 'steiger', 'steigerbouw', 'steigerbouwer', 'steigerbuis', 'steigerdel', 'steigerkaart', 'steigerkoppel', 'steigermateriaal', 'steigerpijp', 'steigerplank', 'steigersysteemslag', 'steigervloer', 'steigervlonder', 'steigerwerk', 'steil', 'steiler', 'stek', 'stekeind', 'stekker', 'stel', 'stelbok', 'stelcon', 'stelconplat', 'stell', 'stellat', 'stelling', 'stelsel', 'stelselmat', 'stelspecie', 'stempel', 'stempelplat', 'stempelpot', 'stempelschot', 'sten', 'stephan', 'sterk', 'steun', 'stevig', 'sticker', 'stieva', 'stijf', 'stijl', 'stil', 'stilgelegd', 'stillegg', 'stilstaand', 'stilstand', 'stimuleert', 'stipp', 'stoeprand', 'stoeptegel', 'stof', 'stofafzu', 'stofbril', 'stoff', 'stofkapjes', 'stofschot', 'stofvorm', 'stolk', 'stom', 'stond', 'stookruimt', 'stoomkabel', 'stootijzer', 'stootkuss', 'stopp', 'stopplat', 'stopt', 'storing', 'storingsdienst', 'storingsmeld', 'storingsrond', 'storm', 'stort', 'stortbordes', 'stortbuis', 'stortbuiz', 'stortsteiger', 'stortstrip', 'stot', 'straatsten', 'straatwerk', 'straktrek', 'strat', 'stratenmaker', 'strek', 'strep', 'strijk', 'strip', 'striping', 'stroever', 'strok', 'strom', 'stromend', 'stroomd', 'stroomkabel', 'stroomkast', 'stroomstot', 'strop', 'stropp', 'structurel', 'struik', 'struikel', 'struikeld', 'struikelgevar', 'struikelt', 'stucadoorswerkzam', 'stucador', 'stucbankj', 'stucwerk', 'stud', 'stuitert', 'stuitj', 'stuk', 'stukj', 'stukjes', 'stukloper', 'stur', 'stuurfout', 'subcontractor', 'sublus', 'summier', 'super', 'suply', 'supporter', 'supportwapen', 'systeembekist', 'systeemfout', 'systeemplafond', 'system', 'tabj', 'tacker', 'tactisch', 'tafel', 'tafelbekist', 'tak', 'takel', 'talud', 'taludtrap', 'tang', 'tank', 'tankwag', 'tapijt', 'taxi', 'tbv', 'tbvhet', 'td', 'te', 'techniekzolder', 'technisch', 'teerketel', 'tegel', 'tegelijk', 'tegelijkertijd', 'tegelpadgrind', 'tegelvloer', 'tegenan', 'tegendruk', 'tegengehoud', 'tegengesteld', 'tegenhoud', 'tegenkom', 'tegenligg', 'tegenligger', 'tegenonder', 'tegenovergesteld', 'tegenstell', 'teken', 'teklein', 'tekort', 'tekortkom', 'tekstkar', 'telag', 'telefon', 'telefonisch', 'telekran', 'telt', 'tempellan', 'tempexblok', 'tempexplat', 'tempexspar', 'templex', 'ten', 'tennet', 'tennisarm', 'tent', 'tenzij', 'ter', 'terecht', 'terechtgekom', 'terechtkom', 'terechtkwam', 'terein', 'terneuz', 'terplat', 'terrecht', 'terrein', 'terry', 'terug', 'terugbreng', 'teruggebracht', 'teruggeschov', 'teruggeslag', 'terugker', 'terugkom', 'terugkomst', 'terugkoppel', 'teruglat', 'teruglop', 'terugplaats', 'terugrijd', 'terugschot', 'terugslag', 'terugtocht', 'terugtrek', 'terugweg', 'terugzet', 'terwijl', 'test', 'tetanusprik', 'tetanusspuit', 'tevel', 'teven', 'tex', 'tgv', 'the', 'their', 'theo', 'therapeut', 'thermo', 'thiel', 'thomas', 'thuis', 'thv', 'tientall', 'tijd', 'tijdelijk', 'tijden', 'tijdend', 'tijdenden', 'tijdig', 'tik', 'tilburg', 'till', 'tim', 'timmerhuis', 'timmerlied', 'timmerman', 'timmerwerkzam', 'tintel', 'titan', 'tl', 'tlbuis', 'tm', 'tno', 'to', 'toe', 'toedracht', 'toegang', 'toegangscontrol', 'toegangsdeur', 'toegangsladder', 'toegangspad', 'toegangspoort', 'toegangsweg', 'toegank', 'toegeleverd', 'toegepast', 'toegestan', 'toegetred', 'toegevoegd', 'toekomst', 'toelicht', 'toenhi', 'toepass', 'toerit', 'toestand', 'toestemm', 'toetred', 'toeval', 'toevoeg', 'toezicht', 'toezichthouder', 'toilet', 'toiletcabin', 'toiletunit', 'tomasz', 'ton', 'tongelrep', 'toolbox', 'toort', 'top', 'topj', 'tor', 'torenkraanmachinist', 'torenkran', 'torsie', 'tot', 'totaalgewicht', 'total', 'totdat', 'tourniket', 'touw', 'touwtj', 'tovu', 'tpv', 'trac', 'tracer', 'tracht', 'tractor', 'trailer', 'transit', 'transpireerd', 'transpirer', 'transport', 'transportbedrijf', 'transportbok', 'trap', 'trapbordes', 'trapgat', 'trapgatafdek', 'trapgatbeveil', 'trapj', 'trapjes', 'trapleun', 'trapopgang', 'trapoplop', 'trapp', 'trappengat', 'trappenhuis', 'trappenhuiz', 'trappenlop', 'trappentor', 'trappentoren', 'trappot', 'trapspar', 'trapt', 'traptred', 'trapverbind', 'trapvoet', 'traumahelicopter', 'traumahelikopter', 'tred', 'tree', 'treedplank', 'treeplank', 'treff', 'trek', 'trekker', 'trekkop', 'trekkopp', 'trekkracht', 'trekstang', 'trekt', 'trend', 'trespa', 'trilblok', 'trill', 'trilling', 'trilnaald', 'trilplat', 'troep', 'trok', 'trommel', 'trommelwand', 'trottoir', 'truck', 'trum', 'tshirt', 'tui', 'tuinslang', 'tunnel', 'tunnelbuis', 'tunneldek', 'tuss', 'tussenleun', 'tussenligg', 'tussenruimt', 'tussenteg', 'tussentijd', 'tusss', 'twed', 'twee', 'tweetal', 'tweewek', 'twello', 'tyleenschar', 'typ', 'tyrap', 'tyrapp', 'tyripes', 'tywrap', 'ugs', 'uit', 'uitbrak', 'uiteind', 'uiteraard', 'uitgaand', 'uitgang', 'uitgeboord', 'uitgebreid', 'uitgedan', 'uitgegan', 'uitgegled', 'uitgegledenheeft', 'uitgeklapt', 'uitgekom', 'uitgeled', 'uitgelegd', 'uitgelop', 'uitgenodigd', 'uitgeoef', 'uitgerold', 'uitgeschakeld', 'uitgeschot', 'uitgeschov', 'uitgeslep', 'uitgeslot', 'uitgestapt', 'uitgesteld', 'uitgestrekt', 'uitgetrok', 'uitgevall', 'uitgevoerd', 'uitgevuld', 'uitgewerk', 'uitgezet', 'uitgift', 'uitglijd', 'uithak', 'uithal', 'uithijs', 'uitkijkpunt', 'uitklimm', 'uitkomst', 'uitlop', 'uitloper', 'uitpositie', 'uitpuild', 'uitrijd', 'uitrit', 'uitsag', 'uitschot', 'uitslag', 'uitsorter', 'uitspoel', 'uitspoelt', 'uitstap', 'uitstapp', 'uitstek', 'uitstrom', 'uitvalt', 'uitvoer', 'uitvoerd', 'uitvoerder', 'uitvoerderarno', 'uitwend', 'uitwijk', 'uitwissel', 'uitwzwaaid', 'uitzendbureau', 'unit', 'up', 'uprofiel', 'uren', 'utiliteit', 'uur', 'v230sh', 'v251tl', 'vaart', 'vacum', 'vacuumwag', 'vaes', 'vak', 'vakantiebarbeque', 'vaker', 'vakman', 'vakmann', 'val', 'valbeveil', 'valbeveiligingsnet', 'valgat', 'valgevaarstruikelgevar', 'valgevar', 'valgewicht', 'valgordelbeveil', 'valgordelsharnass', 'valgordelvallijn', 'valhoogt', 'vall', 'vallend', 'vallijn', 'valstopapparat', 'valt', 'van', 'vanachter', 'vanaf', 'vanavond', 'vand', 'vandag', 'vandalism', 'vandan', 'vandar', 'vandor', 'vang', 'vanggordel', 'vanglijn', 'vangrail', 'vanmiddag', 'vanmorg', 'vannacht', 'vanocht', 'vanonder', 'vanop', 'vanuit', 'vanweg', 'vanzelf', 'var', 'variantgen', 'varkensrug', 'vast', 'vastdraai', 'vastgeklemd', 'vastgelegd', 'vastgelop', 'vastgemaakt', 'vastgeplakt', 'vastgesteld', 'vastgezet', 'vastgrijp', 'vasthield', 'vasthoud', 'vastlegg', 'vastmaakt', 'vastpak', 'vastpakt', 'vastschroev', 'vastslan', 'vaststaand', 'vastzat', 'vastzet', 'vastzit', 'vat', 'vatbar', 'vcagpi', 'vd', 'vdcportal', 'vder', 'veegmachin', 'veegring', 'veegrol', 'veegwag', 'veelkracht', 'veenendal', 'veg', 'veger', 'veilgheidsvestj', 'veilig', 'veiliger', 'veiligheidsbeleid', 'veiligheidsbril', 'veiligheidsdeskund', 'veiligheidsdilemmas', 'veiligheidshak', 'veiligheidsharnas', 'veiligheidshekj', 'veiligheidshesjes', 'veiligheidsinstructie', 'veiligheidsissues', 'veiligheidskund', 'veiligheidslijn', 'veiligheidsrond', 'veiligheidsruimt', 'veiligheidsschoeisel', 'veiligheidsschoen', 'veiligheidsvignet', 'vel', 'veld', 'veldzicht', 'velz', 'venlo', 'vensterbank', 'ventiel', 'ventilatie', 'ventiler', 'ver', 'verander', 'veranker', 'verankerd', 'verankeringsbuis', 'verankeringsbuiz', 'verankeringspunt', 'verankert', 'verantwoord', 'verband', 'verbandtrommel', 'verbeter', 'verbeterpunt', 'verbind', 'verbindingsmof', 'verbod', 'verbond', 'verbrand', 'verbred', 'verd', 'verdacht', 'verdeeld', 'verdeelkast', 'verdeler', 'verder', 'verderop', 'verdient', 'verdiep', 'verdiepingsvloer', 'verdiept', 'verdraai', 'verdraaid', 'verdraait', 'verduid', 'verdund', 'verdwen', 'vereist', 'verergerd', 'verf', 'vergader', 'vergaderruimtes', 'vergat', 'vergelijk', 'verget', 'verging', 'vergrendel', 'vergrendeld', 'vergrendelingshak', 'vergrot', 'verhard', 'verhinderd', 'verhog', 'verhoogd', 'verhuurder', 'verkeerd', 'verkeersbord', 'verkeersbordpal', 'verkeersmaatregel', 'verkeersportal', 'verkeersregelar', 'verkeert', 'verker', 'verklaart', 'verklar', 'verklein', 'verkoopterrein', 'verlaagd', 'verlag', 'verlangd', 'verlat', 'verled', 'verleend', 'verlegd', 'verlegg', 'verleggenverplaats', 'verlen', 'verlenghaspel', 'verlengkabel', 'verlengsnoer', 'verlet', 'verlicht', 'verlies', 'verliest', 'verliet', 'verloopt', 'verlop', 'verlor', 'vermeld', 'verminderd', 'vermoed', 'vermoedt', 'verongelukt', 'verontreinigd', 'veroorzaakt', 'veroorzak', 'verouder', 'verouderd', 'verpakkingsbandj', 'verpakkingsmateriaal', 'verpenn', 'verplaats', 'verplaatsenverrijd', 'verplaatsenverroll', 'verplaatst', 'verplicht', 'verpomp', 'verrass', 'verrast', 'verreiker', 'verreikerloader', 'verrekt', 'verricht', 'verrot', 'versa', 'verschaft', 'verschen', 'verschil', 'verschill', 'verschov', 'verschuiv', 'versie', 'verslag', 'versperr', 'versplinterd', 'verspreid', 'verstapt', 'verstaptestruikeld', 'verstaptuitgegled', 'verstell', 'verstev', 'verstond', 'verstopp', 'verstrek', 'verstrekt', 'verstuikt', 'verstuurd', 'versus', 'verteld', 'vertical', 'vertild', 'verton', 'vertrapt', 'vertrok', 'vervaard', 'vervall', 'vervang', 'vervangendaangepast', 'vervoer', 'vervoerd', 'vervolg', 'vervolgd', 'vervolgen', 'vervuild', 'verwacht', 'verwarm', 'verwerk', 'verwerker', 'verwerkingsmethod', 'verwerkingsvoorschrift', 'verwerkt', 'verwijder', 'verwijderd', 'verwijdert', 'verwijst', 'verwissel', 'verwond', 'verzadigd', 'verzak', 'verzakt', 'verzameld', 'verzamelplat', 'verzegel', 'verzet', 'verzinkt', 'verzoek', 'verzorgingstehuis', 'verzuim', 'verzuimd', 'verzuimmeld', 'verzwikt', 'verzwiktgekneusd', 'vestig', 'veter', 'vetweefsel', 'vezel', 'vg406h', 'vgm', 'vgwminspectie', 'vgwmrapportag', 'vhs', 'via', 'vibro', 'vic', 'viel', 'vier', 'vies', 'vilton', 'vincent', 'vind', 'ving', 'vinger', 'vingerkootj', 'vingertop', 'vingertopj', 'vink', 'vkm', 'vlak', 'vlam', 'vlambog', 'vlamgevat', 'vlechtdrag', 'vlechter', 'vlechtsteiger', 'vlechtwerkzam', 'vleeswond', 'vles', 'vleugel', 'vlgs', 'vlinder', 'vloeibar', 'vloeistof', 'vloer', 'vloerdel', 'vloerensmeerder', 'vloerplank', 'vloerplat', 'vloerrand', 'vloerspar', 'vloertj', 'vloerveld', 'vloerzuil', 'vlog', 'vlonder', 'vlot', 'vluchstrok', 'vlucht', 'vluchtdeur', 'vluchtheuvel', 'vluchtmog', 'vluchtplan', 'vluchtrout', 'vluchtroutes', 'vluchtstrok', 'vluchtweg', 'vluchtwegverlicht', 'voaonderzoek', 'vocht', 'vochtig', 'vodk', 'voedingskabel', 'voeg', 'voegmortel', 'voegovergang', 'voegprofiel', 'voeld', 'voeler', 'voelt', 'voeplaatconstructie', 'voer', 'voerd', 'voerend', 'voerhet', 'voert', 'voertuig', 'voet', 'voetakker', 'voetben', 'voetganger', 'voetgangersbrug', 'voetgangersoversteekplat', 'voetpad', 'voetplat', 'vof', 'voglen', 'vol', 'voldan', 'voldoen', 'voldoend', 'voldoet', 'volg', 'volgen', 'volgend', 'volgord', 'volgt', 'volkswag', 'voll', 'volled', 'vond', 'vonk', 'vonkvervorm', 'voorafgaand', 'vooral', 'voorarm', 'voorbereid', 'voorbij', 'voorbumper', 'voordat', 'voordeur', 'voordeurkozijn', 'voorganger', 'voorgedan', 'voorgekom', 'voorgeschrev', 'voorgespann', 'voorhand', 'voorhoofd', 'voorkeur', 'voorkom', 'voorkomt', 'voorlaatst', 'voorligg', 'voorlop', 'voorman', 'voormanwilliam', 'voornam', 'voornet', 'voorover', 'voorrad', 'voorruit', 'voorscherm', 'voorschrift', 'voorspanstreng', 'voorst', 'voorstel', 'voort', 'voortdur', 'voortgezet', 'voortzet', 'vooruit', 'voorval', 'voorwerp', 'voorzicht', 'voorzie', 'voorzien', 'voorzijd', 'vop', 'vor', 'vorig', 'vorkheftruck', 'vorm', 'vorst', 'vorstperiodes', 'vouwladder', 'vraagt', 'vracht', 'vrachtauto', 'vrachtautos', 'vrachtwag', 'vrachtwagen', 'vrachtwagenchauffeur', 'vrachtwagentrailer', 'vrag', 'vreemd', 'vreeswijk', 'vres', 'vri', 'vries', 'vriez', 'vrij', 'vrijdag', 'vrijgegev', 'vrijgegrav', 'vrijgekom', 'vrijgeschakeld', 'vrijgrav', 'vrijhoud', 'vrijkomt', 'vroeg', 'vrouw', 'vt', 'vu', 'vuil', 'vuilcontainer', 'vuilstof', 'vuiltj', 'vuilwaterpomp', 'vuilwaterput', 'vuistj', 'vull', 'vulling', 'vulplat', 'vwb', 'vwcaddy', 'vzp', 'waaardor', 'waai', 'waaid', 'waait', 'waaran', 'waarbij', 'waarborg', 'waard', 'waarder', 'waardor', 'waargenom', 'waarin', 'waarmee', 'waarna', 'waarnem', 'waarom', 'waaronder', 'waarop', 'waarover', 'waarschijn', 'waarschuwingsbord', 'waarvan', 'wacht', 'wachttijd', 'wacker', 'wag', 'wageman', 'wagenar', 'wagentj', 'wal', 'wand', 'wandbekist', 'wandconsol', 'wandel', 'wandgot', 'wandj', 'wandkist', 'wandstatief', 'wandtegel', 'wandwapen', 'wandzag', 'waner', 'wang', 'wankel', 'wanner', 'wanord', 'wapen', 'wapeningskorf', 'wapeningskorfj', 'wapeningskorv', 'wapeningsnet', 'wapeningsstaf', 'wapeningsstal', 'wapeningsstav', 'wapeningsstek', 'wapeningstaf', 'wapeningstal', 'war', 'warbij', 'warm', 'warmhoud', 'warmt', 'warmtewisselar', 'warmwater', 'warmwaterleid', 'wartel', 'was', 'wasmachin', 'wass', 'wat', 'water', 'waterafstot', 'waterleid', 'watermeter', 'watermeterwissel', 'waterpas', 'waterpomptang', 'waterslag', 'watertappunt', 'watervoer', 'wazig', 'we', 'wear', 'wederom', 'weekend', 'weekrapport', 'weersomstand', 'weerstand', 'weesp', 'weg', 'wegafzet', 'wegbrand', 'wegbreng', 'wegdek', 'wegdraai', 'wegen', 'wegenbouw', 'wegendoek', 'weggebruiker', 'weggedraaid', 'weggegled', 'weggehaald', 'weggelegd', 'weggenom', 'weggered', 'weggeschot', 'weggeslag', 'weggeslingerd', 'weggestuurd', 'weggevall', 'weggewaaid', 'weggezakt', 'weggled', 'wegglijd', 'weggooi', 'weghal', 'weghelft', 'weginspecteur', 'weglegg', 'weglop', 'wegnem', 'wegred', 'wegschuiv', 'wegtrek', 'wegvak', 'wegvall', 'wegviel', 'wegwerkzam', 'wegzak', 'wegzakt', 'weidmuller', 'weinig', 'wek', 'wekelijk', 'wel', 'welk', 'welt', 'welter', 'wenkbrauw', 'wentink', 'wer', 'werd', 'werdt', 'werf', 'werfbas', 'werk', 'werkafzet', 'werkbank', 'werkbordess', 'werkbroek', 'werkdag', 'werkend', 'werkgat', 'werkgebied', 'werkgever', 'werkhandschoen', 'werkhoogt', 'werkhoud', 'werking', 'werkjass', 'werkkled', 'werklaarz', 'werklocatie', 'werkmethod', 'werknemer', 'werkplan', 'werkplat', 'werkplateau', 'werkplatform', 'werkplek', 'werkplekinspecties', 'werkput', 'werkruimt', 'werkschoen', 'werkschrikvloer', 'werksituatie', 'werksteiger', 'werkstuk', 'werkt', 'werkterrein', 'werktijd', 'werktuigbouwkund', 'werkuitvoeger', 'werkvak', 'werkverantwoord', 'werkverkeerterrein', 'werkverker', 'werkvloer', 'werkvoertu', 'werkvolgord', 'werkvoorbereid', 'werkvoorrad', 'werkwek', 'werkwijz', 'werkzaamehd', 'werkzam', 'wesley', 'west', 'westsluis', 'westzijd', 'wet', 'whb', 'which', 'wiel', 'wigg', 'wij', 'wijk', 'wijkfitter', 'wijl', 'wijs', 'wijsvinger', 'wijt', 'wijthem', 'wijz', 'wijzig', 'wilco', 'wild', 'wilhelminakanal', 'will', 'willem', 'willy', 'wilt', 'wim', 'wind', 'winddoek', 'windstot', 'windvlag', 'wintersport', 'wintervoorzien', 'wissel', 'wisselar', 'wisselban', 'wit', 'wk2wand', 'wkn', 'wkoruimt', 'wmonteur', 'woensdag', 'wolfswinkel', 'won', 'wond', 'wondj', 'wondjes', 'woning', 'woningblok', 'woningbouw', 'woonplat', 'woonwijk', 'word', 'wordt', 'worker', 'working', 'wortel', 'wou', 'wpi', 'wref', 'wrik', 'ws', 'wtb', 'wvb', 'wvber', 'xella', 'yersek', 'ytong', 'z37117', 'z5', 'zaagafval', 'zaagblad', 'zaagcontainer', 'zaaghout', 'zaaglod', 'zaagmachin', 'zaagplekzaaglod', 'zaagploeg', 'zaagsel', 'zaagtafel', 'zaagwond', 'zacht', 'zachter', 'zadel', 'zag', 'zak', 'zakbak', 'zakelijk', 'zakt', 'zalf', 'zan', 'zand', 'zandfiltergebouw', 'zandhell', 'zandscheid', 'zandstof', 'zandtransport', 'zandzak', 'zat', 'zaterdag', 'zaterdagocht', 'zegg', 'zei', 'zeid', 'zeijl', 'zeil', 'zeinstra', 'zeker', 'zelf', 'zelfd', 'zelfstand', 'zer', 'zestal', 'zet', 'zetj', 'zgn', 'zicht', 'zichtbaarheidskled', 'zichtbar', 'zichzelf', 'zie', 'ziek', 'ziekenbezoek', 'ziekenhuis', 'ziekgemeld', 'ziekmeld', 'ziekt', 'zien', 'ziet', 'ziin', 'zijd', 'zijdel', 'zijdeur', 'zijkant', 'zijn', 'zijnd', 'zin', 'zink', 'zinkrest', 'zit', 'zittend', 'zjin', 'zkh', 'zn', 'zo', 'zoal', 'zodat', 'zodra', 'zoeker', 'zoeknok', 'zogehet', 'zogenaamd', 'zojuist', 'zolder', 'zoldervloer', 'zomar', 'zon', 'zondag', 'zones', 'zonnescherm', 'zonsopkomst', 'zonwer', 'zonwerk', 'zooitj', 'zorg', 'zorgdrag', 'zorggedrag', 'zorgt', 'zoud', 'zovel', 'zover', 'zowat', 'zowel', 'zuid', 'zuidplus', 'zuidwest', 'zuidzijd', 'zuigmond', 'zuignap', 'zuurkast', 'zuurstof', 'zuurstoffles', 'zuurstofslang', 'zwaaid', 'zwaailamp', 'zwaartepunt', 'zwagerman', 'zwak', 'zwar', 'zwart', 'zwavelzuurgas', 'zweepslag', 'zwell', 'zwelling', 'zwengel', 'zwenk', 'zwerfkast', 'zwerfkei', 'zwerft', 'zwerver', 'zweverink', 'zwiept', 'zwikt', 'zwoll']\n"
     ]
    }
   ],
   "source": [
    "print(tf.get_feature_names())"
   ]
  },
  {
   "cell_type": "code",
   "execution_count": 28,
   "metadata": {},
   "outputs": [],
   "source": [
    "X = tf.transform(X)\n",
    "test_X = tf.transform(test_x)"
   ]
  },
  {
   "cell_type": "code",
   "execution_count": 106,
   "metadata": {},
   "outputs": [
    {
     "name": "stdout",
     "output_type": "stream",
     "text": [
      "  (0, 5665)\t0.16976790830559543\n",
      "  (0, 5127)\t0.3320734477783637\n",
      "  (0, 4893)\t0.19639007310513165\n",
      "  (0, 3724)\t0.2798660301777305\n",
      "  (0, 3661)\t0.2823148548293581\n",
      "  (0, 3273)\t0.34033119641627285\n",
      "  (0, 3226)\t0.1509860493441311\n",
      "  (0, 2896)\t0.17982218458788565\n",
      "  (0, 2814)\t0.34033119641627285\n",
      "  (0, 2088)\t0.2775428428415158\n",
      "  (0, 1688)\t0.34033119641627285\n",
      "  (0, 1286)\t0.31370903161673663\n",
      "  (0, 924)\t0.29369744399937553\n",
      "  (1, 5050)\t0.4143395950725479\n",
      "  (1, 4957)\t0.3882481314979803\n",
      "  (1, 4786)\t0.35669814355032786\n",
      "  (1, 3226)\t0.19243651495984676\n",
      "  (1, 3084)\t0.2650193912540249\n",
      "  (1, 2847)\t0.28481634918930765\n",
      "  (1, 2232)\t0.4866570622700868\n",
      "  (1, 2088)\t0.35373716750968026\n",
      "  (2, 5046)\t0.4543815543430806\n",
      "  (2, 4937)\t0.18232039564438385\n",
      "  (2, 4869)\t0.4629950126119811\n",
      "  (2, 3574)\t0.4990930951771326\n",
      "  :\t:\n",
      "  (3370, 2992)\t0.1091251537410198\n",
      "  (3370, 2930)\t0.17694347062458382\n",
      "  (3370, 2924)\t0.10813028513182331\n",
      "  (3370, 2739)\t0.14461194032848224\n",
      "  (3370, 2595)\t0.1254503682196747\n",
      "  (3370, 2536)\t0.1706003167624411\n",
      "  (3370, 2391)\t0.10656585751830296\n",
      "  (3370, 2321)\t0.0859435407680973\n",
      "  (3370, 2267)\t0.0996267435875162\n",
      "  (3370, 2053)\t0.16890787784196148\n",
      "  (3370, 1772)\t0.10482422780168493\n",
      "  (3370, 1507)\t0.12932861322390887\n",
      "  (3370, 1432)\t0.126173356932548\n",
      "  (3370, 776)\t0.1269208583552523\n",
      "  (3370, 635)\t0.4338358209854467\n",
      "  (3370, 207)\t0.1706003167624411\n",
      "  (3370, 183)\t0.15826124739914738\n",
      "  (3371, 4967)\t0.3203006448675797\n",
      "  (3371, 4451)\t0.39639062891246046\n",
      "  (3371, 4314)\t0.3421248879777052\n",
      "  (3371, 4251)\t0.28785914704294996\n",
      "  (3371, 4082)\t0.3545385154229173\n",
      "  (3371, 4080)\t0.39639062891246046\n",
      "  (3371, 3290)\t0.39639062891246046\n",
      "  (3371, 1062)\t0.31689275536090517\n"
     ]
    }
   ],
   "source": [
    "print(X)"
   ]
  },
  {
   "cell_type": "markdown",
   "metadata": {},
   "source": [
    "# Gridsearch to find best models"
   ]
  },
  {
   "cell_type": "markdown",
   "metadata": {},
   "source": [
    "### Logistic Regression"
   ]
  },
  {
   "cell_type": "code",
   "execution_count": 29,
   "metadata": {},
   "outputs": [],
   "source": [
    "lr_gc = GridSearchCV(LogisticRegression(random_state=0), {'penalty':['l1', 'l2'], 'C':[0.1, 1, 5, 10]}, scoring='f1_macro')"
   ]
  },
  {
   "cell_type": "code",
   "execution_count": 30,
   "metadata": {},
   "outputs": [
    {
     "name": "stderr",
     "output_type": "stream",
     "text": [
      "C:\\Users\\byri\\AppData\\Local\\Continuum\\anaconda3\\lib\\site-packages\\sklearn\\model_selection\\_validation.py:536: FitFailedWarning: Estimator fit failed. The score on this train-test partition for these parameters will be set to nan. Details: \n",
      "ValueError: Solver lbfgs supports only 'l2' or 'none' penalties, got l1 penalty.\n",
      "\n",
      "  FitFailedWarning)\n",
      "C:\\Users\\byri\\AppData\\Local\\Continuum\\anaconda3\\lib\\site-packages\\sklearn\\model_selection\\_validation.py:536: FitFailedWarning: Estimator fit failed. The score on this train-test partition for these parameters will be set to nan. Details: \n",
      "ValueError: Solver lbfgs supports only 'l2' or 'none' penalties, got l1 penalty.\n",
      "\n",
      "  FitFailedWarning)\n",
      "C:\\Users\\byri\\AppData\\Local\\Continuum\\anaconda3\\lib\\site-packages\\sklearn\\model_selection\\_validation.py:536: FitFailedWarning: Estimator fit failed. The score on this train-test partition for these parameters will be set to nan. Details: \n",
      "ValueError: Solver lbfgs supports only 'l2' or 'none' penalties, got l1 penalty.\n",
      "\n",
      "  FitFailedWarning)\n",
      "C:\\Users\\byri\\AppData\\Local\\Continuum\\anaconda3\\lib\\site-packages\\sklearn\\linear_model\\_logistic.py:940: ConvergenceWarning: lbfgs failed to converge (status=1):\n",
      "STOP: TOTAL NO. of ITERATIONS REACHED LIMIT.\n",
      "\n",
      "Increase the number of iterations (max_iter) or scale the data as shown in:\n",
      "    https://scikit-learn.org/stable/modules/preprocessing.html\n",
      "Please also refer to the documentation for alternative solver options:\n",
      "    https://scikit-learn.org/stable/modules/linear_model.html#logistic-regression\n",
      "  extra_warning_msg=_LOGISTIC_SOLVER_CONVERGENCE_MSG)\n",
      "C:\\Users\\byri\\AppData\\Local\\Continuum\\anaconda3\\lib\\site-packages\\sklearn\\linear_model\\_logistic.py:940: ConvergenceWarning: lbfgs failed to converge (status=1):\n",
      "STOP: TOTAL NO. of ITERATIONS REACHED LIMIT.\n",
      "\n",
      "Increase the number of iterations (max_iter) or scale the data as shown in:\n",
      "    https://scikit-learn.org/stable/modules/preprocessing.html\n",
      "Please also refer to the documentation for alternative solver options:\n",
      "    https://scikit-learn.org/stable/modules/linear_model.html#logistic-regression\n",
      "  extra_warning_msg=_LOGISTIC_SOLVER_CONVERGENCE_MSG)\n",
      "C:\\Users\\byri\\AppData\\Local\\Continuum\\anaconda3\\lib\\site-packages\\sklearn\\linear_model\\_logistic.py:940: ConvergenceWarning: lbfgs failed to converge (status=1):\n",
      "STOP: TOTAL NO. of ITERATIONS REACHED LIMIT.\n",
      "\n",
      "Increase the number of iterations (max_iter) or scale the data as shown in:\n",
      "    https://scikit-learn.org/stable/modules/preprocessing.html\n",
      "Please also refer to the documentation for alternative solver options:\n",
      "    https://scikit-learn.org/stable/modules/linear_model.html#logistic-regression\n",
      "  extra_warning_msg=_LOGISTIC_SOLVER_CONVERGENCE_MSG)\n",
      "C:\\Users\\byri\\AppData\\Local\\Continuum\\anaconda3\\lib\\site-packages\\sklearn\\linear_model\\_logistic.py:940: ConvergenceWarning: lbfgs failed to converge (status=1):\n",
      "STOP: TOTAL NO. of ITERATIONS REACHED LIMIT.\n",
      "\n",
      "Increase the number of iterations (max_iter) or scale the data as shown in:\n",
      "    https://scikit-learn.org/stable/modules/preprocessing.html\n",
      "Please also refer to the documentation for alternative solver options:\n",
      "    https://scikit-learn.org/stable/modules/linear_model.html#logistic-regression\n",
      "  extra_warning_msg=_LOGISTIC_SOLVER_CONVERGENCE_MSG)\n",
      "C:\\Users\\byri\\AppData\\Local\\Continuum\\anaconda3\\lib\\site-packages\\sklearn\\linear_model\\_logistic.py:940: ConvergenceWarning: lbfgs failed to converge (status=1):\n",
      "STOP: TOTAL NO. of ITERATIONS REACHED LIMIT.\n",
      "\n",
      "Increase the number of iterations (max_iter) or scale the data as shown in:\n",
      "    https://scikit-learn.org/stable/modules/preprocessing.html\n",
      "Please also refer to the documentation for alternative solver options:\n",
      "    https://scikit-learn.org/stable/modules/linear_model.html#logistic-regression\n",
      "  extra_warning_msg=_LOGISTIC_SOLVER_CONVERGENCE_MSG)\n",
      "C:\\Users\\byri\\AppData\\Local\\Continuum\\anaconda3\\lib\\site-packages\\sklearn\\model_selection\\_validation.py:536: FitFailedWarning: Estimator fit failed. The score on this train-test partition for these parameters will be set to nan. Details: \n",
      "ValueError: Solver lbfgs supports only 'l2' or 'none' penalties, got l1 penalty.\n",
      "\n",
      "  FitFailedWarning)\n",
      "C:\\Users\\byri\\AppData\\Local\\Continuum\\anaconda3\\lib\\site-packages\\sklearn\\linear_model\\_logistic.py:940: ConvergenceWarning: lbfgs failed to converge (status=1):\n",
      "STOP: TOTAL NO. of ITERATIONS REACHED LIMIT.\n",
      "\n",
      "Increase the number of iterations (max_iter) or scale the data as shown in:\n",
      "    https://scikit-learn.org/stable/modules/preprocessing.html\n",
      "Please also refer to the documentation for alternative solver options:\n",
      "    https://scikit-learn.org/stable/modules/linear_model.html#logistic-regression\n",
      "  extra_warning_msg=_LOGISTIC_SOLVER_CONVERGENCE_MSG)\n",
      "C:\\Users\\byri\\AppData\\Local\\Continuum\\anaconda3\\lib\\site-packages\\sklearn\\linear_model\\_logistic.py:940: ConvergenceWarning: lbfgs failed to converge (status=1):\n",
      "STOP: TOTAL NO. of ITERATIONS REACHED LIMIT.\n",
      "\n",
      "Increase the number of iterations (max_iter) or scale the data as shown in:\n",
      "    https://scikit-learn.org/stable/modules/preprocessing.html\n",
      "Please also refer to the documentation for alternative solver options:\n",
      "    https://scikit-learn.org/stable/modules/linear_model.html#logistic-regression\n",
      "  extra_warning_msg=_LOGISTIC_SOLVER_CONVERGENCE_MSG)\n",
      "C:\\Users\\byri\\AppData\\Local\\Continuum\\anaconda3\\lib\\site-packages\\sklearn\\linear_model\\_logistic.py:940: ConvergenceWarning: lbfgs failed to converge (status=1):\n",
      "STOP: TOTAL NO. of ITERATIONS REACHED LIMIT.\n",
      "\n",
      "Increase the number of iterations (max_iter) or scale the data as shown in:\n",
      "    https://scikit-learn.org/stable/modules/preprocessing.html\n",
      "Please also refer to the documentation for alternative solver options:\n",
      "    https://scikit-learn.org/stable/modules/linear_model.html#logistic-regression\n",
      "  extra_warning_msg=_LOGISTIC_SOLVER_CONVERGENCE_MSG)\n",
      "C:\\Users\\byri\\AppData\\Local\\Continuum\\anaconda3\\lib\\site-packages\\sklearn\\linear_model\\_logistic.py:940: ConvergenceWarning: lbfgs failed to converge (status=1):\n",
      "STOP: TOTAL NO. of ITERATIONS REACHED LIMIT.\n",
      "\n",
      "Increase the number of iterations (max_iter) or scale the data as shown in:\n",
      "    https://scikit-learn.org/stable/modules/preprocessing.html\n",
      "Please also refer to the documentation for alternative solver options:\n",
      "    https://scikit-learn.org/stable/modules/linear_model.html#logistic-regression\n",
      "  extra_warning_msg=_LOGISTIC_SOLVER_CONVERGENCE_MSG)\n",
      "C:\\Users\\byri\\AppData\\Local\\Continuum\\anaconda3\\lib\\site-packages\\sklearn\\linear_model\\_logistic.py:940: ConvergenceWarning: lbfgs failed to converge (status=1):\n",
      "STOP: TOTAL NO. of ITERATIONS REACHED LIMIT.\n",
      "\n",
      "Increase the number of iterations (max_iter) or scale the data as shown in:\n",
      "    https://scikit-learn.org/stable/modules/preprocessing.html\n",
      "Please also refer to the documentation for alternative solver options:\n",
      "    https://scikit-learn.org/stable/modules/linear_model.html#logistic-regression\n",
      "  extra_warning_msg=_LOGISTIC_SOLVER_CONVERGENCE_MSG)\n",
      "C:\\Users\\byri\\AppData\\Local\\Continuum\\anaconda3\\lib\\site-packages\\sklearn\\linear_model\\_logistic.py:940: ConvergenceWarning: lbfgs failed to converge (status=1):\n",
      "STOP: TOTAL NO. of ITERATIONS REACHED LIMIT.\n",
      "\n",
      "Increase the number of iterations (max_iter) or scale the data as shown in:\n",
      "    https://scikit-learn.org/stable/modules/preprocessing.html\n",
      "Please also refer to the documentation for alternative solver options:\n",
      "    https://scikit-learn.org/stable/modules/linear_model.html#logistic-regression\n",
      "  extra_warning_msg=_LOGISTIC_SOLVER_CONVERGENCE_MSG)\n"
     ]
    },
    {
     "data": {
      "text/plain": [
       "GridSearchCV(cv=None, error_score=nan,\n",
       "             estimator=LogisticRegression(C=1.0, class_weight=None, dual=False,\n",
       "                                          fit_intercept=True,\n",
       "                                          intercept_scaling=1, l1_ratio=None,\n",
       "                                          max_iter=100, multi_class='auto',\n",
       "                                          n_jobs=None, penalty='l2',\n",
       "                                          random_state=0, solver='lbfgs',\n",
       "                                          tol=0.0001, verbose=0,\n",
       "                                          warm_start=False),\n",
       "             iid='deprecated', n_jobs=None,\n",
       "             param_grid={'C': [0.1, 1, 5, 10], 'penalty': ['l1', 'l2']},\n",
       "             pre_dispatch='2*n_jobs', refit=True, return_train_score=False,\n",
       "             scoring='f1_macro', verbose=0)"
      ]
     },
     "execution_count": 30,
     "metadata": {},
     "output_type": "execute_result"
    }
   ],
   "source": [
    "lr_gc.fit(X, y)"
   ]
  },
  {
   "cell_type": "code",
   "execution_count": 31,
   "metadata": {},
   "outputs": [
    {
     "data": {
      "text/plain": [
       "LogisticRegression(C=10, class_weight=None, dual=False, fit_intercept=True,\n",
       "                   intercept_scaling=1, l1_ratio=None, max_iter=100,\n",
       "                   multi_class='auto', n_jobs=None, penalty='l2',\n",
       "                   random_state=0, solver='lbfgs', tol=0.0001, verbose=0,\n",
       "                   warm_start=False)"
      ]
     },
     "execution_count": 31,
     "metadata": {},
     "output_type": "execute_result"
    }
   ],
   "source": [
    "lr_gc.best_estimator_"
   ]
  },
  {
   "cell_type": "code",
   "execution_count": 32,
   "metadata": {},
   "outputs": [
    {
     "data": {
      "text/plain": [
       "0.8886864543788855"
      ]
     },
     "execution_count": 32,
     "metadata": {},
     "output_type": "execute_result"
    }
   ],
   "source": [
    "lr_best_score = lr_gc.best_score_\n",
    "lr_best_score"
   ]
  },
  {
   "cell_type": "code",
   "execution_count": 33,
   "metadata": {},
   "outputs": [
    {
     "name": "stdout",
     "output_type": "stream",
     "text": [
      "lr_P score (test): 0.9141986954085171\n"
     ]
    }
   ],
   "source": [
    "print(\"lr_P score (test):\",lr_gc.score(test_X , test_y))\n"
   ]
  },
  {
   "cell_type": "code",
   "execution_count": 34,
   "metadata": {},
   "outputs": [
    {
     "name": "stdout",
     "output_type": "stream",
     "text": [
      "                                             precision    recall  f1-score   support\n",
      "\n",
      "                                 Aanrijding       0.98      0.86      0.92        51\n",
      "Agressie en extreme lichamelijke inspanning       1.00      0.96      0.98        77\n",
      "   Andere vormen van contact met voorwerpen       0.76      0.75      0.76        64\n",
      "                       BHV inzet op locatie       0.96      0.97      0.96        66\n",
      "    Gevaarlijke stoffen, brand en explosies       0.97      0.98      0.98        61\n",
      "                Machines en handgereedschap       0.85      0.89      0.87        62\n",
      "        Vallen (van personen of voorwerpen)       0.93      0.95      0.94       215\n",
      "\n",
      "                                   accuracy                           0.92       596\n",
      "                                  macro avg       0.92      0.91      0.91       596\n",
      "                               weighted avg       0.92      0.92      0.92       596\n",
      "\n"
     ]
    }
   ],
   "source": [
    "from sklearn.metrics import classification_report, confusion_matrix\n",
    "lr_gc_predict= lr_gc.predict(test_X)\n",
    "print(classification_report(test_y, lr_gc_predict))"
   ]
  },
  {
   "cell_type": "code",
   "execution_count": 42,
   "metadata": {},
   "outputs": [
    {
     "name": "stdout",
     "output_type": "stream",
     "text": [
      "[[ 25   0   1   2   0   0   5]\n",
      " [  0  49   0   0   0   0   0]\n",
      " [  0   4  29   2   0   5   5]\n",
      " [  0   0   0  46   0   0   0]\n",
      " [  0   0   2   0  39   0   0]\n",
      " [  1   0   3   0   0  34   5]\n",
      " [  0   1   1   1   0   2 135]]\n"
     ]
    }
   ],
   "source": [
    "print(confusion_matrix( test_y,lr_gc_predict))"
   ]
  },
  {
   "cell_type": "code",
   "execution_count": 35,
   "metadata": {},
   "outputs": [
    {
     "data": {
      "text/html": [
       "<div>\n",
       "<style scoped>\n",
       "    .dataframe tbody tr th:only-of-type {\n",
       "        vertical-align: middle;\n",
       "    }\n",
       "\n",
       "    .dataframe tbody tr th {\n",
       "        vertical-align: top;\n",
       "    }\n",
       "\n",
       "    .dataframe thead th {\n",
       "        text-align: right;\n",
       "    }\n",
       "</style>\n",
       "<table border=\"1\" class=\"dataframe\">\n",
       "  <thead>\n",
       "    <tr style=\"text-align: right;\">\n",
       "      <th></th>\n",
       "      <th>Vallen (van personen of voorwerpen)</th>\n",
       "      <th>Gevaarlijke stoffen, brand en explosies</th>\n",
       "      <th>Andere vormen van contact met voorwerpen</th>\n",
       "      <th>BHV inzet op locatie</th>\n",
       "      <th>Aanrijding</th>\n",
       "      <th>Agressie en extreme lichamelijke inspanning</th>\n",
       "      <th>Machines en handgereedschap</th>\n",
       "    </tr>\n",
       "  </thead>\n",
       "  <tbody>\n",
       "    <tr>\n",
       "      <th>Gevaarlijke stoffen, brand en explosies</th>\n",
       "      <td>60</td>\n",
       "      <td>0</td>\n",
       "      <td>0</td>\n",
       "      <td>0</td>\n",
       "      <td>0</td>\n",
       "      <td>0</td>\n",
       "      <td>1</td>\n",
       "    </tr>\n",
       "    <tr>\n",
       "      <th>Andere vormen van contact met voorwerpen</th>\n",
       "      <td>1</td>\n",
       "      <td>48</td>\n",
       "      <td>8</td>\n",
       "      <td>5</td>\n",
       "      <td>0</td>\n",
       "      <td>0</td>\n",
       "      <td>2</td>\n",
       "    </tr>\n",
       "    <tr>\n",
       "      <th>Machines en handgereedschap</th>\n",
       "      <td>0</td>\n",
       "      <td>4</td>\n",
       "      <td>55</td>\n",
       "      <td>3</td>\n",
       "      <td>0</td>\n",
       "      <td>0</td>\n",
       "      <td>0</td>\n",
       "    </tr>\n",
       "    <tr>\n",
       "      <th>Vallen (van personen of voorwerpen)</th>\n",
       "      <td>0</td>\n",
       "      <td>7</td>\n",
       "      <td>2</td>\n",
       "      <td>205</td>\n",
       "      <td>1</td>\n",
       "      <td>0</td>\n",
       "      <td>0</td>\n",
       "    </tr>\n",
       "    <tr>\n",
       "      <th>Aanrijding</th>\n",
       "      <td>0</td>\n",
       "      <td>2</td>\n",
       "      <td>0</td>\n",
       "      <td>5</td>\n",
       "      <td>44</td>\n",
       "      <td>0</td>\n",
       "      <td>0</td>\n",
       "    </tr>\n",
       "    <tr>\n",
       "      <th>Agressie en extreme lichamelijke inspanning</th>\n",
       "      <td>0</td>\n",
       "      <td>1</td>\n",
       "      <td>0</td>\n",
       "      <td>2</td>\n",
       "      <td>0</td>\n",
       "      <td>74</td>\n",
       "      <td>0</td>\n",
       "    </tr>\n",
       "    <tr>\n",
       "      <th>BHV inzet op locatie</th>\n",
       "      <td>1</td>\n",
       "      <td>1</td>\n",
       "      <td>0</td>\n",
       "      <td>0</td>\n",
       "      <td>0</td>\n",
       "      <td>0</td>\n",
       "      <td>64</td>\n",
       "    </tr>\n",
       "  </tbody>\n",
       "</table>\n",
       "</div>"
      ],
      "text/plain": [
       "                                             Vallen (van personen of voorwerpen)  \\\n",
       "Gevaarlijke stoffen, brand en explosies                                       60   \n",
       "Andere vormen van contact met voorwerpen                                       1   \n",
       "Machines en handgereedschap                                                    0   \n",
       "Vallen (van personen of voorwerpen)                                            0   \n",
       "Aanrijding                                                                     0   \n",
       "Agressie en extreme lichamelijke inspanning                                    0   \n",
       "BHV inzet op locatie                                                           1   \n",
       "\n",
       "                                             Gevaarlijke stoffen, brand en explosies  \\\n",
       "Gevaarlijke stoffen, brand en explosies                                            0   \n",
       "Andere vormen van contact met voorwerpen                                          48   \n",
       "Machines en handgereedschap                                                        4   \n",
       "Vallen (van personen of voorwerpen)                                                7   \n",
       "Aanrijding                                                                         2   \n",
       "Agressie en extreme lichamelijke inspanning                                        1   \n",
       "BHV inzet op locatie                                                               1   \n",
       "\n",
       "                                             Andere vormen van contact met voorwerpen  \\\n",
       "Gevaarlijke stoffen, brand en explosies                                             0   \n",
       "Andere vormen van contact met voorwerpen                                            8   \n",
       "Machines en handgereedschap                                                        55   \n",
       "Vallen (van personen of voorwerpen)                                                 2   \n",
       "Aanrijding                                                                          0   \n",
       "Agressie en extreme lichamelijke inspanning                                         0   \n",
       "BHV inzet op locatie                                                                0   \n",
       "\n",
       "                                             BHV inzet op locatie  Aanrijding  \\\n",
       "Gevaarlijke stoffen, brand en explosies                         0           0   \n",
       "Andere vormen van contact met voorwerpen                        5           0   \n",
       "Machines en handgereedschap                                     3           0   \n",
       "Vallen (van personen of voorwerpen)                           205           1   \n",
       "Aanrijding                                                      5          44   \n",
       "Agressie en extreme lichamelijke inspanning                     2           0   \n",
       "BHV inzet op locatie                                            0           0   \n",
       "\n",
       "                                             Agressie en extreme lichamelijke inspanning  \\\n",
       "Gevaarlijke stoffen, brand en explosies                                                0   \n",
       "Andere vormen van contact met voorwerpen                                               0   \n",
       "Machines en handgereedschap                                                            0   \n",
       "Vallen (van personen of voorwerpen)                                                    0   \n",
       "Aanrijding                                                                             0   \n",
       "Agressie en extreme lichamelijke inspanning                                           74   \n",
       "BHV inzet op locatie                                                                   0   \n",
       "\n",
       "                                             Machines en handgereedschap  \n",
       "Gevaarlijke stoffen, brand en explosies                                1  \n",
       "Andere vormen van contact met voorwerpen                               2  \n",
       "Machines en handgereedschap                                            0  \n",
       "Vallen (van personen of voorwerpen)                                    0  \n",
       "Aanrijding                                                             0  \n",
       "Agressie en extreme lichamelijke inspanning                            0  \n",
       "BHV inzet op locatie                                                  64  "
      ]
     },
     "execution_count": 35,
     "metadata": {},
     "output_type": "execute_result"
    }
   ],
   "source": [
    "pd.DataFrame(confusion_matrix( test_y,lr_gc_predict, labels=y.unique()), columns =test_y.unique(), index=y.unique())"
   ]
  },
  {
   "cell_type": "markdown",
   "metadata": {},
   "source": [
    "### Random Forest"
   ]
  },
  {
   "cell_type": "code",
   "execution_count": 318,
   "metadata": {},
   "outputs": [
    {
     "name": "stderr",
     "output_type": "stream",
     "text": [
      "[Parallel(n_jobs=1)]: Using backend SequentialBackend with 1 concurrent workers.\n"
     ]
    },
    {
     "name": "stdout",
     "output_type": "stream",
     "text": [
      "Fitting 5 folds for each of 20 candidates, totalling 100 fits\n",
      "[CV] max_depth=None, n_estimators=10 .................................\n",
      "[CV] ..... max_depth=None, n_estimators=10, score=0.906, total=   0.3s\n",
      "[CV] max_depth=None, n_estimators=10 .................................\n"
     ]
    },
    {
     "name": "stderr",
     "output_type": "stream",
     "text": [
      "[Parallel(n_jobs=1)]: Done   1 out of   1 | elapsed:    0.2s remaining:    0.0s\n"
     ]
    },
    {
     "name": "stdout",
     "output_type": "stream",
     "text": [
      "[CV] ..... max_depth=None, n_estimators=10, score=0.899, total=   0.3s\n",
      "[CV] max_depth=None, n_estimators=10 .................................\n"
     ]
    },
    {
     "name": "stderr",
     "output_type": "stream",
     "text": [
      "[Parallel(n_jobs=1)]: Done   2 out of   2 | elapsed:    0.5s remaining:    0.0s\n"
     ]
    },
    {
     "name": "stdout",
     "output_type": "stream",
     "text": [
      "[CV] ..... max_depth=None, n_estimators=10, score=0.870, total=   0.3s\n",
      "[CV] max_depth=None, n_estimators=10 .................................\n",
      "[CV] ..... max_depth=None, n_estimators=10, score=0.878, total=   0.3s\n",
      "[CV] max_depth=None, n_estimators=10 .................................\n",
      "[CV] ..... max_depth=None, n_estimators=10, score=0.874, total=   0.3s\n",
      "[CV] max_depth=None, n_estimators=25 .................................\n",
      "[CV] ..... max_depth=None, n_estimators=25, score=0.908, total=   0.7s\n",
      "[CV] max_depth=None, n_estimators=25 .................................\n",
      "[CV] ..... max_depth=None, n_estimators=25, score=0.906, total=   0.6s\n",
      "[CV] max_depth=None, n_estimators=25 .................................\n",
      "[CV] ..... max_depth=None, n_estimators=25, score=0.882, total=   0.7s\n",
      "[CV] max_depth=None, n_estimators=25 .................................\n",
      "[CV] ..... max_depth=None, n_estimators=25, score=0.894, total=   0.7s\n",
      "[CV] max_depth=None, n_estimators=25 .................................\n",
      "[CV] ..... max_depth=None, n_estimators=25, score=0.881, total=   0.8s\n",
      "[CV] max_depth=None, n_estimators=100 ................................\n",
      "[CV] .... max_depth=None, n_estimators=100, score=0.906, total=   2.7s\n",
      "[CV] max_depth=None, n_estimators=100 ................................\n",
      "[CV] .... max_depth=None, n_estimators=100, score=0.912, total=   2.8s\n",
      "[CV] max_depth=None, n_estimators=100 ................................\n",
      "[CV] .... max_depth=None, n_estimators=100, score=0.885, total=   2.9s\n",
      "[CV] max_depth=None, n_estimators=100 ................................\n",
      "[CV] .... max_depth=None, n_estimators=100, score=0.891, total=   2.8s\n",
      "[CV] max_depth=None, n_estimators=100 ................................\n",
      "[CV] .... max_depth=None, n_estimators=100, score=0.888, total=   2.9s\n",
      "[CV] max_depth=None, n_estimators=250 ................................\n",
      "[CV] .... max_depth=None, n_estimators=250, score=0.903, total=   7.2s\n",
      "[CV] max_depth=None, n_estimators=250 ................................\n",
      "[CV] .... max_depth=None, n_estimators=250, score=0.908, total=   7.0s\n",
      "[CV] max_depth=None, n_estimators=250 ................................\n",
      "[CV] .... max_depth=None, n_estimators=250, score=0.889, total=   7.3s\n",
      "[CV] max_depth=None, n_estimators=250 ................................\n",
      "[CV] .... max_depth=None, n_estimators=250, score=0.892, total=   7.1s\n",
      "[CV] max_depth=None, n_estimators=250 ................................\n",
      "[CV] .... max_depth=None, n_estimators=250, score=0.889, total=   7.1s\n",
      "[CV] max_depth=1, n_estimators=10 ....................................\n",
      "[CV] ........ max_depth=1, n_estimators=10, score=0.375, total=   0.0s\n",
      "[CV] max_depth=1, n_estimators=10 ....................................\n",
      "[CV] ........ max_depth=1, n_estimators=10, score=0.375, total=   0.0s\n",
      "[CV] max_depth=1, n_estimators=10 ....................................\n",
      "[CV] ........ max_depth=1, n_estimators=10, score=0.375, total=   0.0s\n",
      "[CV] max_depth=1, n_estimators=10 ....................................\n",
      "[CV] ........ max_depth=1, n_estimators=10, score=0.374, total=   0.0s\n",
      "[CV] max_depth=1, n_estimators=10 ....................................\n",
      "[CV] ........ max_depth=1, n_estimators=10, score=0.374, total=   0.0s\n",
      "[CV] max_depth=1, n_estimators=25 ....................................\n",
      "[CV] ........ max_depth=1, n_estimators=25, score=0.375, total=   0.0s\n",
      "[CV] max_depth=1, n_estimators=25 ....................................\n",
      "[CV] ........ max_depth=1, n_estimators=25, score=0.375, total=   0.1s\n",
      "[CV] max_depth=1, n_estimators=25 ....................................\n",
      "[CV] ........ max_depth=1, n_estimators=25, score=0.375, total=   0.1s\n",
      "[CV] max_depth=1, n_estimators=25 ....................................\n",
      "[CV] ........ max_depth=1, n_estimators=25, score=0.374, total=   0.1s\n",
      "[CV] max_depth=1, n_estimators=25 ....................................\n",
      "[CV] ........ max_depth=1, n_estimators=25, score=0.374, total=   0.0s\n",
      "[CV] max_depth=1, n_estimators=100 ...................................\n",
      "[CV] ....... max_depth=1, n_estimators=100, score=0.375, total=   0.2s\n",
      "[CV] max_depth=1, n_estimators=100 ...................................\n",
      "[CV] ....... max_depth=1, n_estimators=100, score=0.375, total=   0.2s\n",
      "[CV] max_depth=1, n_estimators=100 ...................................\n",
      "[CV] ....... max_depth=1, n_estimators=100, score=0.375, total=   0.2s\n",
      "[CV] max_depth=1, n_estimators=100 ...................................\n",
      "[CV] ....... max_depth=1, n_estimators=100, score=0.374, total=   0.2s\n",
      "[CV] max_depth=1, n_estimators=100 ...................................\n",
      "[CV] ....... max_depth=1, n_estimators=100, score=0.374, total=   0.2s\n",
      "[CV] max_depth=1, n_estimators=250 ...................................\n",
      "[CV] ....... max_depth=1, n_estimators=250, score=0.375, total=   0.5s\n",
      "[CV] max_depth=1, n_estimators=250 ...................................\n",
      "[CV] ....... max_depth=1, n_estimators=250, score=0.375, total=   0.5s\n",
      "[CV] max_depth=1, n_estimators=250 ...................................\n",
      "[CV] ....... max_depth=1, n_estimators=250, score=0.375, total=   0.5s\n",
      "[CV] max_depth=1, n_estimators=250 ...................................\n",
      "[CV] ....... max_depth=1, n_estimators=250, score=0.374, total=   0.5s\n",
      "[CV] max_depth=1, n_estimators=250 ...................................\n",
      "[CV] ....... max_depth=1, n_estimators=250, score=0.374, total=   0.5s\n",
      "[CV] max_depth=5, n_estimators=10 ....................................\n",
      "[CV] ........ max_depth=5, n_estimators=10, score=0.399, total=   0.0s\n",
      "[CV] max_depth=5, n_estimators=10 ....................................\n",
      "[CV] ........ max_depth=5, n_estimators=10, score=0.391, total=   0.0s\n",
      "[CV] max_depth=5, n_estimators=10 ....................................\n",
      "[CV] ........ max_depth=5, n_estimators=10, score=0.388, total=   0.0s\n",
      "[CV] max_depth=5, n_estimators=10 ....................................\n",
      "[CV] ........ max_depth=5, n_estimators=10, score=0.391, total=   0.0s\n",
      "[CV] max_depth=5, n_estimators=10 ....................................\n",
      "[CV] ........ max_depth=5, n_estimators=10, score=0.387, total=   0.0s\n",
      "[CV] max_depth=5, n_estimators=25 ....................................\n",
      "[CV] ........ max_depth=5, n_estimators=25, score=0.404, total=   0.1s\n",
      "[CV] max_depth=5, n_estimators=25 ....................................\n",
      "[CV] ........ max_depth=5, n_estimators=25, score=0.391, total=   0.1s\n",
      "[CV] max_depth=5, n_estimators=25 ....................................\n",
      "[CV] ........ max_depth=5, n_estimators=25, score=0.377, total=   0.1s\n",
      "[CV] max_depth=5, n_estimators=25 ....................................\n",
      "[CV] ........ max_depth=5, n_estimators=25, score=0.388, total=   0.1s\n",
      "[CV] max_depth=5, n_estimators=25 ....................................\n",
      "[CV] ........ max_depth=5, n_estimators=25, score=0.385, total=   0.1s\n",
      "[CV] max_depth=5, n_estimators=100 ...................................\n",
      "[CV] ....... max_depth=5, n_estimators=100, score=0.385, total=   0.3s\n",
      "[CV] max_depth=5, n_estimators=100 ...................................\n",
      "[CV] ....... max_depth=5, n_estimators=100, score=0.391, total=   0.3s\n",
      "[CV] max_depth=5, n_estimators=100 ...................................\n",
      "[CV] ....... max_depth=5, n_estimators=100, score=0.375, total=   0.3s\n",
      "[CV] max_depth=5, n_estimators=100 ...................................\n",
      "[CV] ....... max_depth=5, n_estimators=100, score=0.378, total=   0.3s\n",
      "[CV] max_depth=5, n_estimators=100 ...................................\n",
      "[CV] ....... max_depth=5, n_estimators=100, score=0.382, total=   0.3s\n",
      "[CV] max_depth=5, n_estimators=250 ...................................\n",
      "[CV] ....... max_depth=5, n_estimators=250, score=0.375, total=   0.7s\n",
      "[CV] max_depth=5, n_estimators=250 ...................................\n",
      "[CV] ....... max_depth=5, n_estimators=250, score=0.384, total=   0.8s\n",
      "[CV] max_depth=5, n_estimators=250 ...................................\n",
      "[CV] ....... max_depth=5, n_estimators=250, score=0.375, total=   0.7s\n",
      "[CV] max_depth=5, n_estimators=250 ...................................\n",
      "[CV] ....... max_depth=5, n_estimators=250, score=0.378, total=   0.7s\n",
      "[CV] max_depth=5, n_estimators=250 ...................................\n",
      "[CV] ....... max_depth=5, n_estimators=250, score=0.374, total=   0.7s\n",
      "[CV] max_depth=10, n_estimators=10 ...................................\n",
      "[CV] ....... max_depth=10, n_estimators=10, score=0.449, total=   0.0s\n",
      "[CV] max_depth=10, n_estimators=10 ...................................\n",
      "[CV] ....... max_depth=10, n_estimators=10, score=0.448, total=   0.0s\n",
      "[CV] max_depth=10, n_estimators=10 ...................................\n",
      "[CV] ....... max_depth=10, n_estimators=10, score=0.427, total=   0.0s\n",
      "[CV] max_depth=10, n_estimators=10 ...................................\n",
      "[CV] ....... max_depth=10, n_estimators=10, score=0.431, total=   0.0s\n",
      "[CV] max_depth=10, n_estimators=10 ...................................\n",
      "[CV] ....... max_depth=10, n_estimators=10, score=0.447, total=   0.0s\n",
      "[CV] max_depth=10, n_estimators=25 ...................................\n",
      "[CV] ....... max_depth=10, n_estimators=25, score=0.446, total=   0.1s\n",
      "[CV] max_depth=10, n_estimators=25 ...................................\n",
      "[CV] ....... max_depth=10, n_estimators=25, score=0.423, total=   0.1s\n",
      "[CV] max_depth=10, n_estimators=25 ...................................\n",
      "[CV] ....... max_depth=10, n_estimators=25, score=0.403, total=   0.1s\n",
      "[CV] max_depth=10, n_estimators=25 ...................................\n",
      "[CV] ....... max_depth=10, n_estimators=25, score=0.423, total=   0.1s\n",
      "[CV] max_depth=10, n_estimators=25 ...................................\n",
      "[CV] ....... max_depth=10, n_estimators=25, score=0.450, total=   0.1s\n",
      "[CV] max_depth=10, n_estimators=100 ..................................\n",
      "[CV] ...... max_depth=10, n_estimators=100, score=0.431, total=   0.4s\n",
      "[CV] max_depth=10, n_estimators=100 ..................................\n",
      "[CV] ...... max_depth=10, n_estimators=100, score=0.440, total=   0.4s\n",
      "[CV] max_depth=10, n_estimators=100 ..................................\n",
      "[CV] ...... max_depth=10, n_estimators=100, score=0.412, total=   0.4s\n",
      "[CV] max_depth=10, n_estimators=100 ..................................\n",
      "[CV] ...... max_depth=10, n_estimators=100, score=0.434, total=   0.4s\n",
      "[CV] max_depth=10, n_estimators=100 ..................................\n",
      "[CV] ...... max_depth=10, n_estimators=100, score=0.431, total=   0.4s\n",
      "[CV] max_depth=10, n_estimators=250 ..................................\n",
      "[CV] ...... max_depth=10, n_estimators=250, score=0.436, total=   1.0s\n",
      "[CV] max_depth=10, n_estimators=250 ..................................\n",
      "[CV] ...... max_depth=10, n_estimators=250, score=0.429, total=   1.0s\n",
      "[CV] max_depth=10, n_estimators=250 ..................................\n",
      "[CV] ...... max_depth=10, n_estimators=250, score=0.405, total=   1.0s\n",
      "[CV] max_depth=10, n_estimators=250 ..................................\n",
      "[CV] ...... max_depth=10, n_estimators=250, score=0.427, total=   1.1s\n",
      "[CV] max_depth=10, n_estimators=250 ..................................\n",
      "[CV] ...... max_depth=10, n_estimators=250, score=0.430, total=   1.0s\n",
      "[CV] max_depth=25, n_estimators=10 ...................................\n",
      "[CV] ....... max_depth=25, n_estimators=10, score=0.558, total=   0.1s\n",
      "[CV] max_depth=25, n_estimators=10 ...................................\n",
      "[CV] ....... max_depth=25, n_estimators=10, score=0.574, total=   0.1s\n",
      "[CV] max_depth=25, n_estimators=10 ...................................\n",
      "[CV] ....... max_depth=25, n_estimators=10, score=0.546, total=   0.1s\n",
      "[CV] max_depth=25, n_estimators=10 ...................................\n",
      "[CV] ....... max_depth=25, n_estimators=10, score=0.552, total=   0.1s\n",
      "[CV] max_depth=25, n_estimators=10 ...................................\n",
      "[CV] ....... max_depth=25, n_estimators=10, score=0.564, total=   0.1s\n",
      "[CV] max_depth=25, n_estimators=25 ...................................\n",
      "[CV] ....... max_depth=25, n_estimators=25, score=0.557, total=   0.2s\n",
      "[CV] max_depth=25, n_estimators=25 ...................................\n",
      "[CV] ....... max_depth=25, n_estimators=25, score=0.573, total=   0.2s\n",
      "[CV] max_depth=25, n_estimators=25 ...................................\n",
      "[CV] ....... max_depth=25, n_estimators=25, score=0.555, total=   0.2s\n",
      "[CV] max_depth=25, n_estimators=25 ...................................\n",
      "[CV] ....... max_depth=25, n_estimators=25, score=0.581, total=   0.2s\n",
      "[CV] max_depth=25, n_estimators=25 ...................................\n",
      "[CV] ....... max_depth=25, n_estimators=25, score=0.585, total=   0.2s\n",
      "[CV] max_depth=25, n_estimators=100 ..................................\n",
      "[CV] ...... max_depth=25, n_estimators=100, score=0.582, total=   0.8s\n",
      "[CV] max_depth=25, n_estimators=100 ..................................\n",
      "[CV] ...... max_depth=25, n_estimators=100, score=0.576, total=   0.8s\n",
      "[CV] max_depth=25, n_estimators=100 ..................................\n",
      "[CV] ...... max_depth=25, n_estimators=100, score=0.562, total=   0.8s\n",
      "[CV] max_depth=25, n_estimators=100 ..................................\n",
      "[CV] ...... max_depth=25, n_estimators=100, score=0.569, total=   0.8s\n",
      "[CV] max_depth=25, n_estimators=100 ..................................\n",
      "[CV] ...... max_depth=25, n_estimators=100, score=0.566, total=   0.8s\n",
      "[CV] max_depth=25, n_estimators=250 ..................................\n",
      "[CV] ...... max_depth=25, n_estimators=250, score=0.573, total=   1.9s\n",
      "[CV] max_depth=25, n_estimators=250 ..................................\n",
      "[CV] ...... max_depth=25, n_estimators=250, score=0.577, total=   1.9s\n",
      "[CV] max_depth=25, n_estimators=250 ..................................\n",
      "[CV] ...... max_depth=25, n_estimators=250, score=0.560, total=   1.9s\n",
      "[CV] max_depth=25, n_estimators=250 ..................................\n",
      "[CV] ...... max_depth=25, n_estimators=250, score=0.553, total=   2.0s\n",
      "[CV] max_depth=25, n_estimators=250 ..................................\n",
      "[CV] ...... max_depth=25, n_estimators=250, score=0.570, total=   2.0s\n"
     ]
    },
    {
     "name": "stderr",
     "output_type": "stream",
     "text": [
      "[Parallel(n_jobs=1)]: Done 100 out of 100 | elapsed:  1.4min finished\n"
     ]
    },
    {
     "data": {
      "text/plain": [
       "GridSearchCV(cv=None, error_score=nan,\n",
       "             estimator=RandomForestClassifier(bootstrap=True, ccp_alpha=0.0,\n",
       "                                              class_weight=None,\n",
       "                                              criterion='gini', max_depth=None,\n",
       "                                              max_features='auto',\n",
       "                                              max_leaf_nodes=None,\n",
       "                                              max_samples=None,\n",
       "                                              min_impurity_decrease=0.0,\n",
       "                                              min_impurity_split=None,\n",
       "                                              min_samples_leaf=1,\n",
       "                                              min_samples_split=2,\n",
       "                                              min_weight_fraction_leaf=0.0,\n",
       "                                              n_estimators=100, n_jobs=None,\n",
       "                                              oob_score=False, random_state=0,\n",
       "                                              verbose=0, warm_start=False),\n",
       "             iid='deprecated', n_jobs=None,\n",
       "             param_grid={'max_depth': [None, 1, 5, 10, 25],\n",
       "                         'n_estimators': [10, 25, 100, 250]},\n",
       "             pre_dispatch='2*n_jobs', refit=True, return_train_score=False,\n",
       "             scoring=None, verbose=3)"
      ]
     },
     "execution_count": 318,
     "metadata": {},
     "output_type": "execute_result"
    }
   ],
   "source": [
    "rf_gc = GridSearchCV(RandomForestClassifier(random_state=0), {'n_estimators':[10, 25, 100, 250], 'max_depth':[None, 1, 5, 10, 25]}, verbose=3)\n",
    "rf_gc.fit(X, y)"
   ]
  },
  {
   "cell_type": "code",
   "execution_count": 319,
   "metadata": {},
   "outputs": [
    {
     "data": {
      "text/plain": [
       "RandomForestClassifier(bootstrap=True, ccp_alpha=0.0, class_weight=None,\n",
       "                       criterion='gini', max_depth=None, max_features='auto',\n",
       "                       max_leaf_nodes=None, max_samples=None,\n",
       "                       min_impurity_decrease=0.0, min_impurity_split=None,\n",
       "                       min_samples_leaf=1, min_samples_split=2,\n",
       "                       min_weight_fraction_leaf=0.0, n_estimators=250,\n",
       "                       n_jobs=None, oob_score=False, random_state=0, verbose=0,\n",
       "                       warm_start=False)"
      ]
     },
     "execution_count": 319,
     "metadata": {},
     "output_type": "execute_result"
    }
   ],
   "source": [
    "rf_gc.best_estimator_"
   ]
  },
  {
   "cell_type": "code",
   "execution_count": 320,
   "metadata": {},
   "outputs": [
    {
     "data": {
      "text/plain": [
       "0.8963855752091046"
      ]
     },
     "execution_count": 320,
     "metadata": {},
     "output_type": "execute_result"
    }
   ],
   "source": [
    "rf_gc.best_score_"
   ]
  },
  {
   "cell_type": "code",
   "execution_count": null,
   "metadata": {},
   "outputs": [],
   "source": [
    "print(\"SVM_P score (test):\",SVM_cl_p.score(tfidf_text_v_test, label_1_test))\n",
    "print(\"SVM_P  score (training):\", SVM_cl_p.score(tfidf_text_v_train, label_1_train))"
   ]
  },
  {
   "cell_type": "markdown",
   "metadata": {},
   "source": [
    "## KNeighborsClassifier"
   ]
  },
  {
   "cell_type": "code",
   "execution_count": 87,
   "metadata": {},
   "outputs": [
    {
     "data": {
      "text/plain": [
       "GridSearchCV(cv=None, error_score=nan,\n",
       "             estimator=KNeighborsClassifier(algorithm='auto', leaf_size=30,\n",
       "                                            metric='minkowski',\n",
       "                                            metric_params=None, n_jobs=None,\n",
       "                                            n_neighbors=5, p=2,\n",
       "                                            weights='uniform'),\n",
       "             iid='deprecated', n_jobs=-1,\n",
       "             param_grid={'n_neighbors': range(1, 20)}, pre_dispatch='2*n_jobs',\n",
       "             refit=True, return_train_score=True, scoring=None, verbose=0)"
      ]
     },
     "execution_count": 87,
     "metadata": {},
     "output_type": "execute_result"
    }
   ],
   "source": [
    "knn_gc = GridSearchCV(KNeighborsClassifier(), {'n_neighbors':range(1,20)}, n_jobs=-1, return_train_score=True)\n",
    "knn_gc.fit(X, y)"
   ]
  },
  {
   "cell_type": "code",
   "execution_count": 88,
   "metadata": {},
   "outputs": [
    {
     "data": {
      "image/png": "[encoded data removed]",
      "text/plain": [
       "<Figure size 432x288 with 1 Axes>"
      ]
     },
     "metadata": {
      "needs_background": "light"
     },
     "output_type": "display_data"
    }
   ],
   "source": [
    "train_accuracy = knn_gc.cv_results_['mean_train_score']\n",
    "test_accuracy = knn_gc.cv_results_['mean_test_score']\n",
    "\n",
    "plt.plot(range(1, 20), train_accuracy, label=\"Train\")\n",
    "plt.plot(range(1, 20), test_accuracy, label=\"Validation\")\n",
    "plt.legend()\n",
    "plt.show()"
   ]
  },
  {
   "cell_type": "code",
   "execution_count": 94,
   "metadata": {},
   "outputs": [
    {
     "name": "stdout",
     "output_type": "stream",
     "text": [
      "[0.98999091 0.7539344  0.74132788 0.71864422 0.62737641 0.59816907\n",
      " 0.55799198 0.58289869 0.59586815 0.63893468 0.67971271 0.70180768\n",
      " 0.70825806 0.71263307 0.71559826 0.71226281 0.70870399 0.70662818\n",
      " 0.70618313]\n",
      "0.6924696984774661\n",
      "0.5685285716764711\n"
     ]
    }
   ],
   "source": [
    "print (train_accuracy )\n",
    "print (train_accuracy.mean() )\n",
    "print(test_accuracy.mean())"
   ]
  },
  {
   "cell_type": "code",
   "execution_count": 82,
   "metadata": {},
   "outputs": [
    {
     "data": {
      "text/plain": [
       "GridSearchCV(cv=RepeatedStratifiedKFold(n_repeats=2, n_splits=4, random_state=1),\n",
       "             error_score=nan,\n",
       "             estimator=KNeighborsClassifier(algorithm='auto', leaf_size=30,\n",
       "                                            metric='minkowski',\n",
       "                                            metric_params=None, n_jobs=None,\n",
       "                                            n_neighbors=5, p=2,\n",
       "                                            weights='uniform'),\n",
       "             iid='deprecated', n_jobs=-1,\n",
       "             param_grid={'n_neighbors': range(1, 20)}, pre_dispatch='2*n_jobs',\n",
       "             refit=True, return_train_score=True, scoring=None, verbose=0)"
      ]
     },
     "execution_count": 82,
     "metadata": {},
     "output_type": "execute_result"
    }
   ],
   "source": [
    "from sklearn.model_selection import RepeatedStratifiedKFold\n",
    "cv = RepeatedStratifiedKFold(n_splits=4, n_repeats=2, random_state=1)\n",
    "\n",
    "knn_gc = GridSearchCV(KNeighborsClassifier(), {'n_neighbors':range(1,20)}, n_jobs=-1, return_train_score=True, cv=cv)\n",
    "knn_gc.fit(X, y)"
   ]
  },
  {
   "cell_type": "code",
   "execution_count": 83,
   "metadata": {},
   "outputs": [
    {
     "data": {
      "image/png": "[encoded data removed]",
      "text/plain": [
       "<Figure size 432x288 with 1 Axes>"
      ]
     },
     "metadata": {
      "needs_background": "light"
     },
     "output_type": "display_data"
    }
   ],
   "source": [
    "train_accuracy = knn_gc.cv_results_['mean_train_score']\n",
    "test_accuracy = knn_gc.cv_results_['mean_test_score']\n",
    "\n",
    "plt.plot(range(1, 20), train_accuracy, label=\"Train\")\n",
    "plt.plot(range(1, 20), test_accuracy, label=\"Validation\")\n",
    "plt.legend()\n",
    "plt.show()"
   ]
  },
  {
   "cell_type": "code",
   "execution_count": 85,
   "metadata": {},
   "outputs": [
    {
     "name": "stdout",
     "output_type": "stream",
     "text": [
      "[0.98996639 0.71678529 0.72321076 0.70250099 0.6136813  0.60636615\n",
      " 0.57127323 0.61027086 0.63765322 0.64862594 0.68969949 0.70833333\n",
      " 0.71085409 0.71223804 0.71199091 0.70912416 0.70353895 0.70185844\n",
      " 0.69854686]\n",
      "[0.72197509 0.50341044 0.50696916 0.50192764 0.44276394 0.44661922\n",
      " 0.44098458 0.4933274  0.52965599 0.54863582 0.59237841 0.62218268\n",
      " 0.63078292 0.63701068 0.63879004 0.64131079 0.64249703 0.64086595\n",
      " 0.63997628]\n"
     ]
    }
   ],
   "source": [
    "print (train_accuracy )\n",
    "print (train_accuracy.mean() )\n",
    "print(test_accuracy)"
   ]
  },
  {
   "cell_type": "markdown",
   "metadata": {},
   "source": [
    "# Best model and test set"
   ]
  },
  {
   "cell_type": "code",
   "execution_count": 324,
   "metadata": {},
   "outputs": [
    {
     "data": {
      "image/png": "[encoded data removed]",
      "text/plain": [
       "<Figure size 432x288 with 1 Axes>"
      ]
     },
     "metadata": {
      "needs_background": "light"
     },
     "output_type": "display_data"
    }
   ],
   "source": [
    "score_dict = pd.Series({\"Logistic Regression\":lr_gc.best_score_, \"Random Forest\":rf_gc.best_score_, \"KNN\":knn_gc.best_score_})\n",
    "score_dict.sort_values().plot(kind='bar', title=\"Validation Accuracies\")\n",
    "plt.ylabel(\"Accuracy\")\n",
    "plt.show()"
   ]
  },
  {
   "cell_type": "code",
   "execution_count": 325,
   "metadata": {
    "scrolled": true
   },
   "outputs": [
    {
     "data": {
      "text/plain": [
       "0.9277225512837743"
      ]
     },
     "execution_count": 325,
     "metadata": {},
     "output_type": "execute_result"
    }
   ],
   "source": [
    "lr_gc.score(test_X, test_y)"
   ]
  },
  {
   "cell_type": "code",
   "execution_count": 326,
   "metadata": {},
   "outputs": [
    {
     "data": {
      "text/plain": [
       "0.9277225512837743"
      ]
     },
     "execution_count": 326,
     "metadata": {},
     "output_type": "execute_result"
    }
   ],
   "source": [
    "lr_gc.score(test_X, test_y)"
   ]
  },
  {
   "cell_type": "code",
   "execution_count": 93,
   "metadata": {},
   "outputs": [
    {
     "name": "stdout",
     "output_type": "stream",
     "text": [
      "lr_P score (test): 0.9033330952492843\n",
      "lr_P  score (training): 0.5685285716764711\n"
     ]
    }
   ],
   "source": [
    "print(\"lr_P score (test):\",lr_gc.score(test_X , test_y))\n",
    "print(\"lr_P  score (training):\", test_accuracy.mean() )"
   ]
  },
  {
   "cell_type": "code",
   "execution_count": 95,
   "metadata": {},
   "outputs": [
    {
     "name": "stdout",
     "output_type": "stream",
     "text": [
      "0.6924696984774661\n"
     ]
    }
   ],
   "source": [
    "print (train_accuracy.mean() )"
   ]
  },
  {
   "cell_type": "markdown",
   "metadata": {},
   "source": [
    "# Model without up/down sampling "
   ]
  },
  {
   "cell_type": "code",
   "execution_count": 85,
   "metadata": {},
   "outputs": [],
   "source": [
    "x = data['Text']\n",
    "y = data['Category']"
   ]
  },
  {
   "cell_type": "code",
   "execution_count": 86,
   "metadata": {},
   "outputs": [
    {
     "data": {
      "text/plain": [
       "7053"
      ]
     },
     "execution_count": 86,
     "metadata": {},
     "output_type": "execute_result"
    }
   ],
   "source": [
    "X, test_x, y, test_y = train_test_split(x, y, test_size=0.15, random_state=0, shuffle=True)\n",
    "tf = TfidfVectorizer()\n",
    "tf.fit(X)\n",
    "len(tf.get_feature_names())\n"
   ]
  },
  {
   "cell_type": "code",
   "execution_count": 87,
   "metadata": {},
   "outputs": [],
   "source": [
    "X = tf.transform(X)\n",
    "test_X = tf.transform(test_x)\n"
   ]
  },
  {
   "cell_type": "code",
   "execution_count": 39,
   "metadata": {},
   "outputs": [
    {
     "name": "stderr",
     "output_type": "stream",
     "text": [
      "C:\\Users\\byri\\AppData\\Local\\Continuum\\anaconda3\\lib\\site-packages\\sklearn\\model_selection\\_validation.py:536: FitFailedWarning: Estimator fit failed. The score on this train-test partition for these parameters will be set to nan. Details: \n",
      "ValueError: Solver lbfgs supports only 'l2' or 'none' penalties, got l1 penalty.\n",
      "\n",
      "  FitFailedWarning)\n",
      "C:\\Users\\byri\\AppData\\Local\\Continuum\\anaconda3\\lib\\site-packages\\sklearn\\model_selection\\_validation.py:536: FitFailedWarning: Estimator fit failed. The score on this train-test partition for these parameters will be set to nan. Details: \n",
      "ValueError: Solver lbfgs supports only 'l2' or 'none' penalties, got l1 penalty.\n",
      "\n",
      "  FitFailedWarning)\n",
      "C:\\Users\\byri\\AppData\\Local\\Continuum\\anaconda3\\lib\\site-packages\\sklearn\\model_selection\\_validation.py:536: FitFailedWarning: Estimator fit failed. The score on this train-test partition for these parameters will be set to nan. Details: \n",
      "ValueError: Solver lbfgs supports only 'l2' or 'none' penalties, got l1 penalty.\n",
      "\n",
      "  FitFailedWarning)\n",
      "C:\\Users\\byri\\AppData\\Local\\Continuum\\anaconda3\\lib\\site-packages\\sklearn\\linear_model\\_logistic.py:940: ConvergenceWarning: lbfgs failed to converge (status=1):\n",
      "STOP: TOTAL NO. of ITERATIONS REACHED LIMIT.\n",
      "\n",
      "Increase the number of iterations (max_iter) or scale the data as shown in:\n",
      "    https://scikit-learn.org/stable/modules/preprocessing.html\n",
      "Please also refer to the documentation for alternative solver options:\n",
      "    https://scikit-learn.org/stable/modules/linear_model.html#logistic-regression\n",
      "  extra_warning_msg=_LOGISTIC_SOLVER_CONVERGENCE_MSG)\n",
      "C:\\Users\\byri\\AppData\\Local\\Continuum\\anaconda3\\lib\\site-packages\\sklearn\\linear_model\\_logistic.py:940: ConvergenceWarning: lbfgs failed to converge (status=1):\n",
      "STOP: TOTAL NO. of ITERATIONS REACHED LIMIT.\n",
      "\n",
      "Increase the number of iterations (max_iter) or scale the data as shown in:\n",
      "    https://scikit-learn.org/stable/modules/preprocessing.html\n",
      "Please also refer to the documentation for alternative solver options:\n",
      "    https://scikit-learn.org/stable/modules/linear_model.html#logistic-regression\n",
      "  extra_warning_msg=_LOGISTIC_SOLVER_CONVERGENCE_MSG)\n",
      "C:\\Users\\byri\\AppData\\Local\\Continuum\\anaconda3\\lib\\site-packages\\sklearn\\linear_model\\_logistic.py:940: ConvergenceWarning: lbfgs failed to converge (status=1):\n",
      "STOP: TOTAL NO. of ITERATIONS REACHED LIMIT.\n",
      "\n",
      "Increase the number of iterations (max_iter) or scale the data as shown in:\n",
      "    https://scikit-learn.org/stable/modules/preprocessing.html\n",
      "Please also refer to the documentation for alternative solver options:\n",
      "    https://scikit-learn.org/stable/modules/linear_model.html#logistic-regression\n",
      "  extra_warning_msg=_LOGISTIC_SOLVER_CONVERGENCE_MSG)\n",
      "C:\\Users\\byri\\AppData\\Local\\Continuum\\anaconda3\\lib\\site-packages\\sklearn\\linear_model\\_logistic.py:940: ConvergenceWarning: lbfgs failed to converge (status=1):\n",
      "STOP: TOTAL NO. of ITERATIONS REACHED LIMIT.\n",
      "\n",
      "Increase the number of iterations (max_iter) or scale the data as shown in:\n",
      "    https://scikit-learn.org/stable/modules/preprocessing.html\n",
      "Please also refer to the documentation for alternative solver options:\n",
      "    https://scikit-learn.org/stable/modules/linear_model.html#logistic-regression\n",
      "  extra_warning_msg=_LOGISTIC_SOLVER_CONVERGENCE_MSG)\n",
      "C:\\Users\\byri\\AppData\\Local\\Continuum\\anaconda3\\lib\\site-packages\\sklearn\\linear_model\\_logistic.py:940: ConvergenceWarning: lbfgs failed to converge (status=1):\n",
      "STOP: TOTAL NO. of ITERATIONS REACHED LIMIT.\n",
      "\n",
      "Increase the number of iterations (max_iter) or scale the data as shown in:\n",
      "    https://scikit-learn.org/stable/modules/preprocessing.html\n",
      "Please also refer to the documentation for alternative solver options:\n",
      "    https://scikit-learn.org/stable/modules/linear_model.html#logistic-regression\n",
      "  extra_warning_msg=_LOGISTIC_SOLVER_CONVERGENCE_MSG)\n",
      "C:\\Users\\byri\\AppData\\Local\\Continuum\\anaconda3\\lib\\site-packages\\sklearn\\model_selection\\_validation.py:536: FitFailedWarning: Estimator fit failed. The score on this train-test partition for these parameters will be set to nan. Details: \n",
      "ValueError: Solver lbfgs supports only 'l2' or 'none' penalties, got l1 penalty.\n",
      "\n",
      "  FitFailedWarning)\n",
      "C:\\Users\\byri\\AppData\\Local\\Continuum\\anaconda3\\lib\\site-packages\\sklearn\\linear_model\\_logistic.py:940: ConvergenceWarning: lbfgs failed to converge (status=1):\n",
      "STOP: TOTAL NO. of ITERATIONS REACHED LIMIT.\n",
      "\n",
      "Increase the number of iterations (max_iter) or scale the data as shown in:\n",
      "    https://scikit-learn.org/stable/modules/preprocessing.html\n",
      "Please also refer to the documentation for alternative solver options:\n",
      "    https://scikit-learn.org/stable/modules/linear_model.html#logistic-regression\n",
      "  extra_warning_msg=_LOGISTIC_SOLVER_CONVERGENCE_MSG)\n",
      "C:\\Users\\byri\\AppData\\Local\\Continuum\\anaconda3\\lib\\site-packages\\sklearn\\linear_model\\_logistic.py:940: ConvergenceWarning: lbfgs failed to converge (status=1):\n",
      "STOP: TOTAL NO. of ITERATIONS REACHED LIMIT.\n",
      "\n",
      "Increase the number of iterations (max_iter) or scale the data as shown in:\n",
      "    https://scikit-learn.org/stable/modules/preprocessing.html\n",
      "Please also refer to the documentation for alternative solver options:\n",
      "    https://scikit-learn.org/stable/modules/linear_model.html#logistic-regression\n",
      "  extra_warning_msg=_LOGISTIC_SOLVER_CONVERGENCE_MSG)\n",
      "C:\\Users\\byri\\AppData\\Local\\Continuum\\anaconda3\\lib\\site-packages\\sklearn\\linear_model\\_logistic.py:940: ConvergenceWarning: lbfgs failed to converge (status=1):\n",
      "STOP: TOTAL NO. of ITERATIONS REACHED LIMIT.\n",
      "\n",
      "Increase the number of iterations (max_iter) or scale the data as shown in:\n",
      "    https://scikit-learn.org/stable/modules/preprocessing.html\n",
      "Please also refer to the documentation for alternative solver options:\n",
      "    https://scikit-learn.org/stable/modules/linear_model.html#logistic-regression\n",
      "  extra_warning_msg=_LOGISTIC_SOLVER_CONVERGENCE_MSG)\n",
      "C:\\Users\\byri\\AppData\\Local\\Continuum\\anaconda3\\lib\\site-packages\\sklearn\\linear_model\\_logistic.py:940: ConvergenceWarning: lbfgs failed to converge (status=1):\n",
      "STOP: TOTAL NO. of ITERATIONS REACHED LIMIT.\n",
      "\n",
      "Increase the number of iterations (max_iter) or scale the data as shown in:\n",
      "    https://scikit-learn.org/stable/modules/preprocessing.html\n",
      "Please also refer to the documentation for alternative solver options:\n",
      "    https://scikit-learn.org/stable/modules/linear_model.html#logistic-regression\n",
      "  extra_warning_msg=_LOGISTIC_SOLVER_CONVERGENCE_MSG)\n",
      "C:\\Users\\byri\\AppData\\Local\\Continuum\\anaconda3\\lib\\site-packages\\sklearn\\linear_model\\_logistic.py:940: ConvergenceWarning: lbfgs failed to converge (status=1):\n",
      "STOP: TOTAL NO. of ITERATIONS REACHED LIMIT.\n",
      "\n",
      "Increase the number of iterations (max_iter) or scale the data as shown in:\n",
      "    https://scikit-learn.org/stable/modules/preprocessing.html\n",
      "Please also refer to the documentation for alternative solver options:\n",
      "    https://scikit-learn.org/stable/modules/linear_model.html#logistic-regression\n",
      "  extra_warning_msg=_LOGISTIC_SOLVER_CONVERGENCE_MSG)\n",
      "C:\\Users\\byri\\AppData\\Local\\Continuum\\anaconda3\\lib\\site-packages\\sklearn\\linear_model\\_logistic.py:940: ConvergenceWarning: lbfgs failed to converge (status=1):\n",
      "STOP: TOTAL NO. of ITERATIONS REACHED LIMIT.\n",
      "\n",
      "Increase the number of iterations (max_iter) or scale the data as shown in:\n",
      "    https://scikit-learn.org/stable/modules/preprocessing.html\n",
      "Please also refer to the documentation for alternative solver options:\n",
      "    https://scikit-learn.org/stable/modules/linear_model.html#logistic-regression\n",
      "  extra_warning_msg=_LOGISTIC_SOLVER_CONVERGENCE_MSG)\n"
     ]
    },
    {
     "data": {
      "text/plain": [
       "LogisticRegression(C=10, class_weight=None, dual=False, fit_intercept=True,\n",
       "                   intercept_scaling=1, l1_ratio=None, max_iter=100,\n",
       "                   multi_class='auto', n_jobs=None, penalty='l2',\n",
       "                   random_state=0, solver='lbfgs', tol=0.0001, verbose=0,\n",
       "                   warm_start=False)"
      ]
     },
     "execution_count": 39,
     "metadata": {},
     "output_type": "execute_result"
    }
   ],
   "source": [
    "lr_gc = GridSearchCV(LogisticRegression(random_state=0), {'penalty':['l1', 'l2'], 'C':[0.1, 1, 5, 10]}, scoring='f1_macro')\n",
    "lr_gc.fit(X, y)\n",
    "lr_gc.best_estimator_"
   ]
  },
  {
   "cell_type": "code",
   "execution_count": 40,
   "metadata": {},
   "outputs": [
    {
     "data": {
      "text/plain": [
       "0.4958619212490052"
      ]
     },
     "execution_count": 40,
     "metadata": {},
     "output_type": "execute_result"
    }
   ],
   "source": [
    "lr_best_score = lr_gc.best_score_\n",
    "lr_best_score"
   ]
  },
  {
   "cell_type": "code",
   "execution_count": 41,
   "metadata": {},
   "outputs": [],
   "source": [
    "knn_gc = GridSearchCV(KNeighborsClassifier(), {'n_neighbors':range(1,20)}, n_jobs=-1, return_train_score=True)\n",
    "knn_gc.fit(X, y)\n",
    "train_accuracy = knn_gc.cv_results_['mean_train_score']\n",
    "test_accuracy = knn_gc.cv_results_['mean_test_score']"
   ]
  },
  {
   "cell_type": "code",
   "execution_count": 44,
   "metadata": {},
   "outputs": [
    {
     "data": {
      "text/plain": [
       "0.6756852044352044"
      ]
     },
     "execution_count": 44,
     "metadata": {},
     "output_type": "execute_result"
    }
   ],
   "source": [
    "knn_best_score = knn_gc.best_score_\n",
    "knn_best_score"
   ]
  },
  {
   "cell_type": "code",
   "execution_count": 45,
   "metadata": {},
   "outputs": [
    {
     "name": "stdout",
     "output_type": "stream",
     "text": [
      "0.7215037835911801\n",
      "0.6067576230076229\n"
     ]
    }
   ],
   "source": [
    "print(train_accuracy.mean() )\n",
    "print(test_accuracy.mean())"
   ]
  },
  {
   "cell_type": "code",
   "execution_count": 48,
   "metadata": {},
   "outputs": [
    {
     "ename": "ValueError",
     "evalue": "could not convert string to float: 'verstapt enkel verzwikt'",
     "output_type": "error",
     "traceback": [
      "\u001b[1;31m---------------------------------------------------------------------------\u001b[0m",
      "\u001b[1;31mValueError\u001b[0m                                Traceback (most recent call last)",
      "\u001b[1;32m<ipython-input-48-e68b8e68ab1f>\u001b[0m in \u001b[0;36m<module>\u001b[1;34m\u001b[0m\n\u001b[1;32m----> 1\u001b[1;33m \u001b[0mpreds\u001b[0m \u001b[1;33m=\u001b[0m \u001b[0mknn_gc\u001b[0m\u001b[1;33m.\u001b[0m\u001b[0mpredict\u001b[0m\u001b[1;33m(\u001b[0m\u001b[0mtest_x\u001b[0m\u001b[1;33m)\u001b[0m\u001b[1;33m\u001b[0m\u001b[1;33m\u001b[0m\u001b[0m\n\u001b[0m",
      "\u001b[1;32m~\\AppData\\Local\\Continuum\\anaconda3\\lib\\site-packages\\sklearn\\utils\\metaestimators.py\u001b[0m in \u001b[0;36m<lambda>\u001b[1;34m(*args, **kwargs)\u001b[0m\n\u001b[0;32m    114\u001b[0m \u001b[1;33m\u001b[0m\u001b[0m\n\u001b[0;32m    115\u001b[0m         \u001b[1;31m# lambda, but not partial, allows help() to work with update_wrapper\u001b[0m\u001b[1;33m\u001b[0m\u001b[1;33m\u001b[0m\u001b[1;33m\u001b[0m\u001b[0m\n\u001b[1;32m--> 116\u001b[1;33m         \u001b[0mout\u001b[0m \u001b[1;33m=\u001b[0m \u001b[1;32mlambda\u001b[0m \u001b[1;33m*\u001b[0m\u001b[0margs\u001b[0m\u001b[1;33m,\u001b[0m \u001b[1;33m**\u001b[0m\u001b[0mkwargs\u001b[0m\u001b[1;33m:\u001b[0m \u001b[0mself\u001b[0m\u001b[1;33m.\u001b[0m\u001b[0mfn\u001b[0m\u001b[1;33m(\u001b[0m\u001b[0mobj\u001b[0m\u001b[1;33m,\u001b[0m \u001b[1;33m*\u001b[0m\u001b[0margs\u001b[0m\u001b[1;33m,\u001b[0m \u001b[1;33m**\u001b[0m\u001b[0mkwargs\u001b[0m\u001b[1;33m)\u001b[0m\u001b[1;33m\u001b[0m\u001b[1;33m\u001b[0m\u001b[0m\n\u001b[0m\u001b[0;32m    117\u001b[0m         \u001b[1;31m# update the docstring of the returned function\u001b[0m\u001b[1;33m\u001b[0m\u001b[1;33m\u001b[0m\u001b[1;33m\u001b[0m\u001b[0m\n\u001b[0;32m    118\u001b[0m         \u001b[0mupdate_wrapper\u001b[0m\u001b[1;33m(\u001b[0m\u001b[0mout\u001b[0m\u001b[1;33m,\u001b[0m \u001b[0mself\u001b[0m\u001b[1;33m.\u001b[0m\u001b[0mfn\u001b[0m\u001b[1;33m)\u001b[0m\u001b[1;33m\u001b[0m\u001b[1;33m\u001b[0m\u001b[0m\n",
      "\u001b[1;32m~\\AppData\\Local\\Continuum\\anaconda3\\lib\\site-packages\\sklearn\\model_selection\\_search.py\u001b[0m in \u001b[0;36mpredict\u001b[1;34m(self, X)\u001b[0m\n\u001b[0;32m    475\u001b[0m         \"\"\"\n\u001b[0;32m    476\u001b[0m         \u001b[0mself\u001b[0m\u001b[1;33m.\u001b[0m\u001b[0m_check_is_fitted\u001b[0m\u001b[1;33m(\u001b[0m\u001b[1;34m'predict'\u001b[0m\u001b[1;33m)\u001b[0m\u001b[1;33m\u001b[0m\u001b[1;33m\u001b[0m\u001b[0m\n\u001b[1;32m--> 477\u001b[1;33m         \u001b[1;32mreturn\u001b[0m \u001b[0mself\u001b[0m\u001b[1;33m.\u001b[0m\u001b[0mbest_estimator_\u001b[0m\u001b[1;33m.\u001b[0m\u001b[0mpredict\u001b[0m\u001b[1;33m(\u001b[0m\u001b[0mX\u001b[0m\u001b[1;33m)\u001b[0m\u001b[1;33m\u001b[0m\u001b[1;33m\u001b[0m\u001b[0m\n\u001b[0m\u001b[0;32m    478\u001b[0m \u001b[1;33m\u001b[0m\u001b[0m\n\u001b[0;32m    479\u001b[0m     \u001b[1;33m@\u001b[0m\u001b[0mif_delegate_has_method\u001b[0m\u001b[1;33m(\u001b[0m\u001b[0mdelegate\u001b[0m\u001b[1;33m=\u001b[0m\u001b[1;33m(\u001b[0m\u001b[1;34m'best_estimator_'\u001b[0m\u001b[1;33m,\u001b[0m \u001b[1;34m'estimator'\u001b[0m\u001b[1;33m)\u001b[0m\u001b[1;33m)\u001b[0m\u001b[1;33m\u001b[0m\u001b[1;33m\u001b[0m\u001b[0m\n",
      "\u001b[1;32m~\\AppData\\Local\\Continuum\\anaconda3\\lib\\site-packages\\sklearn\\neighbors\\_classification.py\u001b[0m in \u001b[0;36mpredict\u001b[1;34m(self, X)\u001b[0m\n\u001b[0;32m    169\u001b[0m             \u001b[0mClass\u001b[0m \u001b[0mlabels\u001b[0m \u001b[1;32mfor\u001b[0m \u001b[0meach\u001b[0m \u001b[0mdata\u001b[0m \u001b[0msample\u001b[0m\u001b[1;33m.\u001b[0m\u001b[1;33m\u001b[0m\u001b[1;33m\u001b[0m\u001b[0m\n\u001b[0;32m    170\u001b[0m         \"\"\"\n\u001b[1;32m--> 171\u001b[1;33m         \u001b[0mX\u001b[0m \u001b[1;33m=\u001b[0m \u001b[0mcheck_array\u001b[0m\u001b[1;33m(\u001b[0m\u001b[0mX\u001b[0m\u001b[1;33m,\u001b[0m \u001b[0maccept_sparse\u001b[0m\u001b[1;33m=\u001b[0m\u001b[1;34m'csr'\u001b[0m\u001b[1;33m)\u001b[0m\u001b[1;33m\u001b[0m\u001b[1;33m\u001b[0m\u001b[0m\n\u001b[0m\u001b[0;32m    172\u001b[0m \u001b[1;33m\u001b[0m\u001b[0m\n\u001b[0;32m    173\u001b[0m         \u001b[0mneigh_dist\u001b[0m\u001b[1;33m,\u001b[0m \u001b[0mneigh_ind\u001b[0m \u001b[1;33m=\u001b[0m \u001b[0mself\u001b[0m\u001b[1;33m.\u001b[0m\u001b[0mkneighbors\u001b[0m\u001b[1;33m(\u001b[0m\u001b[0mX\u001b[0m\u001b[1;33m)\u001b[0m\u001b[1;33m\u001b[0m\u001b[1;33m\u001b[0m\u001b[0m\n",
      "\u001b[1;32m~\\AppData\\Local\\Continuum\\anaconda3\\lib\\site-packages\\sklearn\\utils\\validation.py\u001b[0m in \u001b[0;36mcheck_array\u001b[1;34m(array, accept_sparse, accept_large_sparse, dtype, order, copy, force_all_finite, ensure_2d, allow_nd, ensure_min_samples, ensure_min_features, warn_on_dtype, estimator)\u001b[0m\n\u001b[0;32m    529\u001b[0m                     \u001b[0marray\u001b[0m \u001b[1;33m=\u001b[0m \u001b[0marray\u001b[0m\u001b[1;33m.\u001b[0m\u001b[0mastype\u001b[0m\u001b[1;33m(\u001b[0m\u001b[0mdtype\u001b[0m\u001b[1;33m,\u001b[0m \u001b[0mcasting\u001b[0m\u001b[1;33m=\u001b[0m\u001b[1;34m\"unsafe\"\u001b[0m\u001b[1;33m,\u001b[0m \u001b[0mcopy\u001b[0m\u001b[1;33m=\u001b[0m\u001b[1;32mFalse\u001b[0m\u001b[1;33m)\u001b[0m\u001b[1;33m\u001b[0m\u001b[1;33m\u001b[0m\u001b[0m\n\u001b[0;32m    530\u001b[0m                 \u001b[1;32melse\u001b[0m\u001b[1;33m:\u001b[0m\u001b[1;33m\u001b[0m\u001b[1;33m\u001b[0m\u001b[0m\n\u001b[1;32m--> 531\u001b[1;33m                     \u001b[0marray\u001b[0m \u001b[1;33m=\u001b[0m \u001b[0mnp\u001b[0m\u001b[1;33m.\u001b[0m\u001b[0masarray\u001b[0m\u001b[1;33m(\u001b[0m\u001b[0marray\u001b[0m\u001b[1;33m,\u001b[0m \u001b[0morder\u001b[0m\u001b[1;33m=\u001b[0m\u001b[0morder\u001b[0m\u001b[1;33m,\u001b[0m \u001b[0mdtype\u001b[0m\u001b[1;33m=\u001b[0m\u001b[0mdtype\u001b[0m\u001b[1;33m)\u001b[0m\u001b[1;33m\u001b[0m\u001b[1;33m\u001b[0m\u001b[0m\n\u001b[0m\u001b[0;32m    532\u001b[0m             \u001b[1;32mexcept\u001b[0m \u001b[0mComplexWarning\u001b[0m\u001b[1;33m:\u001b[0m\u001b[1;33m\u001b[0m\u001b[1;33m\u001b[0m\u001b[0m\n\u001b[0;32m    533\u001b[0m                 raise ValueError(\"Complex data not supported\\n\"\n",
      "\u001b[1;32m~\\AppData\\Local\\Continuum\\anaconda3\\lib\\site-packages\\numpy\\core\\_asarray.py\u001b[0m in \u001b[0;36masarray\u001b[1;34m(a, dtype, order)\u001b[0m\n\u001b[0;32m     83\u001b[0m \u001b[1;33m\u001b[0m\u001b[0m\n\u001b[0;32m     84\u001b[0m     \"\"\"\n\u001b[1;32m---> 85\u001b[1;33m     \u001b[1;32mreturn\u001b[0m \u001b[0marray\u001b[0m\u001b[1;33m(\u001b[0m\u001b[0ma\u001b[0m\u001b[1;33m,\u001b[0m \u001b[0mdtype\u001b[0m\u001b[1;33m,\u001b[0m \u001b[0mcopy\u001b[0m\u001b[1;33m=\u001b[0m\u001b[1;32mFalse\u001b[0m\u001b[1;33m,\u001b[0m \u001b[0morder\u001b[0m\u001b[1;33m=\u001b[0m\u001b[0morder\u001b[0m\u001b[1;33m)\u001b[0m\u001b[1;33m\u001b[0m\u001b[1;33m\u001b[0m\u001b[0m\n\u001b[0m\u001b[0;32m     86\u001b[0m \u001b[1;33m\u001b[0m\u001b[0m\n\u001b[0;32m     87\u001b[0m \u001b[1;33m\u001b[0m\u001b[0m\n",
      "\u001b[1;32m~\\AppData\\Local\\Continuum\\anaconda3\\lib\\site-packages\\pandas\\core\\series.py\u001b[0m in \u001b[0;36m__array__\u001b[1;34m(self, dtype)\u001b[0m\n\u001b[0;32m    752\u001b[0m               dtype='datetime64[ns]')\n\u001b[0;32m    753\u001b[0m         \"\"\"\n\u001b[1;32m--> 754\u001b[1;33m         \u001b[1;32mreturn\u001b[0m \u001b[0mnp\u001b[0m\u001b[1;33m.\u001b[0m\u001b[0masarray\u001b[0m\u001b[1;33m(\u001b[0m\u001b[0mself\u001b[0m\u001b[1;33m.\u001b[0m\u001b[0marray\u001b[0m\u001b[1;33m,\u001b[0m \u001b[0mdtype\u001b[0m\u001b[1;33m)\u001b[0m\u001b[1;33m\u001b[0m\u001b[1;33m\u001b[0m\u001b[0m\n\u001b[0m\u001b[0;32m    755\u001b[0m \u001b[1;33m\u001b[0m\u001b[0m\n\u001b[0;32m    756\u001b[0m     \u001b[1;31m# ----------------------------------------------------------------------\u001b[0m\u001b[1;33m\u001b[0m\u001b[1;33m\u001b[0m\u001b[1;33m\u001b[0m\u001b[0m\n",
      "\u001b[1;32m~\\AppData\\Local\\Continuum\\anaconda3\\lib\\site-packages\\numpy\\core\\_asarray.py\u001b[0m in \u001b[0;36masarray\u001b[1;34m(a, dtype, order)\u001b[0m\n\u001b[0;32m     83\u001b[0m \u001b[1;33m\u001b[0m\u001b[0m\n\u001b[0;32m     84\u001b[0m     \"\"\"\n\u001b[1;32m---> 85\u001b[1;33m     \u001b[1;32mreturn\u001b[0m \u001b[0marray\u001b[0m\u001b[1;33m(\u001b[0m\u001b[0ma\u001b[0m\u001b[1;33m,\u001b[0m \u001b[0mdtype\u001b[0m\u001b[1;33m,\u001b[0m \u001b[0mcopy\u001b[0m\u001b[1;33m=\u001b[0m\u001b[1;32mFalse\u001b[0m\u001b[1;33m,\u001b[0m \u001b[0morder\u001b[0m\u001b[1;33m=\u001b[0m\u001b[0morder\u001b[0m\u001b[1;33m)\u001b[0m\u001b[1;33m\u001b[0m\u001b[1;33m\u001b[0m\u001b[0m\n\u001b[0m\u001b[0;32m     86\u001b[0m \u001b[1;33m\u001b[0m\u001b[0m\n\u001b[0;32m     87\u001b[0m \u001b[1;33m\u001b[0m\u001b[0m\n",
      "\u001b[1;32m~\\AppData\\Local\\Continuum\\anaconda3\\lib\\site-packages\\pandas\\core\\arrays\\numpy_.py\u001b[0m in \u001b[0;36m__array__\u001b[1;34m(self, dtype)\u001b[0m\n\u001b[0;32m    182\u001b[0m \u001b[1;33m\u001b[0m\u001b[0m\n\u001b[0;32m    183\u001b[0m     \u001b[1;32mdef\u001b[0m \u001b[0m__array__\u001b[0m\u001b[1;33m(\u001b[0m\u001b[0mself\u001b[0m\u001b[1;33m,\u001b[0m \u001b[0mdtype\u001b[0m\u001b[1;33m=\u001b[0m\u001b[1;32mNone\u001b[0m\u001b[1;33m)\u001b[0m \u001b[1;33m->\u001b[0m \u001b[0mnp\u001b[0m\u001b[1;33m.\u001b[0m\u001b[0mndarray\u001b[0m\u001b[1;33m:\u001b[0m\u001b[1;33m\u001b[0m\u001b[1;33m\u001b[0m\u001b[0m\n\u001b[1;32m--> 184\u001b[1;33m         \u001b[1;32mreturn\u001b[0m \u001b[0mnp\u001b[0m\u001b[1;33m.\u001b[0m\u001b[0masarray\u001b[0m\u001b[1;33m(\u001b[0m\u001b[0mself\u001b[0m\u001b[1;33m.\u001b[0m\u001b[0m_ndarray\u001b[0m\u001b[1;33m,\u001b[0m \u001b[0mdtype\u001b[0m\u001b[1;33m=\u001b[0m\u001b[0mdtype\u001b[0m\u001b[1;33m)\u001b[0m\u001b[1;33m\u001b[0m\u001b[1;33m\u001b[0m\u001b[0m\n\u001b[0m\u001b[0;32m    185\u001b[0m \u001b[1;33m\u001b[0m\u001b[0m\n\u001b[0;32m    186\u001b[0m     \u001b[0m_HANDLED_TYPES\u001b[0m \u001b[1;33m=\u001b[0m \u001b[1;33m(\u001b[0m\u001b[0mnp\u001b[0m\u001b[1;33m.\u001b[0m\u001b[0mndarray\u001b[0m\u001b[1;33m,\u001b[0m \u001b[0mnumbers\u001b[0m\u001b[1;33m.\u001b[0m\u001b[0mNumber\u001b[0m\u001b[1;33m)\u001b[0m\u001b[1;33m\u001b[0m\u001b[1;33m\u001b[0m\u001b[0m\n",
      "\u001b[1;32m~\\AppData\\Local\\Continuum\\anaconda3\\lib\\site-packages\\numpy\\core\\_asarray.py\u001b[0m in \u001b[0;36masarray\u001b[1;34m(a, dtype, order)\u001b[0m\n\u001b[0;32m     83\u001b[0m \u001b[1;33m\u001b[0m\u001b[0m\n\u001b[0;32m     84\u001b[0m     \"\"\"\n\u001b[1;32m---> 85\u001b[1;33m     \u001b[1;32mreturn\u001b[0m \u001b[0marray\u001b[0m\u001b[1;33m(\u001b[0m\u001b[0ma\u001b[0m\u001b[1;33m,\u001b[0m \u001b[0mdtype\u001b[0m\u001b[1;33m,\u001b[0m \u001b[0mcopy\u001b[0m\u001b[1;33m=\u001b[0m\u001b[1;32mFalse\u001b[0m\u001b[1;33m,\u001b[0m \u001b[0morder\u001b[0m\u001b[1;33m=\u001b[0m\u001b[0morder\u001b[0m\u001b[1;33m)\u001b[0m\u001b[1;33m\u001b[0m\u001b[1;33m\u001b[0m\u001b[0m\n\u001b[0m\u001b[0;32m     86\u001b[0m \u001b[1;33m\u001b[0m\u001b[0m\n\u001b[0;32m     87\u001b[0m \u001b[1;33m\u001b[0m\u001b[0m\n",
      "\u001b[1;31mValueError\u001b[0m: could not convert string to float: 'verstapt enkel verzwikt'"
     ]
    }
   ],
   "source": [
    "preds = knn_gc.predict(test_x)"
   ]
  },
  {
   "cell_type": "code",
   "execution_count": 41,
   "metadata": {},
   "outputs": [
    {
     "ename": "NameError",
     "evalue": "name 'preds' is not defined",
     "output_type": "error",
     "traceback": [
      "\u001b[1;31m---------------------------------------------------------------------------\u001b[0m",
      "\u001b[1;31mNameError\u001b[0m                                 Traceback (most recent call last)",
      "\u001b[1;32m<ipython-input-41-151937e00ca0>\u001b[0m in \u001b[0;36m<module>\u001b[1;34m\u001b[0m\n\u001b[0;32m      1\u001b[0m \u001b[1;32mfrom\u001b[0m \u001b[0msklearn\u001b[0m\u001b[1;33m.\u001b[0m\u001b[0mmetrics\u001b[0m \u001b[1;32mimport\u001b[0m \u001b[0mrecall_score\u001b[0m\u001b[1;33m,\u001b[0m \u001b[0mf1_score\u001b[0m\u001b[1;33m,\u001b[0m \u001b[0mprecision_score\u001b[0m\u001b[1;33m,\u001b[0m \u001b[0mroc_auc_score\u001b[0m\u001b[1;33m,\u001b[0m \u001b[0mconfusion_matrix\u001b[0m\u001b[1;33m\u001b[0m\u001b[1;33m\u001b[0m\u001b[0m\n\u001b[1;32m----> 2\u001b[1;33m \u001b[0mprint\u001b[0m\u001b[1;33m(\u001b[0m\u001b[1;34m\"Recall:\"\u001b[0m \u001b[1;33m+\u001b[0m \u001b[0mrecall_score\u001b[0m\u001b[1;33m(\u001b[0m\u001b[0mpreds\u001b[0m\u001b[1;33m,\u001b[0m \u001b[0mtest_y\u001b[0m\u001b[1;33m,\u001b[0m \u001b[0maverage\u001b[0m\u001b[1;33m=\u001b[0m\u001b[1;34m'macro'\u001b[0m\u001b[1;33m)\u001b[0m\u001b[1;33m.\u001b[0m\u001b[0mastype\u001b[0m\u001b[1;33m(\u001b[0m\u001b[0mstr\u001b[0m\u001b[1;33m)\u001b[0m\u001b[1;33m)\u001b[0m\u001b[1;33m\u001b[0m\u001b[1;33m\u001b[0m\u001b[0m\n\u001b[0m\u001b[0;32m      3\u001b[0m \u001b[0mprint\u001b[0m\u001b[1;33m(\u001b[0m\u001b[1;34m\"Precision:\"\u001b[0m \u001b[1;33m+\u001b[0m \u001b[0mprecision_score\u001b[0m\u001b[1;33m(\u001b[0m\u001b[0mpreds\u001b[0m\u001b[1;33m,\u001b[0m \u001b[0mtest_y\u001b[0m\u001b[1;33m,\u001b[0m \u001b[0maverage\u001b[0m\u001b[1;33m=\u001b[0m\u001b[1;34m'macro'\u001b[0m\u001b[1;33m)\u001b[0m\u001b[1;33m.\u001b[0m\u001b[0mastype\u001b[0m\u001b[1;33m(\u001b[0m\u001b[0mstr\u001b[0m\u001b[1;33m)\u001b[0m\u001b[1;33m)\u001b[0m\u001b[1;33m\u001b[0m\u001b[1;33m\u001b[0m\u001b[0m\n\u001b[0;32m      4\u001b[0m \u001b[0mprint\u001b[0m\u001b[1;33m(\u001b[0m\u001b[1;34m\"F1:\"\u001b[0m \u001b[1;33m+\u001b[0m \u001b[0mf1_score\u001b[0m\u001b[1;33m(\u001b[0m\u001b[0mpreds\u001b[0m\u001b[1;33m,\u001b[0m \u001b[0mtest_y\u001b[0m\u001b[1;33m,\u001b[0m \u001b[0maverage\u001b[0m\u001b[1;33m=\u001b[0m\u001b[1;34m'macro'\u001b[0m\u001b[1;33m)\u001b[0m\u001b[1;33m.\u001b[0m\u001b[0mastype\u001b[0m\u001b[1;33m(\u001b[0m\u001b[0mstr\u001b[0m\u001b[1;33m)\u001b[0m\u001b[1;33m)\u001b[0m\u001b[1;33m\u001b[0m\u001b[1;33m\u001b[0m\u001b[0m\n",
      "\u001b[1;31mNameError\u001b[0m: name 'preds' is not defined"
     ]
    }
   ],
   "source": [
    "\n",
    "from sklearn.metrics import recall_score, f1_score, precision_score, roc_auc_score, confusion_matrix\n",
    "print(\"Recall:\" + recall_score(preds, test_y, average='macro').astype(str))\n",
    "print(\"Precision:\" + precision_score(preds, test_y, average='macro').astype(str))\n",
    "print(\"F1:\" + f1_score(preds, test_y, average='macro').astype(str))"
   ]
  },
  {
   "cell_type": "code",
   "execution_count": 99,
   "metadata": {},
   "outputs": [],
   "source": [
    "from imblearn.pipeline import Pipeline, make_pipeline\n",
    "from imblearn.over_sampling import SMOTE\n",
    "from sklearn.model_selection import cross_val_score\n",
    "from sklearn.model_selection import KFold\n",
    "from sklearn.metrics import recall_score"
   ]
  },
  {
   "cell_type": "code",
   "execution_count": null,
   "metadata": {},
   "outputs": [],
   "source": [
    "imba_pipeline = make_pipeline(SMOTE(random_state=42), \n",
    "                              RandomForestClassifier(n_estimators=100, random_state=13))\n",
    "cross_val_score(imba_pipeline, X_train, y_train, scoring='recall', cv=kf)"
   ]
  },
  {
   "cell_type": "code",
   "execution_count": null,
   "metadata": {},
   "outputs": [],
   "source": [
    "#using gridsearch\n",
    "new_params = {'randomforestclassifier__' + key: params[key] for key in params}\n",
    "grid_imba = GridSearchCV(imba_pipeline, param_grid=new_params, cv=kf, scoring='recall',\n",
    "                        return_train_score=True)\n",
    "grid_imba.fit(X_train, y_train);"
   ]
  },
  {
   "cell_type": "code",
   "execution_count": null,
   "metadata": {},
   "outputs": [],
   "source": [
    "grid_imba.best_params_"
   ]
  },
  {
   "cell_type": "code",
   "execution_count": null,
   "metadata": {},
   "outputs": [],
   "source": [
    "grid_imba.best_score_"
   ]
  },
  {
   "cell_type": "code",
   "execution_count": null,
   "metadata": {},
   "outputs": [],
   "source": [
    "y_test_predict = grid_imba.predict(X_test)\n",
    "recall_score(y_test, y_test_predict)"
   ]
  },
  {
   "cell_type": "code",
   "execution_count": 89,
   "metadata": {},
   "outputs": [
    {
     "name": "stderr",
     "output_type": "stream",
     "text": [
      "C:\\Users\\byri\\AppData\\Local\\Continuum\\anaconda3\\lib\\site-packages\\sklearn\\model_selection\\_split.py:296: FutureWarning: Setting a random_state has no effect since shuffle is False. This will raise an error in 0.24. You should leave random_state to its default (None), or set shuffle=True.\n",
      "  FutureWarning\n"
     ]
    }
   ],
   "source": [
    "params = {\n",
    "    'n_estimators': [50, 100, 200],\n",
    "    'max_depth': [4, 6, 10, 12],\n",
    "    'random_state': [13]\n",
    "}\n",
    "kf = KFold(n_splits=5, random_state=42, shuffle=False)"
   ]
  },
  {
   "cell_type": "code",
   "execution_count": 97,
   "metadata": {},
   "outputs": [
    {
     "data": {
      "text/plain": [
       "0.7015064102564101"
      ]
     },
     "execution_count": 97,
     "metadata": {},
     "output_type": "execute_result"
    }
   ],
   "source": [
    "imba_pipeline = make_pipeline(SMOTE(random_state=42), \n",
    "                              RandomForestClassifier(n_estimators=100, random_state=13))\n",
    "cross_val_score(imba_pipeline, X, y,  cv=kf).mean()"
   ]
  },
  {
   "cell_type": "code",
   "execution_count": 94,
   "metadata": {},
   "outputs": [
    {
     "data": {
      "text/plain": [
       "GridSearchCV(cv=KFold(n_splits=5, random_state=42, shuffle=False),\n",
       "             error_score=nan,\n",
       "             estimator=Pipeline(memory=None,\n",
       "                                steps=[('smote',\n",
       "                                        SMOTE(k_neighbors=5, n_jobs=None,\n",
       "                                              random_state=42,\n",
       "                                              sampling_strategy='auto')),\n",
       "                                       ('randomforestclassifier',\n",
       "                                        RandomForestClassifier(bootstrap=True,\n",
       "                                                               ccp_alpha=0.0,\n",
       "                                                               class_weight=None,\n",
       "                                                               criterion='gini',\n",
       "                                                               max_depth=None,\n",
       "                                                               max_features='auto',...\n",
       "                                                               n_jobs=None,\n",
       "                                                               oob_score=False,\n",
       "                                                               random_state=13,\n",
       "                                                               verbose=0,\n",
       "                                                               warm_start=False))],\n",
       "                                verbose=False),\n",
       "             iid='deprecated', n_jobs=None,\n",
       "             param_grid={'randomforestclassifier__max_depth': [4, 6, 10, 12],\n",
       "                         'randomforestclassifier__n_estimators': [50, 100, 200],\n",
       "                         'randomforestclassifier__random_state': [13]},\n",
       "             pre_dispatch='2*n_jobs', refit=True, return_train_score=True,\n",
       "             scoring=None, verbose=0)"
      ]
     },
     "execution_count": 94,
     "metadata": {},
     "output_type": "execute_result"
    }
   ],
   "source": [
    "#using gridsearch\n",
    "new_params = {'randomforestclassifier__' + key: params[key] for key in params}\n",
    "grid_imba = GridSearchCV(imba_pipeline, param_grid=new_params, cv=kf,\n",
    "                        return_train_score=True)\n",
    "grid_imba.fit(X, y)"
   ]
  },
  {
   "cell_type": "code",
   "execution_count": 95,
   "metadata": {},
   "outputs": [
    {
     "data": {
      "text/plain": [
       "{'randomforestclassifier__max_depth': 12,\n",
       " 'randomforestclassifier__n_estimators': 100,\n",
       " 'randomforestclassifier__random_state': 13}"
      ]
     },
     "execution_count": 95,
     "metadata": {},
     "output_type": "execute_result"
    }
   ],
   "source": [
    "grid_imba.best_params_"
   ]
  },
  {
   "cell_type": "code",
   "execution_count": 96,
   "metadata": {},
   "outputs": [
    {
     "data": {
      "text/plain": [
       "0.6028326403326403"
      ]
     },
     "execution_count": 96,
     "metadata": {},
     "output_type": "execute_result"
    }
   ],
   "source": [
    "grid_imba.best_score_"
   ]
  },
  {
   "cell_type": "code",
   "execution_count": 102,
   "metadata": {},
   "outputs": [
    {
     "ename": "ValueError",
     "evalue": "Target is multiclass but average='binary'. Please choose another average setting, one of [None, 'micro', 'macro', 'weighted'].",
     "output_type": "error",
     "traceback": [
      "\u001b[1;31m---------------------------------------------------------------------------\u001b[0m",
      "\u001b[1;31mValueError\u001b[0m                                Traceback (most recent call last)",
      "\u001b[1;32m<ipython-input-102-0a05d0908403>\u001b[0m in \u001b[0;36m<module>\u001b[1;34m\u001b[0m\n\u001b[0;32m      1\u001b[0m \u001b[0my_test_predict\u001b[0m \u001b[1;33m=\u001b[0m \u001b[0mgrid_imba\u001b[0m\u001b[1;33m.\u001b[0m\u001b[0mpredict\u001b[0m\u001b[1;33m(\u001b[0m\u001b[0mX\u001b[0m\u001b[1;33m)\u001b[0m\u001b[1;33m\u001b[0m\u001b[1;33m\u001b[0m\u001b[0m\n\u001b[1;32m----> 2\u001b[1;33m \u001b[0mrecall_score\u001b[0m\u001b[1;33m(\u001b[0m\u001b[0my\u001b[0m\u001b[1;33m,\u001b[0m \u001b[0my_test_predict\u001b[0m\u001b[1;33m)\u001b[0m\u001b[1;33m\u001b[0m\u001b[1;33m\u001b[0m\u001b[0m\n\u001b[0m",
      "\u001b[1;32m~\\AppData\\Local\\Continuum\\anaconda3\\lib\\site-packages\\sklearn\\metrics\\_classification.py\u001b[0m in \u001b[0;36mrecall_score\u001b[1;34m(y_true, y_pred, labels, pos_label, average, sample_weight, zero_division)\u001b[0m\n\u001b[0;32m   1787\u001b[0m                                                  \u001b[0mwarn_for\u001b[0m\u001b[1;33m=\u001b[0m\u001b[1;33m(\u001b[0m\u001b[1;34m'recall'\u001b[0m\u001b[1;33m,\u001b[0m\u001b[1;33m)\u001b[0m\u001b[1;33m,\u001b[0m\u001b[1;33m\u001b[0m\u001b[1;33m\u001b[0m\u001b[0m\n\u001b[0;32m   1788\u001b[0m                                                  \u001b[0msample_weight\u001b[0m\u001b[1;33m=\u001b[0m\u001b[0msample_weight\u001b[0m\u001b[1;33m,\u001b[0m\u001b[1;33m\u001b[0m\u001b[1;33m\u001b[0m\u001b[0m\n\u001b[1;32m-> 1789\u001b[1;33m                                                  zero_division=zero_division)\n\u001b[0m\u001b[0;32m   1790\u001b[0m     \u001b[1;32mreturn\u001b[0m \u001b[0mr\u001b[0m\u001b[1;33m\u001b[0m\u001b[1;33m\u001b[0m\u001b[0m\n\u001b[0;32m   1791\u001b[0m \u001b[1;33m\u001b[0m\u001b[0m\n",
      "\u001b[1;32m~\\AppData\\Local\\Continuum\\anaconda3\\lib\\site-packages\\sklearn\\metrics\\_classification.py\u001b[0m in \u001b[0;36mprecision_recall_fscore_support\u001b[1;34m(y_true, y_pred, beta, labels, pos_label, average, warn_for, sample_weight, zero_division)\u001b[0m\n\u001b[0;32m   1482\u001b[0m         \u001b[1;32mraise\u001b[0m \u001b[0mValueError\u001b[0m\u001b[1;33m(\u001b[0m\u001b[1;34m\"beta should be >=0 in the F-beta score\"\u001b[0m\u001b[1;33m)\u001b[0m\u001b[1;33m\u001b[0m\u001b[1;33m\u001b[0m\u001b[0m\n\u001b[0;32m   1483\u001b[0m     labels = _check_set_wise_labels(y_true, y_pred, average, labels,\n\u001b[1;32m-> 1484\u001b[1;33m                                     pos_label)\n\u001b[0m\u001b[0;32m   1485\u001b[0m \u001b[1;33m\u001b[0m\u001b[0m\n\u001b[0;32m   1486\u001b[0m     \u001b[1;31m# Calculate tp_sum, pred_sum, true_sum ###\u001b[0m\u001b[1;33m\u001b[0m\u001b[1;33m\u001b[0m\u001b[1;33m\u001b[0m\u001b[0m\n",
      "\u001b[1;32m~\\AppData\\Local\\Continuum\\anaconda3\\lib\\site-packages\\sklearn\\metrics\\_classification.py\u001b[0m in \u001b[0;36m_check_set_wise_labels\u001b[1;34m(y_true, y_pred, average, labels, pos_label)\u001b[0m\n\u001b[0;32m   1314\u001b[0m             raise ValueError(\"Target is %s but average='binary'. Please \"\n\u001b[0;32m   1315\u001b[0m                              \u001b[1;34m\"choose another average setting, one of %r.\"\u001b[0m\u001b[1;33m\u001b[0m\u001b[1;33m\u001b[0m\u001b[0m\n\u001b[1;32m-> 1316\u001b[1;33m                              % (y_type, average_options))\n\u001b[0m\u001b[0;32m   1317\u001b[0m     \u001b[1;32melif\u001b[0m \u001b[0mpos_label\u001b[0m \u001b[1;32mnot\u001b[0m \u001b[1;32min\u001b[0m \u001b[1;33m(\u001b[0m\u001b[1;32mNone\u001b[0m\u001b[1;33m,\u001b[0m \u001b[1;36m1\u001b[0m\u001b[1;33m)\u001b[0m\u001b[1;33m:\u001b[0m\u001b[1;33m\u001b[0m\u001b[1;33m\u001b[0m\u001b[0m\n\u001b[0;32m   1318\u001b[0m         warnings.warn(\"Note that pos_label (set to %r) is ignored when \"\n",
      "\u001b[1;31mValueError\u001b[0m: Target is multiclass but average='binary'. Please choose another average setting, one of [None, 'micro', 'macro', 'weighted']."
     ]
    }
   ],
   "source": [
    "y_test_predict = grid_imba.predict(X)\n",
    "recall_score(y, y_test_predict)"
   ]
  },
  {
   "cell_type": "code",
   "execution_count": null,
   "metadata": {},
   "outputs": [],
   "source": [
    "example_params = {\n",
    "        'n_estimators': 100,\n",
    "        'max_depth': 5,\n",
    "        'random_state': 13\n",
    "    }\n",
    "\n",
    "def score_model(model, params, cv=None):\n",
    "    \"\"\"\n",
    "    Creates folds manually, and upsamples within each fold.\n",
    "    Returns an array of validation (recall) scores\n",
    "    \"\"\"\n",
    "    if cv is None:\n",
    "        cv = KFold(n_splits=5, random_state=42)\n",
    "\n",
    "    smoter = SMOTE(random_state=42)\n",
    "    \n",
    "    scores = []\n",
    "\n",
    "    for train_fold_index, val_fold_index in cv.split(X_train, y_train):\n",
    "        # Get the training data\n",
    "        X_train_fold, y_train_fold = X_train.iloc[train_fold_index], y_train[train_fold_index]\n",
    "        # Get the validation data\n",
    "        X_val_fold, y_val_fold = X_train.iloc[val_fold_index], y_train[val_fold_index]\n",
    "\n",
    "        # # Upsample only the data in the training section\n",
    "        # X_train_fold_upsample, y_train_fold_upsample = smoter.fit_resample(X_train_fold,\n",
    "        #                                                                    y_train_fold)\n",
    "\n",
    "        # Upsample only the data in the training section (Using Bry upsample code)\n",
    "        X_train_fold_upsample, y_train_fold_upsample = BrySample.upsample(data,x_train_fold,y_train_fold, 400)\n",
    "        \n",
    "        # Fit the model on the upsampled training data\n",
    "        model_obj = model(**params).fit(X_train_fold_upsample, y_train_fold_upsample)\n",
    "        # Score the model on the (non-upsampled) validation data\n",
    "        score = recall_score(y_val_fold, model_obj.predict(X_val_fold))\n",
    "        scores.append(score)\n",
    "    return np.array(scores)\n",
    "\n",
    "# Example of the model in action\n",
    "score_model(RandomForestClassifier, example_params, cv=kf)\n",
    "array([0.78378378, 0.76315789, 0.96875   , 0.81481481, 0.90243902])\n",
    "We can even do grid search this way by looping over the parameters. As a reminder, the parameter combinations we tried earlier were\n",
    "\n",
    "params\n",
    "{'n_estimators': [50, 100, 200],\n",
    " 'max_depth': [4, 6, 10, 12],\n",
    " 'random_state': [13]}\n",
    "This loop tries all combinations, and stores the average recall score on the validation sets:\n",
    "\n",
    "score_tracker = []\n",
    "for n_estimators in params['n_estimators']:\n",
    "    for max_depth in params['max_depth']:\n",
    "        example_params = {\n",
    "            'n_estimators': n_estimators,\n",
    "            'max_depth': max_depth,\n",
    "            'random_state': 13\n",
    "        }\n",
    "        example_params['recall'] = score_model(RandomForestClassifier, \n",
    "                                               example_params, cv=kf).mean()\n",
    "        score_tracker.append(example_params)\n",
    "        \n",
    "# What's the best model?\n",
    "sorted(score_tracker, key=lambda x: x['recall'], reverse=True)[0]"
   ]
  },
  {
   "cell_type": "code",
   "execution_count": 111,
   "metadata": {},
   "outputs": [
    {
     "ename": "KeyError",
     "evalue": "'Passing list-likes to .loc or [] with any missing labels is no longer supported, see https://pandas.pydata.org/pandas-docs/stable/user_guide/indexing.html#deprecate-loc-reindex-listlike'",
     "output_type": "error",
     "traceback": [
      "\u001b[1;31m---------------------------------------------------------------------------\u001b[0m",
      "\u001b[1;31mKeyError\u001b[0m                                  Traceback (most recent call last)",
      "\u001b[1;32m<ipython-input-111-4477248dda9f>\u001b[0m in \u001b[0;36m<module>\u001b[1;34m\u001b[0m\n\u001b[0;32m     34\u001b[0m \u001b[1;33m\u001b[0m\u001b[0m\n\u001b[0;32m     35\u001b[0m \u001b[1;31m# Example of the model in action\u001b[0m\u001b[1;33m\u001b[0m\u001b[1;33m\u001b[0m\u001b[1;33m\u001b[0m\u001b[0m\n\u001b[1;32m---> 36\u001b[1;33m \u001b[0mscore_model\u001b[0m\u001b[1;33m(\u001b[0m\u001b[0mRandomForestClassifier\u001b[0m\u001b[1;33m,\u001b[0m \u001b[0mexample_params\u001b[0m\u001b[1;33m,\u001b[0m \u001b[0mcv\u001b[0m\u001b[1;33m=\u001b[0m\u001b[0mkf\u001b[0m\u001b[1;33m)\u001b[0m\u001b[1;33m\u001b[0m\u001b[1;33m\u001b[0m\u001b[0m\n\u001b[0m\u001b[0;32m     37\u001b[0m \u001b[1;31m# array([0.78378378, 0.76315789, 0.96875   , 0.81481481, 0.90243902])\u001b[0m\u001b[1;33m\u001b[0m\u001b[1;33m\u001b[0m\u001b[1;33m\u001b[0m\u001b[0m\n\u001b[0;32m     38\u001b[0m \u001b[1;31m# We can even do grid search this way by looping over the parameters. As a reminder, the parameter combinations we tried earlier were\u001b[0m\u001b[1;33m\u001b[0m\u001b[1;33m\u001b[0m\u001b[1;33m\u001b[0m\u001b[0m\n",
      "\u001b[1;32m<ipython-input-111-4477248dda9f>\u001b[0m in \u001b[0;36mscore_model\u001b[1;34m(model, params, cv)\u001b[0m\n\u001b[0;32m     19\u001b[0m     \u001b[1;32mfor\u001b[0m \u001b[0mtrain_fold_index\u001b[0m\u001b[1;33m,\u001b[0m \u001b[0mval_fold_index\u001b[0m \u001b[1;32min\u001b[0m \u001b[0mcv\u001b[0m\u001b[1;33m.\u001b[0m\u001b[0msplit\u001b[0m\u001b[1;33m(\u001b[0m\u001b[0mX\u001b[0m\u001b[1;33m,\u001b[0m \u001b[0my\u001b[0m\u001b[1;33m)\u001b[0m\u001b[1;33m:\u001b[0m\u001b[1;33m\u001b[0m\u001b[1;33m\u001b[0m\u001b[0m\n\u001b[0;32m     20\u001b[0m         \u001b[1;31m# Get the training data\u001b[0m\u001b[1;33m\u001b[0m\u001b[1;33m\u001b[0m\u001b[1;33m\u001b[0m\u001b[0m\n\u001b[1;32m---> 21\u001b[1;33m         \u001b[0mX_train_fold\u001b[0m\u001b[1;33m,\u001b[0m \u001b[0my_train_fold\u001b[0m \u001b[1;33m=\u001b[0m \u001b[0mX\u001b[0m\u001b[1;33m[\u001b[0m\u001b[0mtrain_fold_index\u001b[0m\u001b[1;33m]\u001b[0m\u001b[1;33m,\u001b[0m \u001b[0my\u001b[0m\u001b[1;33m[\u001b[0m\u001b[0mtrain_fold_index\u001b[0m\u001b[1;33m]\u001b[0m\u001b[1;33m\u001b[0m\u001b[1;33m\u001b[0m\u001b[0m\n\u001b[0m\u001b[0;32m     22\u001b[0m         \u001b[1;31m# Get the validation data\u001b[0m\u001b[1;33m\u001b[0m\u001b[1;33m\u001b[0m\u001b[1;33m\u001b[0m\u001b[0m\n\u001b[0;32m     23\u001b[0m         \u001b[0mX_val_fold\u001b[0m\u001b[1;33m,\u001b[0m \u001b[0my_val_fold\u001b[0m \u001b[1;33m=\u001b[0m \u001b[0mX\u001b[0m\u001b[1;33m[\u001b[0m\u001b[0mval_fold_index\u001b[0m\u001b[1;33m]\u001b[0m\u001b[1;33m,\u001b[0m \u001b[0my\u001b[0m\u001b[1;33m[\u001b[0m\u001b[0mval_fold_index\u001b[0m\u001b[1;33m]\u001b[0m\u001b[1;33m\u001b[0m\u001b[1;33m\u001b[0m\u001b[0m\n",
      "\u001b[1;32m~\\AppData\\Local\\Continuum\\anaconda3\\lib\\site-packages\\pandas\\core\\series.py\u001b[0m in \u001b[0;36m__getitem__\u001b[1;34m(self, key)\u001b[0m\n\u001b[0;32m    908\u001b[0m             \u001b[0mkey\u001b[0m \u001b[1;33m=\u001b[0m \u001b[0mcheck_bool_indexer\u001b[0m\u001b[1;33m(\u001b[0m\u001b[0mself\u001b[0m\u001b[1;33m.\u001b[0m\u001b[0mindex\u001b[0m\u001b[1;33m,\u001b[0m \u001b[0mkey\u001b[0m\u001b[1;33m)\u001b[0m\u001b[1;33m\u001b[0m\u001b[1;33m\u001b[0m\u001b[0m\n\u001b[0;32m    909\u001b[0m \u001b[1;33m\u001b[0m\u001b[0m\n\u001b[1;32m--> 910\u001b[1;33m         \u001b[1;32mreturn\u001b[0m \u001b[0mself\u001b[0m\u001b[1;33m.\u001b[0m\u001b[0m_get_with\u001b[0m\u001b[1;33m(\u001b[0m\u001b[0mkey\u001b[0m\u001b[1;33m)\u001b[0m\u001b[1;33m\u001b[0m\u001b[1;33m\u001b[0m\u001b[0m\n\u001b[0m\u001b[0;32m    911\u001b[0m \u001b[1;33m\u001b[0m\u001b[0m\n\u001b[0;32m    912\u001b[0m     \u001b[1;32mdef\u001b[0m \u001b[0m_get_with\u001b[0m\u001b[1;33m(\u001b[0m\u001b[0mself\u001b[0m\u001b[1;33m,\u001b[0m \u001b[0mkey\u001b[0m\u001b[1;33m)\u001b[0m\u001b[1;33m:\u001b[0m\u001b[1;33m\u001b[0m\u001b[1;33m\u001b[0m\u001b[0m\n",
      "\u001b[1;32m~\\AppData\\Local\\Continuum\\anaconda3\\lib\\site-packages\\pandas\\core\\series.py\u001b[0m in \u001b[0;36m_get_with\u001b[1;34m(self, key)\u001b[0m\n\u001b[0;32m    941\u001b[0m         \u001b[1;32mif\u001b[0m \u001b[0mkey_type\u001b[0m \u001b[1;33m==\u001b[0m \u001b[1;34m\"integer\"\u001b[0m\u001b[1;33m:\u001b[0m\u001b[1;33m\u001b[0m\u001b[1;33m\u001b[0m\u001b[0m\n\u001b[0;32m    942\u001b[0m             \u001b[1;32mif\u001b[0m \u001b[0mself\u001b[0m\u001b[1;33m.\u001b[0m\u001b[0mindex\u001b[0m\u001b[1;33m.\u001b[0m\u001b[0mis_integer\u001b[0m\u001b[1;33m(\u001b[0m\u001b[1;33m)\u001b[0m \u001b[1;32mor\u001b[0m \u001b[0mself\u001b[0m\u001b[1;33m.\u001b[0m\u001b[0mindex\u001b[0m\u001b[1;33m.\u001b[0m\u001b[0mis_floating\u001b[0m\u001b[1;33m(\u001b[0m\u001b[1;33m)\u001b[0m\u001b[1;33m:\u001b[0m\u001b[1;33m\u001b[0m\u001b[1;33m\u001b[0m\u001b[0m\n\u001b[1;32m--> 943\u001b[1;33m                 \u001b[1;32mreturn\u001b[0m \u001b[0mself\u001b[0m\u001b[1;33m.\u001b[0m\u001b[0mloc\u001b[0m\u001b[1;33m[\u001b[0m\u001b[0mkey\u001b[0m\u001b[1;33m]\u001b[0m\u001b[1;33m\u001b[0m\u001b[1;33m\u001b[0m\u001b[0m\n\u001b[0m\u001b[0;32m    944\u001b[0m             \u001b[1;32melse\u001b[0m\u001b[1;33m:\u001b[0m\u001b[1;33m\u001b[0m\u001b[1;33m\u001b[0m\u001b[0m\n\u001b[0;32m    945\u001b[0m                 \u001b[1;32mreturn\u001b[0m \u001b[0mself\u001b[0m\u001b[1;33m.\u001b[0m\u001b[0m_get_values\u001b[0m\u001b[1;33m(\u001b[0m\u001b[0mkey\u001b[0m\u001b[1;33m)\u001b[0m\u001b[1;33m\u001b[0m\u001b[1;33m\u001b[0m\u001b[0m\n",
      "\u001b[1;32m~\\AppData\\Local\\Continuum\\anaconda3\\lib\\site-packages\\pandas\\core\\indexing.py\u001b[0m in \u001b[0;36m__getitem__\u001b[1;34m(self, key)\u001b[0m\n\u001b[0;32m   1766\u001b[0m \u001b[1;33m\u001b[0m\u001b[0m\n\u001b[0;32m   1767\u001b[0m             \u001b[0mmaybe_callable\u001b[0m \u001b[1;33m=\u001b[0m \u001b[0mcom\u001b[0m\u001b[1;33m.\u001b[0m\u001b[0mapply_if_callable\u001b[0m\u001b[1;33m(\u001b[0m\u001b[0mkey\u001b[0m\u001b[1;33m,\u001b[0m \u001b[0mself\u001b[0m\u001b[1;33m.\u001b[0m\u001b[0mobj\u001b[0m\u001b[1;33m)\u001b[0m\u001b[1;33m\u001b[0m\u001b[1;33m\u001b[0m\u001b[0m\n\u001b[1;32m-> 1768\u001b[1;33m             \u001b[1;32mreturn\u001b[0m \u001b[0mself\u001b[0m\u001b[1;33m.\u001b[0m\u001b[0m_getitem_axis\u001b[0m\u001b[1;33m(\u001b[0m\u001b[0mmaybe_callable\u001b[0m\u001b[1;33m,\u001b[0m \u001b[0maxis\u001b[0m\u001b[1;33m=\u001b[0m\u001b[0maxis\u001b[0m\u001b[1;33m)\u001b[0m\u001b[1;33m\u001b[0m\u001b[1;33m\u001b[0m\u001b[0m\n\u001b[0m\u001b[0;32m   1769\u001b[0m \u001b[1;33m\u001b[0m\u001b[0m\n\u001b[0;32m   1770\u001b[0m     \u001b[1;32mdef\u001b[0m \u001b[0m_is_scalar_access\u001b[0m\u001b[1;33m(\u001b[0m\u001b[0mself\u001b[0m\u001b[1;33m,\u001b[0m \u001b[0mkey\u001b[0m\u001b[1;33m:\u001b[0m \u001b[0mTuple\u001b[0m\u001b[1;33m)\u001b[0m\u001b[1;33m:\u001b[0m\u001b[1;33m\u001b[0m\u001b[1;33m\u001b[0m\u001b[0m\n",
      "\u001b[1;32m~\\AppData\\Local\\Continuum\\anaconda3\\lib\\site-packages\\pandas\\core\\indexing.py\u001b[0m in \u001b[0;36m_getitem_axis\u001b[1;34m(self, key, axis)\u001b[0m\n\u001b[0;32m   1952\u001b[0m                     \u001b[1;32mraise\u001b[0m \u001b[0mValueError\u001b[0m\u001b[1;33m(\u001b[0m\u001b[1;34m\"Cannot index with multidimensional key\"\u001b[0m\u001b[1;33m)\u001b[0m\u001b[1;33m\u001b[0m\u001b[1;33m\u001b[0m\u001b[0m\n\u001b[0;32m   1953\u001b[0m \u001b[1;33m\u001b[0m\u001b[0m\n\u001b[1;32m-> 1954\u001b[1;33m                 \u001b[1;32mreturn\u001b[0m \u001b[0mself\u001b[0m\u001b[1;33m.\u001b[0m\u001b[0m_getitem_iterable\u001b[0m\u001b[1;33m(\u001b[0m\u001b[0mkey\u001b[0m\u001b[1;33m,\u001b[0m \u001b[0maxis\u001b[0m\u001b[1;33m=\u001b[0m\u001b[0maxis\u001b[0m\u001b[1;33m)\u001b[0m\u001b[1;33m\u001b[0m\u001b[1;33m\u001b[0m\u001b[0m\n\u001b[0m\u001b[0;32m   1955\u001b[0m \u001b[1;33m\u001b[0m\u001b[0m\n\u001b[0;32m   1956\u001b[0m             \u001b[1;31m# nested tuple slicing\u001b[0m\u001b[1;33m\u001b[0m\u001b[1;33m\u001b[0m\u001b[1;33m\u001b[0m\u001b[0m\n",
      "\u001b[1;32m~\\AppData\\Local\\Continuum\\anaconda3\\lib\\site-packages\\pandas\\core\\indexing.py\u001b[0m in \u001b[0;36m_getitem_iterable\u001b[1;34m(self, key, axis)\u001b[0m\n\u001b[0;32m   1593\u001b[0m         \u001b[1;32melse\u001b[0m\u001b[1;33m:\u001b[0m\u001b[1;33m\u001b[0m\u001b[1;33m\u001b[0m\u001b[0m\n\u001b[0;32m   1594\u001b[0m             \u001b[1;31m# A collection of keys\u001b[0m\u001b[1;33m\u001b[0m\u001b[1;33m\u001b[0m\u001b[1;33m\u001b[0m\u001b[0m\n\u001b[1;32m-> 1595\u001b[1;33m             \u001b[0mkeyarr\u001b[0m\u001b[1;33m,\u001b[0m \u001b[0mindexer\u001b[0m \u001b[1;33m=\u001b[0m \u001b[0mself\u001b[0m\u001b[1;33m.\u001b[0m\u001b[0m_get_listlike_indexer\u001b[0m\u001b[1;33m(\u001b[0m\u001b[0mkey\u001b[0m\u001b[1;33m,\u001b[0m \u001b[0maxis\u001b[0m\u001b[1;33m,\u001b[0m \u001b[0mraise_missing\u001b[0m\u001b[1;33m=\u001b[0m\u001b[1;32mFalse\u001b[0m\u001b[1;33m)\u001b[0m\u001b[1;33m\u001b[0m\u001b[1;33m\u001b[0m\u001b[0m\n\u001b[0m\u001b[0;32m   1596\u001b[0m             return self.obj._reindex_with_indexers(\n\u001b[0;32m   1597\u001b[0m                 \u001b[1;33m{\u001b[0m\u001b[0maxis\u001b[0m\u001b[1;33m:\u001b[0m \u001b[1;33m[\u001b[0m\u001b[0mkeyarr\u001b[0m\u001b[1;33m,\u001b[0m \u001b[0mindexer\u001b[0m\u001b[1;33m]\u001b[0m\u001b[1;33m}\u001b[0m\u001b[1;33m,\u001b[0m \u001b[0mcopy\u001b[0m\u001b[1;33m=\u001b[0m\u001b[1;32mTrue\u001b[0m\u001b[1;33m,\u001b[0m \u001b[0mallow_dups\u001b[0m\u001b[1;33m=\u001b[0m\u001b[1;32mTrue\u001b[0m\u001b[1;33m\u001b[0m\u001b[1;33m\u001b[0m\u001b[0m\n",
      "\u001b[1;32m~\\AppData\\Local\\Continuum\\anaconda3\\lib\\site-packages\\pandas\\core\\indexing.py\u001b[0m in \u001b[0;36m_get_listlike_indexer\u001b[1;34m(self, key, axis, raise_missing)\u001b[0m\n\u001b[0;32m   1551\u001b[0m \u001b[1;33m\u001b[0m\u001b[0m\n\u001b[0;32m   1552\u001b[0m         self._validate_read_indexer(\n\u001b[1;32m-> 1553\u001b[1;33m             \u001b[0mkeyarr\u001b[0m\u001b[1;33m,\u001b[0m \u001b[0mindexer\u001b[0m\u001b[1;33m,\u001b[0m \u001b[0mo\u001b[0m\u001b[1;33m.\u001b[0m\u001b[0m_get_axis_number\u001b[0m\u001b[1;33m(\u001b[0m\u001b[0maxis\u001b[0m\u001b[1;33m)\u001b[0m\u001b[1;33m,\u001b[0m \u001b[0mraise_missing\u001b[0m\u001b[1;33m=\u001b[0m\u001b[0mraise_missing\u001b[0m\u001b[1;33m\u001b[0m\u001b[1;33m\u001b[0m\u001b[0m\n\u001b[0m\u001b[0;32m   1554\u001b[0m         )\n\u001b[0;32m   1555\u001b[0m         \u001b[1;32mreturn\u001b[0m \u001b[0mkeyarr\u001b[0m\u001b[1;33m,\u001b[0m \u001b[0mindexer\u001b[0m\u001b[1;33m\u001b[0m\u001b[1;33m\u001b[0m\u001b[0m\n",
      "\u001b[1;32m~\\AppData\\Local\\Continuum\\anaconda3\\lib\\site-packages\\pandas\\core\\indexing.py\u001b[0m in \u001b[0;36m_validate_read_indexer\u001b[1;34m(self, key, indexer, axis, raise_missing)\u001b[0m\n\u001b[0;32m   1653\u001b[0m             \u001b[1;32mif\u001b[0m \u001b[1;32mnot\u001b[0m \u001b[1;33m(\u001b[0m\u001b[0max\u001b[0m\u001b[1;33m.\u001b[0m\u001b[0mis_categorical\u001b[0m\u001b[1;33m(\u001b[0m\u001b[1;33m)\u001b[0m \u001b[1;32mor\u001b[0m \u001b[0max\u001b[0m\u001b[1;33m.\u001b[0m\u001b[0mis_interval\u001b[0m\u001b[1;33m(\u001b[0m\u001b[1;33m)\u001b[0m\u001b[1;33m)\u001b[0m\u001b[1;33m:\u001b[0m\u001b[1;33m\u001b[0m\u001b[1;33m\u001b[0m\u001b[0m\n\u001b[0;32m   1654\u001b[0m                 raise KeyError(\n\u001b[1;32m-> 1655\u001b[1;33m                     \u001b[1;34m\"Passing list-likes to .loc or [] with any missing labels \"\u001b[0m\u001b[1;33m\u001b[0m\u001b[1;33m\u001b[0m\u001b[0m\n\u001b[0m\u001b[0;32m   1656\u001b[0m                     \u001b[1;34m\"is no longer supported, see \"\u001b[0m\u001b[1;33m\u001b[0m\u001b[1;33m\u001b[0m\u001b[0m\n\u001b[0;32m   1657\u001b[0m                     \u001b[1;34m\"https://pandas.pydata.org/pandas-docs/stable/user_guide/indexing.html#deprecate-loc-reindex-listlike\"\u001b[0m  \u001b[1;31m# noqa:E501\u001b[0m\u001b[1;33m\u001b[0m\u001b[1;33m\u001b[0m\u001b[0m\n",
      "\u001b[1;31mKeyError\u001b[0m: 'Passing list-likes to .loc or [] with any missing labels is no longer supported, see https://pandas.pydata.org/pandas-docs/stable/user_guide/indexing.html#deprecate-loc-reindex-listlike'"
     ]
    }
   ],
   "source": [
    "example_params = {\n",
    "        'n_estimators': 100,\n",
    "        'max_depth': 5,\n",
    "        'random_state': 13\n",
    "    }\n",
    "\n",
    "def score_model(model, params, cv=None):\n",
    "    \"\"\"\n",
    "    Creates folds manually, and upsamples within each fold.\n",
    "    Returns an array of validation (recall) scores\n",
    "    \"\"\"\n",
    "    if cv is None:\n",
    "        cv = KFold(n_splits=5, random_state=42)\n",
    "\n",
    "    smoter = sampled_df\n",
    "    \n",
    "    scores = []\n",
    "\n",
    "    for train_fold_index, val_fold_index in cv.split(X, y):\n",
    "        # Get the training data\n",
    "        X_train_fold, y_train_fold = X[train_fold_index], y[train_fold_index]\n",
    "        # Get the validation data\n",
    "        X_val_fold, y_val_fold = X[val_fold_index], y[val_fold_index]\n",
    "\n",
    "        # # Upsample only the data in the training section\n",
    "        # X_train_fold_upsample, y_train_fold_upsample = smoter.fit_resample(X_train_fold,\n",
    "        #                                                                    y_train_fold)\n",
    "\n",
    "        # Upsample only the data in the training section (Using Bry upsample code)\n",
    "        X_train_fold_upsample, y_train_fold_upsample = BrySample.upsample(data,x_train_fold,y_train_fold, 400)\n",
    "        \n",
    "        # Fit the model on the upsampled training data\n",
    "        model_obj = model(**params).fit(X_train_fold_upsample, y_train_fold_upsample)\n",
    "        # Score the model on the (non-upsampled) validation data\n",
    "        score = recall_score(y_val_fold, model_obj.predict(X_val_fold))\n",
    "        scores.append(score)\n",
    "    return np.array(scores)\n",
    "\n",
    "# Example of the model in action\n",
    "score_model(RandomForestClassifier, example_params, cv=kf)\n",
    "# array([0.78378378, 0.76315789, 0.96875   , 0.81481481, 0.90243902])\n",
    "# We can even do grid search this way by looping over the parameters. As a reminder, the parameter combinations we tried earlier were\n",
    "\n"
   ]
  },
  {
   "cell_type": "code",
   "execution_count": 110,
   "metadata": {},
   "outputs": [
    {
     "ename": "SyntaxError",
     "evalue": "invalid syntax (<ipython-input-110-c727afa9a18c>, line 5)",
     "output_type": "error",
     "traceback": [
      "\u001b[1;36m  File \u001b[1;32m\"<ipython-input-110-c727afa9a18c>\"\u001b[1;36m, line \u001b[1;32m5\u001b[0m\n\u001b[1;33m    This loop tries all combinations, and stores the average recall score on the validation sets:\u001b[0m\n\u001b[1;37m            ^\u001b[0m\n\u001b[1;31mSyntaxError\u001b[0m\u001b[1;31m:\u001b[0m invalid syntax\n"
     ]
    }
   ],
   "source": [
    "params\n",
    "{'n_estimators': [50, 100, 200],\n",
    " 'max_depth': [4, 6, 10, 12],\n",
    " 'random_state': [13]}\n",
    "This loop tries all combinations, and stores the average recall score on the validation sets:\n",
    "\n",
    "score_tracker = []\n",
    "for n_estimators in params['n_estimators']:\n",
    "    for max_depth in params['max_depth']:\n",
    "        example_params = {\n",
    "            'n_estimators': n_estimators,\n",
    "            'max_depth': max_depth,\n",
    "            'random_state': 13\n",
    "        }\n",
    "        example_params['recall'] = score_model(RandomForestClassifier, \n",
    "                                               example_params, cv=kf).mean()\n",
    "        score_tracker.append(example_params)\n",
    "        \n",
    "# What's the best model?\n",
    "sorted(score_tracker, key=lambda x: x['recall'], reverse=True)[0]"
   ]
  },
  {
   "cell_type": "code",
   "execution_count": null,
   "metadata": {},
   "outputs": [],
   "source": []
  }
 ],
 "metadata": {
  "kernelspec": {
   "display_name": "Python 3",
   "language": "python",
   "name": "python3"
  },
  "language_info": {
   "codemirror_mode": {
    "name": "ipython",
    "version": 3
   },
   "file_extension": ".py",
   "mimetype": "text/x-python",
   "name": "python",
   "nbconvert_exporter": "python",
   "pygments_lexer": "ipython3",
   "version": "3.7.4-final"
  }
 },
 "nbformat": 4,
 "nbformat_minor": 4
}