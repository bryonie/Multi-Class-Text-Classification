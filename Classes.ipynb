{
 "cells": [
  {
   "cell_type": "markdown",
   "metadata": {},
   "source": [
    "# A File of classes and methods, either to be implemented somewhere or just to test out"
   ]
  },
  {
   "cell_type": "markdown",
   "metadata": {},
   "source": [
    "## Bryonie sampling class"
   ]
  },
  {
   "cell_type": "code",
   "execution_count": 8,
   "metadata": {},
   "outputs": [],
   "source": [
    "class BrySample:\n",
    "    import pandas as pd\n",
    "\n",
    "    @staticmethod\n",
    "    def upsample(data_df, x, y, charlen = 400):\n",
    "        x_up, y_up = [], []\n",
    "        for xcat, ycat in zip(x.unique(), y.unique()):\n",
    "            xtemp = data_df[x == xcat]\n",
    "            ytemp = data_df[y == ycat]\n",
    "            xs = charlen if xtemp.shape[0] < charlen else xtemp.shape[0] # Upsample t\n",
    "            ys = charlen if ytemp.shape[0] < charlen else ytemp.shape[0] # Upsample t\n",
    "            xtemp = xtemp.sample(xs, replace=True).reset_index(drop=True)\n",
    "            ytemp = ytemp.sample(ys, replace=True).reset_index(drop=True)\n",
    "            x_up.append(xtemp)\n",
    "            y_up.append(ytemp)\n",
    "\n",
    "        X_Up = pd.concat(x_up).reset_index(drop=True) #pd.Series(x_up)\n",
    "        Y_Up = pd.concat(y_up).reset_index(drop=True) #pd.Series(y_up)\n",
    "\n",
    "        return X_Up,Y_Up\n",
    "\n",
    "    @staticmethod\n",
    "    def downsample():\n",
    "        print(\"Not Yet\")"
   ]
  },
  {
   "cell_type": "code",
   "execution_count": 6,
   "metadata": {},
   "outputs": [
    {
     "output_type": "stream",
     "name": "stdout",
     "text": "1\na\n2\nb\n3\nc\n4\nd\n"
    }
   ],
   "source": [
    "x_up, y_up = [], []\n",
    "x = [1,2,3,4]\n",
    "y = ['a','b','c','d']\n",
    "\n",
    "for i,a in zip(x,y):\n",
    "    print(i)\n",
    "    print(a)"
   ]
  },
  {
   "cell_type": "code",
   "execution_count": null,
   "metadata": {},
   "outputs": [],
   "source": []
  }
 ],
 "metadata": {
  "language_info": {
   "codemirror_mode": {
    "name": "ipython",
    "version": 3
   },
   "file_extension": ".py",
   "mimetype": "text/x-python",
   "name": "python",
   "nbconvert_exporter": "python",
   "pygments_lexer": "ipython3",
   "version": "3.7.4-final"
  },
  "orig_nbformat": 2,
  "kernelspec": {
   "name": "python37464bit7f6d5ef80ac84f0dbc4f0d76a489c0fa",
   "display_name": "Python 3.7.4 64-bit"
  }
 },
 "nbformat": 4,
 "nbformat_minor": 2
}